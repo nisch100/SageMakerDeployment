{
 "cells": [
  {
   "cell_type": "markdown",
   "metadata": {},
   "source": [
    "# Creating a Sentiment Analysis Web App\n",
    "## Using PyTorch and SageMaker\n",
    "\n",
    "_Deep Learning Nanodegree Program | Deployment_\n",
    "\n",
    "---\n",
    "\n",
    "Now that we have a basic understanding of how SageMaker works we will try to use it to construct a complete project from end to end. Our goal will be to have a simple web page which a user can use to enter a movie review. The web page will then send the review off to our deployed model which will predict the sentiment of the entered review.\n",
    "\n",
    "## Instructions\n",
    "\n",
    "Some template code has already been provided for you, and you will need to implement additional functionality to successfully complete this notebook. You will not need to modify the included code beyond what is requested. Sections that begin with '**TODO**' in the header indicate that you need to complete or implement some portion within them. Instructions will be provided for each section and the specifics of the implementation are marked in the code block with a `# TODO: ...` comment. Please be sure to read the instructions carefully!\n",
    "\n",
    "In addition to implementing code, there will be questions for you to answer which relate to the task and your implementation. Each section where you will answer a question is preceded by a '**Question:**' header. Carefully read each question and provide your answer below the '**Answer:**' header by editing the Markdown cell.\n",
    "\n",
    "> **Note**: Code and Markdown cells can be executed using the **Shift+Enter** keyboard shortcut. In addition, a cell can be edited by typically clicking it (double-click for Markdown cells) or by pressing **Enter** while it is highlighted.\n",
    "\n",
    "## General Outline\n",
    "\n",
    "Recall the general outline for SageMaker projects using a notebook instance.\n",
    "\n",
    "1. Download or otherwise retrieve the data.\n",
    "2. Process / Prepare the data.\n",
    "3. Upload the processed data to S3.\n",
    "4. Train a chosen model.\n",
    "5. Test the trained model (typically using a batch transform job).\n",
    "6. Deploy the trained model.\n",
    "7. Use the deployed model.\n",
    "\n",
    "For this project, you will be following the steps in the general outline with some modifications. \n",
    "\n",
    "First, you will not be testing the model in its own step. You will still be testing the model, however, you will do it by deploying your model and then using the deployed model by sending the test data to it. One of the reasons for doing this is so that you can make sure that your deployed model is working correctly before moving forward.\n",
    "\n",
    "In addition, you will deploy and use your trained model a second time. In the second iteration you will customize the way that your trained model is deployed by including some of your own code. In addition, your newly deployed model will be used in the sentiment analysis web app."
   ]
  },
  {
   "cell_type": "code",
   "execution_count": 68,
   "metadata": {},
   "outputs": [
    {
     "name": "stdout",
     "output_type": "stream",
     "text": [
      "Requirement already satisfied: sagemaker==1.72.0 in /home/ec2-user/anaconda3/envs/pytorch_p36/lib/python3.6/site-packages (1.72.0)\n",
      "Requirement already satisfied: protobuf>=3.1 in /home/ec2-user/anaconda3/envs/pytorch_p36/lib/python3.6/site-packages (from sagemaker==1.72.0) (3.15.2)\n",
      "Requirement already satisfied: importlib-metadata>=1.4.0 in /home/ec2-user/anaconda3/envs/pytorch_p36/lib/python3.6/site-packages (from sagemaker==1.72.0) (3.7.0)\n",
      "Requirement already satisfied: numpy>=1.9.0 in /home/ec2-user/anaconda3/envs/pytorch_p36/lib/python3.6/site-packages (from sagemaker==1.72.0) (1.19.5)\n",
      "Requirement already satisfied: boto3>=1.14.12 in /home/ec2-user/anaconda3/envs/pytorch_p36/lib/python3.6/site-packages (from sagemaker==1.72.0) (1.17.27)\n",
      "Requirement already satisfied: scipy>=0.19.0 in /home/ec2-user/anaconda3/envs/pytorch_p36/lib/python3.6/site-packages (from sagemaker==1.72.0) (1.5.3)\n",
      "Requirement already satisfied: packaging>=20.0 in /home/ec2-user/anaconda3/envs/pytorch_p36/lib/python3.6/site-packages (from sagemaker==1.72.0) (20.9)\n",
      "Requirement already satisfied: smdebug-rulesconfig==0.1.4 in /home/ec2-user/anaconda3/envs/pytorch_p36/lib/python3.6/site-packages (from sagemaker==1.72.0) (0.1.4)\n",
      "Requirement already satisfied: protobuf3-to-dict>=0.1.5 in /home/ec2-user/anaconda3/envs/pytorch_p36/lib/python3.6/site-packages (from sagemaker==1.72.0) (0.1.5)\n",
      "Requirement already satisfied: s3transfer<0.4.0,>=0.3.0 in /home/ec2-user/anaconda3/envs/pytorch_p36/lib/python3.6/site-packages (from boto3>=1.14.12->sagemaker==1.72.0) (0.3.4)\n",
      "Requirement already satisfied: botocore<1.21.0,>=1.20.27 in /home/ec2-user/anaconda3/envs/pytorch_p36/lib/python3.6/site-packages (from boto3>=1.14.12->sagemaker==1.72.0) (1.20.27)\n",
      "Requirement already satisfied: jmespath<1.0.0,>=0.7.1 in /home/ec2-user/anaconda3/envs/pytorch_p36/lib/python3.6/site-packages (from boto3>=1.14.12->sagemaker==1.72.0) (0.10.0)\n",
      "Requirement already satisfied: urllib3<1.27,>=1.25.4 in /home/ec2-user/anaconda3/envs/pytorch_p36/lib/python3.6/site-packages (from botocore<1.21.0,>=1.20.27->boto3>=1.14.12->sagemaker==1.72.0) (1.26.3)\n",
      "Requirement already satisfied: python-dateutil<3.0.0,>=2.1 in /home/ec2-user/anaconda3/envs/pytorch_p36/lib/python3.6/site-packages (from botocore<1.21.0,>=1.20.27->boto3>=1.14.12->sagemaker==1.72.0) (2.8.1)\n",
      "Requirement already satisfied: typing-extensions>=3.6.4 in /home/ec2-user/anaconda3/envs/pytorch_p36/lib/python3.6/site-packages (from importlib-metadata>=1.4.0->sagemaker==1.72.0) (3.7.4.3)\n",
      "Requirement already satisfied: zipp>=0.5 in /home/ec2-user/anaconda3/envs/pytorch_p36/lib/python3.6/site-packages (from importlib-metadata>=1.4.0->sagemaker==1.72.0) (3.4.0)\n",
      "Requirement already satisfied: pyparsing>=2.0.2 in /home/ec2-user/anaconda3/envs/pytorch_p36/lib/python3.6/site-packages (from packaging>=20.0->sagemaker==1.72.0) (2.4.7)\n",
      "Requirement already satisfied: six>=1.9 in /home/ec2-user/anaconda3/envs/pytorch_p36/lib/python3.6/site-packages (from protobuf>=3.1->sagemaker==1.72.0) (1.15.0)\n"
     ]
    }
   ],
   "source": [
    "# Make sure that we use SageMaker 1.x\n",
    "!pip install sagemaker==1.72.0"
   ]
  },
  {
   "cell_type": "markdown",
   "metadata": {},
   "source": [
    "## Step 1: Downloading the data\n",
    "\n",
    "As in the XGBoost in SageMaker notebook, we will be using the [IMDb dataset](http://ai.stanford.edu/~amaas/data/sentiment/)\n",
    "\n",
    "> Maas, Andrew L., et al. [Learning Word Vectors for Sentiment Analysis](http://ai.stanford.edu/~amaas/data/sentiment/). In _Proceedings of the 49th Annual Meeting of the Association for Computational Linguistics: Human Language Technologies_. Association for Computational Linguistics, 2011."
   ]
  },
  {
   "cell_type": "code",
   "execution_count": 69,
   "metadata": {},
   "outputs": [
    {
     "name": "stdout",
     "output_type": "stream",
     "text": [
      "mkdir: cannot create directory ‘../data’: File exists\n",
      "--2021-03-17 15:54:47--  http://ai.stanford.edu/~amaas/data/sentiment/aclImdb_v1.tar.gz\n",
      "Resolving ai.stanford.edu (ai.stanford.edu)... 171.64.68.10\n",
      "Connecting to ai.stanford.edu (ai.stanford.edu)|171.64.68.10|:80... connected.\n",
      "HTTP request sent, awaiting response... 200 OK\n",
      "Length: 84125825 (80M) [application/x-gzip]\n",
      "Saving to: ‘../data/aclImdb_v1.tar.gz’\n",
      "\n",
      "../data/aclImdb_v1. 100%[===================>]  80.23M  25.2MB/s    in 3.3s    \n",
      "\n",
      "2021-03-17 15:54:51 (24.0 MB/s) - ‘../data/aclImdb_v1.tar.gz’ saved [84125825/84125825]\n",
      "\n"
     ]
    }
   ],
   "source": [
    "%mkdir ../data\n",
    "!wget -O ../data/aclImdb_v1.tar.gz http://ai.stanford.edu/~amaas/data/sentiment/aclImdb_v1.tar.gz\n",
    "!tar -zxf ../data/aclImdb_v1.tar.gz -C ../data"
   ]
  },
  {
   "cell_type": "markdown",
   "metadata": {},
   "source": [
    "## Step 2: Preparing and Processing the data\n",
    "\n",
    "Also, as in the XGBoost notebook, we will be doing some initial data processing. The first few steps are the same as in the XGBoost example. To begin with, we will read in each of the reviews and combine them into a single input structure. Then, we will split the dataset into a training set and a testing set."
   ]
  },
  {
   "cell_type": "code",
   "execution_count": 70,
   "metadata": {},
   "outputs": [],
   "source": [
    "import os\n",
    "import glob\n",
    "\n",
    "def read_imdb_data(data_dir='../data/aclImdb'):\n",
    "    data = {}\n",
    "    labels = {}\n",
    "    \n",
    "    for data_type in ['train', 'test']:\n",
    "        data[data_type] = {}\n",
    "        labels[data_type] = {}\n",
    "        \n",
    "        for sentiment in ['pos', 'neg']:\n",
    "            data[data_type][sentiment] = []\n",
    "            labels[data_type][sentiment] = []\n",
    "            \n",
    "            path = os.path.join(data_dir, data_type, sentiment, '*.txt')\n",
    "            files = glob.glob(path)\n",
    "            \n",
    "            for f in files:\n",
    "                with open(f) as review:\n",
    "                    data[data_type][sentiment].append(review.read())\n",
    "                    # Here we represent a positive review by '1' and a negative review by '0'\n",
    "                    labels[data_type][sentiment].append(1 if sentiment == 'pos' else 0)\n",
    "                    \n",
    "            assert len(data[data_type][sentiment]) == len(labels[data_type][sentiment]), \\\n",
    "                    \"{}/{} data size does not match labels size\".format(data_type, sentiment)\n",
    "                \n",
    "    return data, labels"
   ]
  },
  {
   "cell_type": "code",
   "execution_count": 71,
   "metadata": {},
   "outputs": [
    {
     "name": "stdout",
     "output_type": "stream",
     "text": [
      "IMDB reviews: train = 12500 pos / 12500 neg, test = 12500 pos / 12500 neg\n"
     ]
    }
   ],
   "source": [
    "data, labels = read_imdb_data()\n",
    "print(\"IMDB reviews: train = {} pos / {} neg, test = {} pos / {} neg\".format(\n",
    "            len(data['train']['pos']), len(data['train']['neg']),\n",
    "            len(data['test']['pos']), len(data['test']['neg'])))"
   ]
  },
  {
   "cell_type": "markdown",
   "metadata": {},
   "source": [
    "Now that we've read the raw training and testing data from the downloaded dataset, we will combine the positive and negative reviews and shuffle the resulting records."
   ]
  },
  {
   "cell_type": "code",
   "execution_count": 72,
   "metadata": {},
   "outputs": [],
   "source": [
    "from sklearn.utils import shuffle\n",
    "\n",
    "def prepare_imdb_data(data, labels):\n",
    "    \"\"\"Prepare training and test sets from IMDb movie reviews.\"\"\"\n",
    "    \n",
    "    #Combine positive and negative reviews and labels\n",
    "    data_train = data['train']['pos'] + data['train']['neg']\n",
    "    data_test = data['test']['pos'] + data['test']['neg']\n",
    "    labels_train = labels['train']['pos'] + labels['train']['neg']\n",
    "    labels_test = labels['test']['pos'] + labels['test']['neg']\n",
    "    \n",
    "    #Shuffle reviews and corresponding labels within training and test sets\n",
    "    data_train, labels_train = shuffle(data_train, labels_train)\n",
    "    data_test, labels_test = shuffle(data_test, labels_test)\n",
    "    \n",
    "    # Return a unified training data, test data, training labels, test labets\n",
    "    return data_train, data_test, labels_train, labels_test"
   ]
  },
  {
   "cell_type": "code",
   "execution_count": 73,
   "metadata": {},
   "outputs": [
    {
     "name": "stdout",
     "output_type": "stream",
     "text": [
      "IMDb reviews (combined): train = 25000, test = 25000\n"
     ]
    }
   ],
   "source": [
    "train_X, test_X, train_y, test_y = prepare_imdb_data(data, labels)\n",
    "print(\"IMDb reviews (combined): train = {}, test = {}\".format(len(train_X), len(test_X)))"
   ]
  },
  {
   "cell_type": "markdown",
   "metadata": {},
   "source": [
    "Now that we have our training and testing sets unified and prepared, we should do a quick check and see an example of the data our model will be trained on. This is generally a good idea as it allows you to see how each of the further processing steps affects the reviews and it also ensures that the data has been loaded correctly."
   ]
  },
  {
   "cell_type": "code",
   "execution_count": 74,
   "metadata": {},
   "outputs": [
    {
     "name": "stdout",
     "output_type": "stream",
     "text": [
      "I rented this movie on DVD. I knew that the movie wouldn't live up to what it promised me on the back of the case, but once I saw that Leatherface (Gunnar Hansen) was in it, I had to rent it. It starts off pretty good, with the premise being that snuff films are being aired over cable. However, the main character has nothing about her to make you feel sorry for her whatsoever, and the end of the movie really leaves you hanging. There are way too many unanswered questions. There was a great scene at the end that totally took me by surprise, but overall this is a very sub par movie, but I guess it was worth the $ 3.99 rental fee.\n",
      "0\n"
     ]
    }
   ],
   "source": [
    "print(train_X[100])\n",
    "print(train_y[100])"
   ]
  },
  {
   "cell_type": "markdown",
   "metadata": {},
   "source": [
    "The first step in processing the reviews is to make sure that any html tags that appear should be removed. In addition we wish to tokenize our input, that way words such as *entertained* and *entertaining* are considered the same with regard to sentiment analysis."
   ]
  },
  {
   "cell_type": "code",
   "execution_count": 75,
   "metadata": {},
   "outputs": [],
   "source": [
    "import nltk\n",
    "from nltk.corpus import stopwords\n",
    "from nltk.stem.porter import *\n",
    "\n",
    "import re\n",
    "from bs4 import BeautifulSoup\n",
    "\n",
    "def review_to_words(review):\n",
    "    nltk.download(\"stopwords\", quiet=True)\n",
    "    stemmer = PorterStemmer()\n",
    "    \n",
    "    text = BeautifulSoup(review, \"html.parser\").get_text() # Remove HTML tags\n",
    "    text = re.sub(r\"[^a-zA-Z0-9]\", \" \", text.lower()) # Convert to lower case\n",
    "    words = text.split() # Split string into words\n",
    "    words = [w for w in words if w not in stopwords.words(\"english\")] # Remove stopwords\n",
    "    words = [PorterStemmer().stem(w) for w in words] # stem\n",
    "    \n",
    "    return words"
   ]
  },
  {
   "cell_type": "markdown",
   "metadata": {},
   "source": [
    "The `review_to_words` method defined above uses `BeautifulSoup` to remove any html tags that appear and uses the `nltk` package to tokenize the reviews. As a check to ensure we know how everything is working, try applying `review_to_words` to one of the reviews in the training set."
   ]
  },
  {
   "cell_type": "code",
   "execution_count": 76,
   "metadata": {
    "scrolled": true
   },
   "outputs": [
    {
     "data": {
      "text/plain": [
       "['rent',\n",
       " 'movi',\n",
       " 'dvd',\n",
       " 'knew',\n",
       " 'movi',\n",
       " 'live',\n",
       " 'promis',\n",
       " 'back',\n",
       " 'case',\n",
       " 'saw',\n",
       " 'leatherfac',\n",
       " 'gunnar',\n",
       " 'hansen',\n",
       " 'rent',\n",
       " 'start',\n",
       " 'pretti',\n",
       " 'good',\n",
       " 'premis',\n",
       " 'snuff',\n",
       " 'film',\n",
       " 'air',\n",
       " 'cabl',\n",
       " 'howev',\n",
       " 'main',\n",
       " 'charact',\n",
       " 'noth',\n",
       " 'make',\n",
       " 'feel',\n",
       " 'sorri',\n",
       " 'whatsoev',\n",
       " 'end',\n",
       " 'movi',\n",
       " 'realli',\n",
       " 'leav',\n",
       " 'hang',\n",
       " 'way',\n",
       " 'mani',\n",
       " 'unansw',\n",
       " 'question',\n",
       " 'great',\n",
       " 'scene',\n",
       " 'end',\n",
       " 'total',\n",
       " 'took',\n",
       " 'surpris',\n",
       " 'overal',\n",
       " 'sub',\n",
       " 'par',\n",
       " 'movi',\n",
       " 'guess',\n",
       " 'worth',\n",
       " '3',\n",
       " '99',\n",
       " 'rental',\n",
       " 'fee']"
      ]
     },
     "execution_count": 76,
     "metadata": {},
     "output_type": "execute_result"
    }
   ],
   "source": [
    "# TODO: Apply review_to_words to a review (train_X[100] or any other review)\n",
    "review_to_words(train_X[100])"
   ]
  },
  {
   "cell_type": "markdown",
   "metadata": {},
   "source": [
    "**Question:** Above we mentioned that `review_to_words` method removes html formatting and allows us to tokenize the words found in a review, for example, converting *entertained* and *entertaining* into *entertain* so that they are treated as though they are the same word. What else, if anything, does this method do to the input?"
   ]
  },
  {
   "cell_type": "markdown",
   "metadata": {},
   "source": [
    "**Answer:** \n",
    "It works on removing\n",
    "\n",
    " i) HTML code blocks in text\n",
    " ii) Non alphanumeric character\n",
    " iii) Converts text to lower\n",
    " iv) Split the sentences of each reviewe into words\n",
    " v) Stem the words that will be used for training our data"
   ]
  },
  {
   "cell_type": "markdown",
   "metadata": {},
   "source": [
    "The method below applies the `review_to_words` method to each of the reviews in the training and testing datasets. In addition it caches the results. This is because performing this processing step can take a long time. This way if you are unable to complete the notebook in the current session, you can come back without needing to process the data a second time."
   ]
  },
  {
   "cell_type": "code",
   "execution_count": 77,
   "metadata": {},
   "outputs": [],
   "source": [
    "import pickle\n",
    "\n",
    "cache_dir = os.path.join(\"../cache\", \"sentiment_analysis\")  # where to store cache files\n",
    "os.makedirs(cache_dir, exist_ok=True)  # ensure cache directory exists\n",
    "\n",
    "def preprocess_data(data_train, data_test, labels_train, labels_test,\n",
    "                    cache_dir=cache_dir, cache_file=\"preprocessed_data.pkl\"):\n",
    "    \"\"\"Convert each review to words; read from cache if available.\"\"\"\n",
    "\n",
    "    # If cache_file is not None, try to read from it first\n",
    "    cache_data = None\n",
    "    if cache_file is not None:\n",
    "        try:\n",
    "            with open(os.path.join(cache_dir, cache_file), \"rb\") as f:\n",
    "                cache_data = pickle.load(f)\n",
    "            print(\"Read preprocessed data from cache file:\", cache_file)\n",
    "        except:\n",
    "            pass  # unable to read from cache, but that's okay\n",
    "    \n",
    "    # If cache is missing, then do the heavy lifting\n",
    "    if cache_data is None:\n",
    "        # Preprocess training and test data to obtain words for each review\n",
    "        #words_train = list(map(review_to_words, data_train))\n",
    "        #words_test = list(map(review_to_words, data_test))\n",
    "        words_train = [review_to_words(review) for review in data_train]\n",
    "        words_test = [review_to_words(review) for review in data_test]\n",
    "        \n",
    "        # Write to cache file for future runs\n",
    "        if cache_file is not None:\n",
    "            cache_data = dict(words_train=words_train, words_test=words_test,\n",
    "                              labels_train=labels_train, labels_test=labels_test)\n",
    "            with open(os.path.join(cache_dir, cache_file), \"wb\") as f:\n",
    "                pickle.dump(cache_data, f)\n",
    "            print(\"Wrote preprocessed data to cache file:\", cache_file)\n",
    "    else:\n",
    "        # Unpack data loaded from cache file\n",
    "        words_train, words_test, labels_train, labels_test = (cache_data['words_train'],\n",
    "                cache_data['words_test'], cache_data['labels_train'], cache_data['labels_test'])\n",
    "    \n",
    "    return words_train, words_test, labels_train, labels_test"
   ]
  },
  {
   "cell_type": "code",
   "execution_count": 78,
   "metadata": {},
   "outputs": [
    {
     "name": "stdout",
     "output_type": "stream",
     "text": [
      "Read preprocessed data from cache file: preprocessed_data.pkl\n"
     ]
    }
   ],
   "source": [
    "# Preprocess data\n",
    "train_X, test_X, train_y, test_y = preprocess_data(train_X, test_X, train_y, test_y)"
   ]
  },
  {
   "cell_type": "markdown",
   "metadata": {},
   "source": [
    "## Transform the data\n",
    "\n",
    "In the XGBoost notebook we transformed the data from its word representation to a bag-of-words feature representation. For the model we are going to construct in this notebook we will construct a feature representation which is very similar. To start, we will represent each word as an integer. Of course, some of the words that appear in the reviews occur very infrequently and so likely don't contain much information for the purposes of sentiment analysis. The way we will deal with this problem is that we will fix the size of our working vocabulary and we will only include the words that appear most frequently. We will then combine all of the infrequent words into a single category and, in our case, we will label it as `1`.\n",
    "\n",
    "Since we will be using a recurrent neural network, it will be convenient if the length of each review is the same. To do this, we will fix a size for our reviews and then pad short reviews with the category 'no word' (which we will label `0`) and truncate long reviews."
   ]
  },
  {
   "cell_type": "markdown",
   "metadata": {},
   "source": [
    "### (TODO) Create a word dictionary\n",
    "\n",
    "To begin with, we need to construct a way to map words that appear in the reviews to integers. Here we fix the size of our vocabulary (including the 'no word' and 'infrequent' categories) to be `5000` but you may wish to change this to see how it affects the model.\n",
    "\n",
    "> **TODO:** Complete the implementation for the `build_dict()` method below. Note that even though the vocab_size is set to `5000`, we only want to construct a mapping for the most frequently appearing `4998` words. This is because we want to reserve the special labels `0` for 'no word' and `1` for 'infrequent word'."
   ]
  },
  {
   "cell_type": "code",
   "execution_count": 79,
   "metadata": {},
   "outputs": [],
   "source": [
    "import numpy as np\n",
    "import operator\n",
    "def build_dict(data, vocab_size = 5000):\n",
    "    \"\"\"Construct and return a dictionary mapping each of the most frequently appearing words to a unique integer.\"\"\"\n",
    "    \n",
    "    # TODO: Determine how often each word appears in `data`. Note that `data` is a list of sentences and that a\n",
    "    #       sentence is a list of words.\n",
    "    \n",
    "    word_count = {} # A dict storing the words that appear in the reviews along with how often they occur\n",
    "    for sample in data:\n",
    "        for i in sample:\n",
    "            if i not in word_count:\n",
    "                word_count[i] = 1\n",
    "            word_count[i]+=1\n",
    "    \n",
    "    # TODO: Sort the words found in `data` so that sorted_words[0] is the most frequently appearing word and\n",
    "    #       sorted_words[-1] is the least frequently appearing word.\n",
    "    \n",
    "    sorted_words = None\n",
    "    get = sorted(word_count.items(), key=operator.itemgetter(1),reverse=True)\n",
    "    sorted_words = [i[0] for i in get]\n",
    "    \n",
    "    word_dict = {} # This is what we are building, a dictionary that translates words into integers\n",
    "    for idx, word in enumerate(sorted_words[:vocab_size - 2]): # The -2 is so that we save room for the 'no word'\n",
    "        word_dict[word] = idx + 2                              # 'infrequent' labels\n",
    "        \n",
    "    return word_dict"
   ]
  },
  {
   "cell_type": "code",
   "execution_count": 80,
   "metadata": {},
   "outputs": [],
   "source": [
    "word_dict = build_dict(train_X)"
   ]
  },
  {
   "cell_type": "markdown",
   "metadata": {},
   "source": [
    "**Question:** What are the five most frequently appearing (tokenized) words in the training set? Does it makes sense that these words appear frequently in the training set?"
   ]
  },
  {
   "cell_type": "markdown",
   "metadata": {},
   "source": [
    "**Answer:**"
   ]
  },
  {
   "cell_type": "code",
   "execution_count": 81,
   "metadata": {},
   "outputs": [
    {
     "name": "stdout",
     "output_type": "stream",
     "text": [
      "{'movi': 2, 'film': 3, 'one': 4, 'like': 5, 'time': 6, 'good': 7, 'make': 8, 'charact': 9, 'get': 10, 'see': 11, 'watch': 12, 'stori': 13, 'even': 14, 'would': 15, 'realli': 16, 'well': 17, 'scene': 18, 'look': 19, 'show': 20, 'much': 21, 'end': 22, 'peopl': 23, 'bad': 24, 'go': 25, 'great': 26, 'also': 27, 'first': 28, 'love': 29, 'think': 30, 'way': 31, 'act': 32, 'play': 33, 'made': 34, 'thing': 35, 'could': 36, 'know': 37, 'say': 38, 'seem': 39, 'work': 40, 'plot': 41, 'two': 42, 'actor': 43, 'year': 44, 'come': 45, 'mani': 46, 'seen': 47, 'take': 48, 'life': 49, 'want': 50, 'never': 51, 'littl': 52, 'best': 53, 'tri': 54, 'man': 55, 'ever': 56, 'give': 57, 'better': 58, 'still': 59, 'perform': 60, 'find': 61, 'feel': 62, 'part': 63, 'back': 64, 'use': 65, 'someth': 66, 'director': 67, 'actual': 68, 'interest': 69, 'lot': 70, 'real': 71, 'old': 72, 'cast': 73, 'though': 74, 'live': 75, 'star': 76, 'enjoy': 77, 'guy': 78, 'anoth': 79, 'new': 80, 'role': 81, 'noth': 82, '10': 83, 'funni': 84, 'music': 85, 'point': 86, 'start': 87, 'set': 88, 'girl': 89, 'origin': 90, 'day': 91, 'world': 92, 'everi': 93, 'believ': 94, 'turn': 95, 'quit': 96, 'direct': 97, 'us': 98, 'thought': 99, 'fact': 100, 'minut': 101, 'horror': 102, 'kill': 103, 'action': 104, 'comedi': 105, 'pretti': 106, 'young': 107, 'wonder': 108, 'happen': 109, 'around': 110, 'got': 111, 'effect': 112, 'right': 113, 'long': 114, 'howev': 115, 'big': 116, 'line': 117, 'famili': 118, 'enough': 119, 'seri': 120, 'may': 121, 'need': 122, 'fan': 123, 'bit': 124, 'script': 125, 'beauti': 126, 'person': 127, 'becom': 128, 'without': 129, 'must': 130, 'alway': 131, 'friend': 132, 'tell': 133, 'reason': 134, 'saw': 135, 'last': 136, 'final': 137, 'kid': 138, 'almost': 139, 'put': 140, 'least': 141, 'sure': 142, 'done': 143, 'whole': 144, 'place': 145, 'complet': 146, 'kind': 147, 'expect': 148, 'differ': 149, 'shot': 150, 'far': 151, 'mean': 152, 'anyth': 153, 'book': 154, 'laugh': 155, 'might': 156, 'name': 157, 'sinc': 158, 'begin': 159, '2': 160, 'probabl': 161, 'woman': 162, 'help': 163, 'entertain': 164, 'let': 165, 'screen': 166, 'call': 167, 'tv': 168, 'moment': 169, 'away': 170, 'read': 171, 'yet': 172, 'rather': 173, 'worst': 174, 'run': 175, 'fun': 176, 'lead': 177, 'hard': 178, 'audienc': 179, 'idea': 180, 'anyon': 181, 'episod': 182, 'american': 183, 'found': 184, 'appear': 185, 'bore': 186, 'especi': 187, 'although': 188, 'hope': 189, 'cours': 190, 'keep': 191, 'anim': 192, 'job': 193, 'goe': 194, 'move': 195, 'sens': 196, 'dvd': 197, 'version': 198, 'war': 199, 'money': 200, 'someon': 201, 'mind': 202, 'mayb': 203, 'problem': 204, 'true': 205, 'hous': 206, 'everyth': 207, 'nice': 208, 'second': 209, 'rate': 210, 'three': 211, 'night': 212, 'face': 213, 'follow': 214, 'recommend': 215, 'main': 216, 'product': 217, 'worth': 218, 'leav': 219, 'human': 220, 'special': 221, 'excel': 222, 'togeth': 223, 'wast': 224, 'everyon': 225, 'sound': 226, 'john': 227, 'hand': 228, '1': 229, 'father': 230, 'later': 231, 'eye': 232, 'said': 233, 'view': 234, 'instead': 235, 'review': 236, 'boy': 237, 'high': 238, 'hour': 239, 'miss': 240, 'talk': 241, 'classic': 242, 'wife': 243, 'understand': 244, 'left': 245, 'care': 246, 'black': 247, 'death': 248, 'open': 249, 'murder': 250, 'write': 251, 'half': 252, 'head': 253, 'rememb': 254, 'chang': 255, 'viewer': 256, 'fight': 257, 'gener': 258, 'surpris': 259, 'includ': 260, 'short': 261, 'die': 262, 'fall': 263, 'less': 264, 'els': 265, 'entir': 266, 'piec': 267, 'involv': 268, 'pictur': 269, 'simpli': 270, 'home': 271, 'top': 272, 'power': 273, 'total': 274, 'usual': 275, 'budget': 276, 'attempt': 277, 'suppos': 278, 'releas': 279, 'hollywood': 280, 'terribl': 281, 'song': 282, 'men': 283, 'possibl': 284, 'featur': 285, 'portray': 286, 'disappoint': 287, 'poor': 288, '3': 289, 'coupl': 290, 'stupid': 291, 'camera': 292, 'dead': 293, 'wrong': 294, 'produc': 295, 'low': 296, 'either': 297, 'video': 298, 'aw': 299, 'definit': 300, 'except': 301, 'rest': 302, 'given': 303, 'absolut': 304, 'women': 305, 'lack': 306, 'word': 307, 'writer': 308, 'titl': 309, 'talent': 310, 'decid': 311, 'full': 312, 'perfect': 313, 'along': 314, 'style': 315, 'close': 316, 'truli': 317, 'school': 318, 'emot': 319, 'save': 320, 'sex': 321, 'age': 322, 'next': 323, 'bring': 324, 'mr': 325, 'case': 326, 'killer': 327, 'heart': 328, 'comment': 329, 'sort': 330, 'creat': 331, 'perhap': 332, 'came': 333, 'brother': 334, 'sever': 335, 'joke': 336, 'art': 337, 'dialogu': 338, 'game': 339, 'small': 340, 'base': 341, 'flick': 342, 'written': 343, 'sequenc': 344, 'meet': 345, 'earli': 346, 'often': 347, 'other': 348, 'mother': 349, 'develop': 350, 'humor': 351, 'actress': 352, 'consid': 353, 'dark': 354, 'guess': 355, 'amaz': 356, 'unfortun': 357, 'light': 358, 'lost': 359, 'exampl': 360, 'cinema': 361, 'drama': 362, 'white': 363, 'ye': 364, 'experi': 365, 'imagin': 366, 'mention': 367, 'stop': 368, 'natur': 369, 'forc': 370, 'manag': 371, 'felt': 372, 'cut': 373, 'present': 374, 'children': 375, 'fail': 376, 'son': 377, 'car': 378, 'qualiti': 379, 'support': 380, 'ask': 381, 'hit': 382, 'side': 383, 'voic': 384, 'extrem': 385, 'impress': 386, 'wors': 387, 'evil': 388, 'stand': 389, 'went': 390, 'certainli': 391, 'basic': 392, 'oh': 393, 'overal': 394, 'favorit': 395, 'horribl': 396, 'mysteri': 397, 'number': 398, 'type': 399, 'danc': 400, 'wait': 401, 'hero': 402, '5': 403, 'alreadi': 404, 'learn': 405, 'matter': 406, '4': 407, 'michael': 408, 'genr': 409, 'fine': 410, 'despit': 411, 'throughout': 412, 'walk': 413, 'success': 414, 'histori': 415, 'question': 416, 'zombi': 417, 'town': 418, 'realiz': 419, 'relationship': 420, 'child': 421, 'past': 422, 'daughter': 423, 'late': 424, 'b': 425, 'wish': 426, 'hate': 427, 'credit': 428, 'event': 429, 'theme': 430, 'touch': 431, 'citi': 432, 'today': 433, 'sometim': 434, 'behind': 435, 'god': 436, 'twist': 437, 'sit': 438, 'deal': 439, 'stay': 440, 'annoy': 441, 'abl': 442, 'rent': 443, 'pleas': 444, 'edit': 445, 'blood': 446, 'deserv': 447, 'anyway': 448, 'comic': 449, 'appar': 450, 'soon': 451, 'gave': 452, 'etc': 453, 'level': 454, 'slow': 455, 'chanc': 456, 'score': 457, 'bodi': 458, 'brilliant': 459, 'incred': 460, 'figur': 461, 'situat': 462, 'major': 463, 'self': 464, 'stuff': 465, 'decent': 466, 'element': 467, 'dream': 468, 'return': 469, 'obvious': 470, 'order': 471, 'continu': 472, 'pace': 473, 'ridicul': 474, 'happi': 475, 'group': 476, 'add': 477, 'highli': 478, 'thank': 479, 'ladi': 480, 'novel': 481, 'pain': 482, 'speak': 483, 'career': 484, 'shoot': 485, 'strang': 486, 'heard': 487, 'sad': 488, 'husband': 489, 'polic': 490, 'import': 491, 'break': 492, 'took': 493, 'strong': 494, 'cannot': 495, 'robert': 496, 'predict': 497, 'violenc': 498, 'hilari': 499, 'recent': 500, 'countri': 501, 'known': 502, 'particularli': 503, 'pick': 504, 'documentari': 505, 'season': 506, 'critic': 507, 'jame': 508, 'compar': 509, 'obviou': 510, 'alon': 511, 'told': 512, 'state': 513, 'rock': 514, 'visual': 515, 'offer': 516, 'theater': 517, 'exist': 518, 'opinion': 519, 'gore': 520, 'hold': 521, 'crap': 522, 'result': 523, 'room': 524, 'realiti': 525, 'hear': 526, 'effort': 527, 'clich': 528, 'thriller': 529, 'caus': 530, 'sequel': 531, 'serious': 532, 'explain': 533, 'king': 534, 'local': 535, 'ago': 536, 'none': 537, 'hell': 538, 'note': 539, 'allow': 540, 'sister': 541, 'david': 542, 'simpl': 543, 'femal': 544, 'deliv': 545, 'ok': 546, 'class': 547, 'convinc': 548, 'check': 549, 'suspens': 550, 'win': 551, 'buy': 552, 'oscar': 553, 'huge': 554, 'valu': 555, 'sexual': 556, 'scari': 557, 'cool': 558, 'excit': 559, 'similar': 560, 'exactli': 561, 'provid': 562, 'apart': 563, 'shown': 564, 'avoid': 565, 'seriou': 566, 'english': 567, 'whose': 568, 'taken': 569, 'cinematographi': 570, 'shock': 571, 'polit': 572, 'spoiler': 573, 'offic': 574, 'across': 575, 'middl': 576, 'street': 577, 'pass': 578, 'messag': 579, 'charm': 580, 'silli': 581, 'somewhat': 582, 'modern': 583, 'filmmak': 584, 'confus': 585, 'form': 586, 'tale': 587, 'singl': 588, 'jack': 589, 'mostli': 590, 'carri': 591, 'william': 592, 'attent': 593, 'sing': 594, 'five': 595, 'subject': 596, 'prove': 597, 'richard': 598, 'team': 599, 'stage': 600, 'unlik': 601, 'cop': 602, 'georg': 603, 'televis': 604, 'monster': 605, 'earth': 606, 'villain': 607, 'cover': 608, 'pay': 609, 'marri': 610, 'toward': 611, 'build': 612, 'parent': 613, 'pull': 614, 'due': 615, 'respect': 616, 'fill': 617, 'four': 618, 'dialog': 619, 'remind': 620, 'futur': 621, 'weak': 622, 'typic': 623, '7': 624, 'cheap': 625, 'intellig': 626, 'atmospher': 627, 'british': 628, '80': 629, 'clearli': 630, 'paul': 631, 'dog': 632, 'non': 633, '8': 634, 'fast': 635, 'knew': 636, 'artist': 637, 'crime': 638, 'easili': 639, 'escap': 640, 'doubt': 641, 'adult': 642, 'detail': 643, 'date': 644, 'romant': 645, 'member': 646, 'fire': 647, 'drive': 648, 'gun': 649, 'straight': 650, 'fit': 651, 'beyond': 652, 'attack': 653, 'imag': 654, 'upon': 655, 'posit': 656, 'whether': 657, 'fantast': 658, 'peter': 659, 'appreci': 660, 'captur': 661, 'aspect': 662, 'ten': 663, 'plan': 664, 'discov': 665, 'remain': 666, 'period': 667, 'near': 668, 'air': 669, 'realist': 670, 'mark': 671, 'red': 672, 'dull': 673, 'adapt': 674, 'within': 675, 'spend': 676, 'lose': 677, 'materi': 678, 'color': 679, 'chase': 680, 'mari': 681, 'storylin': 682, 'forget': 683, 'bunch': 684, 'clear': 685, 'lee': 686, 'victim': 687, 'nearli': 688, 'box': 689, 'york': 690, 'match': 691, 'inspir': 692, 'finish': 693, 'mess': 694, 'standard': 695, 'easi': 696, 'truth': 697, 'busi': 698, 'suffer': 699, 'bill': 700, 'dramat': 701, 'space': 702, 'western': 703, 'e': 704, 'list': 705, 'battl': 706, 'notic': 707, 'de': 708, 'french': 709, 'ad': 710, '9': 711, 'tom': 712, 'larg': 713, 'among': 714, 'eventu': 715, 'train': 716, 'accept': 717, 'agre': 718, 'spirit': 719, 'soundtrack': 720, 'third': 721, 'teenag': 722, 'adventur': 723, 'soldier': 724, 'sorri': 725, 'famou': 726, 'suggest': 727, 'drug': 728, 'normal': 729, 'cri': 730, 'babi': 731, 'troubl': 732, 'ultim': 733, 'contain': 734, 'certain': 735, 'cultur': 736, 'romanc': 737, 'rare': 738, 'lame': 739, 'somehow': 740, 'mix': 741, 'disney': 742, 'gone': 743, 'cartoon': 744, 'student': 745, 'fear': 746, 'reveal': 747, 'kept': 748, 'suck': 749, 'attract': 750, 'appeal': 751, 'premis': 752, 'design': 753, 'greatest': 754, 'secret': 755, 'shame': 756, 'throw': 757, 'copi': 758, 'scare': 759, 'wit': 760, 'america': 761, 'admit': 762, 'brought': 763, 'particular': 764, 'relat': 765, 'screenplay': 766, 'whatev': 767, 'pure': 768, '70': 769, 'averag': 770, 'harri': 771, 'master': 772, 'describ': 773, 'male': 774, 'treat': 775, '20': 776, 'fantasi': 777, 'issu': 778, 'warn': 779, 'inde': 780, 'forward': 781, 'background': 782, 'free': 783, 'project': 784, 'memor': 785, 'japanes': 786, 'poorli': 787, 'award': 788, 'locat': 789, 'potenti': 790, 'amus': 791, 'struggl': 792, 'weird': 793, 'magic': 794, 'societi': 795, 'okay': 796, 'imdb': 797, 'doctor': 798, 'accent': 799, 'water': 800, 'hot': 801, 'express': 802, '30': 803, 'alien': 804, 'dr': 805, 'odd': 806, 'choic': 807, 'crazi': 808, 'fiction': 809, 'studio': 810, 'becam': 811, 'control': 812, 'masterpiec': 813, 'fli': 814, 'difficult': 815, 'joe': 816, 'scream': 817, 'costum': 818, 'lover': 819, 'refer': 820, 'uniqu': 821, 'remak': 822, 'girlfriend': 823, 'vampir': 824, 'prison': 825, 'execut': 826, 'wear': 827, 'jump': 828, 'unless': 829, 'wood': 830, 'creepi': 831, 'cheesi': 832, 'superb': 833, 'otherwis': 834, 'parti': 835, 'roll': 836, 'ghost': 837, 'public': 838, 'mad': 839, 'depict': 840, 'week': 841, 'earlier': 842, 'moral': 843, 'badli': 844, 'jane': 845, 'dumb': 846, 'fi': 847, 'grow': 848, 'flaw': 849, 'deep': 850, 'sci': 851, 'maker': 852, 'cat': 853, 'footag': 854, 'connect': 855, 'older': 856, 'plenti': 857, 'bother': 858, 'outsid': 859, 'stick': 860, 'gay': 861, 'catch': 862, 'co': 863, 'plu': 864, 'popular': 865, 'equal': 866, 'social': 867, 'disturb': 868, 'quickli': 869, 'perfectli': 870, 'dress': 871, '90': 872, 'era': 873, 'mistak': 874, 'lie': 875, 'previou': 876, 'ride': 877, 'combin': 878, 'band': 879, 'concept': 880, 'answer': 881, 'rich': 882, 'surviv': 883, 'front': 884, 'christma': 885, 'sweet': 886, 'insid': 887, 'concern': 888, 'bare': 889, 'eat': 890, 'listen': 891, 'ben': 892, 'beat': 893, 'c': 894, 'serv': 895, 'term': 896, 'german': 897, 'la': 898, 'meant': 899, 'stereotyp': 900, 'hardli': 901, 'law': 902, 'innoc': 903, 'desper': 904, 'promis': 905, 'memori': 906, 'cute': 907, 'intent': 908, 'steal': 909, 'inform': 910, 'variou': 911, 'brain': 912, 'post': 913, 'tone': 914, 'island': 915, 'amount': 916, 'compani': 917, 'track': 918, 'nuditi': 919, 'store': 920, 'claim': 921, 'hair': 922, '50': 923, 'flat': 924, 'land': 925, 'univers': 926, 'danger': 927, 'fairli': 928, 'scott': 929, 'kick': 930, 'player': 931, 'step': 932, 'plain': 933, 'crew': 934, 'toni': 935, 'share': 936, 'tast': 937, 'centuri': 938, 'achiev': 939, 'engag': 940, 'travel': 941, 'cold': 942, 'record': 943, 'suit': 944, 'rip': 945, 'manner': 946, 'sadli': 947, 'wrote': 948, 'spot': 949, 'tension': 950, 'intens': 951, 'fascin': 952, 'familiar': 953, 'depth': 954, 'burn': 955, 'remark': 956, 'destroy': 957, 'histor': 958, 'sleep': 959, 'purpos': 960, 'languag': 961, 'ruin': 962, 'ignor': 963, 'delight': 964, 'unbeliev': 965, 'italian': 966, 'soul': 967, 'collect': 968, 'abil': 969, 'detect': 970, 'clever': 971, 'violent': 972, 'rape': 973, 'reach': 974, 'door': 975, 'trash': 976, 'scienc': 977, 'liter': 978, 'caught': 979, 'commun': 980, 'reveng': 981, 'creatur': 982, 'approach': 983, 'trip': 984, 'intrigu': 985, 'fashion': 986, 'introduc': 987, 'skill': 988, 'paint': 989, 'complex': 990, 'channel': 991, 'camp': 992, 'christian': 993, 'extra': 994, 'hole': 995, 'mental': 996, 'ann': 997, 'limit': 998, 'immedi': 999, 'comput': 1000, '6': 1001, 'million': 1002, 'slightli': 1003, 'mere': 1004, 'conclus': 1005, 'slasher': 1006, 'imposs': 1007, 'suddenli': 1008, 'neither': 1009, 'teen': 1010, 'crimin': 1011, 'spent': 1012, 'nation': 1013, 'physic': 1014, 'respons': 1015, 'planet': 1016, 'receiv': 1017, 'fake': 1018, 'blue': 1019, 'sick': 1020, 'bizarr': 1021, 'embarrass': 1022, 'indian': 1023, '15': 1024, 'ring': 1025, 'pop': 1026, 'drop': 1027, 'drag': 1028, 'haunt': 1029, 'suspect': 1030, 'pointless': 1031, 'search': 1032, 'edg': 1033, 'handl': 1034, 'biggest': 1035, 'common': 1036, 'arriv': 1037, 'hurt': 1038, 'faith': 1039, 'technic': 1040, 'angel': 1041, 'dad': 1042, 'genuin': 1043, 'f': 1044, 'solid': 1045, 'awesom': 1046, 'van': 1047, 'former': 1048, 'focu': 1049, 'colleg': 1050, 'count': 1051, 'heavi': 1052, 'tear': 1053, 'wall': 1054, 'rais': 1055, 'visit': 1056, 'younger': 1057, 'laughabl': 1058, 'fair': 1059, 'sign': 1060, 'excus': 1061, 'cult': 1062, 'motion': 1063, 'key': 1064, 'tough': 1065, 'super': 1066, 'desir': 1067, 'stun': 1068, 'addit': 1069, 'cloth': 1070, 'exploit': 1071, 'tortur': 1072, 'smith': 1073, 'race': 1074, 'davi': 1075, 'author': 1076, 'cross': 1077, 'jim': 1078, 'compel': 1079, 'minor': 1080, 'focus': 1081, 'consist': 1082, 'chemistri': 1083, 'commit': 1084, 'pathet': 1085, 'park': 1086, 'obsess': 1087, 'tradit': 1088, 'frank': 1089, 'grade': 1090, '60': 1091, 'asid': 1092, 'brutal': 1093, 'somewher': 1094, 'steve': 1095, 'opportun': 1096, 'u': 1097, 'depress': 1098, 'explor': 1099, 'grant': 1100, 'rule': 1101, 'besid': 1102, 'honest': 1103, 'dub': 1104, 'anti': 1105, 'trailer': 1106, 'intend': 1107, 'bar': 1108, 'west': 1109, 'scientist': 1110, 'longer': 1111, 'regard': 1112, 'decad': 1113, 'judg': 1114, 'silent': 1115, 'armi': 1116, 'creativ': 1117, 'wild': 1118, 'g': 1119, 'stewart': 1120, 'south': 1121, 'draw': 1122, 'road': 1123, 'govern': 1124, 'ex': 1125, 'boss': 1126, 'practic': 1127, 'motiv': 1128, 'surprisingli': 1129, 'club': 1130, 'festiv': 1131, 'gang': 1132, 'redeem': 1133, 'london': 1134, 'page': 1135, 'green': 1136, 'idiot': 1137, 'aliv': 1138, 'machin': 1139, 'militari': 1140, 'display': 1141, 'repeat': 1142, 'thrill': 1143, 'folk': 1144, 'nobodi': 1145, 'yeah': 1146, '100': 1147, '40': 1148, 'journey': 1149, 'garbag': 1150, 'tire': 1151, 'ground': 1152, 'smile': 1153, 'mood': 1154, 'bought': 1155, 'cost': 1156, 'stone': 1157, 'sam': 1158, 'mouth': 1159, 'noir': 1160, 'agent': 1161, 'terrif': 1162, 'utterli': 1163, 'requir': 1164, 'honestli': 1165, 'area': 1166, 'sexi': 1167, 'report': 1168, 'geniu': 1169, 'investig': 1170, 'enter': 1171, 'humour': 1172, 'glad': 1173, 'serial': 1174, 'passion': 1175, 'occasion': 1176, 'narr': 1177, 'climax': 1178, 'marriag': 1179, 'industri': 1180, 'studi': 1181, 'nowher': 1182, 'ship': 1183, 'demon': 1184, 'center': 1185, 'charli': 1186, 'bear': 1187, 'loos': 1188, 'hors': 1189, 'wow': 1190, 'hang': 1191, 'graphic': 1192, 'admir': 1193, 'giant': 1194, 'send': 1195, 'damn': 1196, 'loud': 1197, 'nake': 1198, 'profession': 1199, 'subtl': 1200, 'rel': 1201, 'blow': 1202, 'bottom': 1203, 'insult': 1204, 'batman': 1205, 'doubl': 1206, 'boyfriend': 1207, 'r': 1208, 'kelli': 1209, 'initi': 1210, 'frame': 1211, 'gem': 1212, 'opera': 1213, 'church': 1214, 'cinemat': 1215, 'challeng': 1216, 'drawn': 1217, 'affect': 1218, 'evid': 1219, 'l': 1220, 'fulli': 1221, 'j': 1222, 'seek': 1223, 'nightmar': 1224, 'essenti': 1225, 'conflict': 1226, 'arm': 1227, 'wind': 1228, 'grace': 1229, 'christoph': 1230, 'henri': 1231, 'witch': 1232, 'assum': 1233, 'narrat': 1234, 'hunt': 1235, 'push': 1236, 'chri': 1237, 'wise': 1238, 'repres': 1239, 'nomin': 1240, 'month': 1241, 'hide': 1242, 'avail': 1243, 'affair': 1244, 'sceneri': 1245, 'bond': 1246, 'smart': 1247, 'thu': 1248, 'justic': 1249, 'outstand': 1250, 'flashback': 1251, 'interview': 1252, 'satisfi': 1253, 'presenc': 1254, 'constantli': 1255, 'bed': 1256, 'central': 1257, 'sell': 1258, 'iron': 1259, 'content': 1260, 'gag': 1261, 'everybodi': 1262, 'slowli': 1263, 'hotel': 1264, 'hire': 1265, 'system': 1266, 'charl': 1267, 'individu': 1268, 'thrown': 1269, 'adam': 1270, 'hey': 1271, 'jone': 1272, 'allen': 1273, 'mediocr': 1274, 'billi': 1275, 'lesson': 1276, 'ray': 1277, 'cameo': 1278, 'photographi': 1279, 'fellow': 1280, 'pari': 1281, 'strike': 1282, 'independ': 1283, 'rise': 1284, 'absurd': 1285, 'brief': 1286, 'neg': 1287, 'impact': 1288, 'phone': 1289, 'ill': 1290, 'born': 1291, 'model': 1292, 'spoil': 1293, 'fresh': 1294, 'angl': 1295, 'likabl': 1296, 'abus': 1297, 'discuss': 1298, 'hill': 1299, 'sight': 1300, 'ahead': 1301, 'photograph': 1302, 'sent': 1303, 'occur': 1304, 'logic': 1305, 'blame': 1306, 'shine': 1307, 'mainli': 1308, 'bruce': 1309, 'skip': 1310, 'forev': 1311, 'commerci': 1312, 'teacher': 1313, 'surround': 1314, 'segment': 1315, 'held': 1316, 'zero': 1317, 'blond': 1318, 'resembl': 1319, 'trap': 1320, 'summer': 1321, 'satir': 1322, 'six': 1323, 'queen': 1324, 'ball': 1325, 'fool': 1326, 'twice': 1327, 'tragedi': 1328, 'sub': 1329, 'pack': 1330, 'reaction': 1331, 'bomb': 1332, 'hospit': 1333, 'protagonist': 1334, 'will': 1335, 'sport': 1336, 'mile': 1337, 'vote': 1338, 'trust': 1339, 'mom': 1340, 'drink': 1341, 'jerri': 1342, 'encount': 1343, 'plane': 1344, 'current': 1345, 'program': 1346, 'station': 1347, 'al': 1348, 'martin': 1349, 'celebr': 1350, 'choos': 1351, 'join': 1352, 'round': 1353, 'favourit': 1354, 'field': 1355, 'tragic': 1356, 'lord': 1357, 'robot': 1358, 'jean': 1359, 'vision': 1360, 'tie': 1361, 'arthur': 1362, 'fortun': 1363, 'random': 1364, 'roger': 1365, 'psycholog': 1366, 'dread': 1367, 'intern': 1368, 'epic': 1369, 'improv': 1370, 'prefer': 1371, 'nonsens': 1372, 'highlight': 1373, 'legend': 1374, 'pleasur': 1375, 'formula': 1376, 'dollar': 1377, '11': 1378, 'tape': 1379, 'object': 1380, 'thin': 1381, 'porn': 1382, 'fox': 1383, 'wide': 1384, 'gorgeou': 1385, 'ugli': 1386, 'influenc': 1387, 'buddi': 1388, 'ii': 1389, 'nasti': 1390, 'prepar': 1391, 'progress': 1392, 'supposedli': 1393, 'warm': 1394, 'reflect': 1395, 'youth': 1396, 'worthi': 1397, 'length': 1398, 'latter': 1399, 'unusu': 1400, 'crash': 1401, 'shop': 1402, 'superior': 1403, 'childhood': 1404, 'seven': 1405, 'remot': 1406, 'theatr': 1407, 'pilot': 1408, 'funniest': 1409, 'disgust': 1410, 'paid': 1411, 'fell': 1412, 'trick': 1413, 'convers': 1414, 'castl': 1415, 'establish': 1416, 'gangster': 1417, 'disast': 1418, 'rob': 1419, 'disappear': 1420, 'suicid': 1421, 'mine': 1422, 'ident': 1423, 'heaven': 1424, 'singer': 1425, 'forgotten': 1426, 'mask': 1427, 'tend': 1428, 'heroin': 1429, 'decis': 1430, 'brian': 1431, 'partner': 1432, 'recogn': 1433, 'desert': 1434, 'alan': 1435, 'ms': 1436, 'p': 1437, 'thoroughli': 1438, 'stuck': 1439, 'sky': 1440, 'accur': 1441, 'replac': 1442, 'market': 1443, 'eddi': 1444, 'uncl': 1445, 'commentari': 1446, 'clue': 1447, 'danni': 1448, 'seemingli': 1449, 'andi': 1450, 'devil': 1451, 'jackson': 1452, 'refus': 1453, 'pair': 1454, 'therefor': 1455, 'that': 1456, 'river': 1457, 'fate': 1458, 'fault': 1459, 'unit': 1460, 'accid': 1461, 'ed': 1462, 'afraid': 1463, 'tune': 1464, 'stephen': 1465, 'clean': 1466, 'hidden': 1467, 'russian': 1468, 'convey': 1469, 'irrit': 1470, 'quick': 1471, 'test': 1472, 'readi': 1473, 'captain': 1474, 'instanc': 1475, 'european': 1476, 'frustrat': 1477, 'insan': 1478, 'daniel': 1479, 'chines': 1480, 'food': 1481, 'rescu': 1482, '1950': 1483, 'wed': 1484, 'angri': 1485, 'lock': 1486, 'dirti': 1487, 'joy': 1488, 'steven': 1489, 'price': 1490, 'cage': 1491, 'bland': 1492, 'anymor': 1493, 'rang': 1494, 'wooden': 1495, 'news': 1496, 'rush': 1497, 'jason': 1498, 'n': 1499, 'twenti': 1500, 'martial': 1501, '12': 1502, 'led': 1503, 'worri': 1504, 'board': 1505, 'transform': 1506, 'symbol': 1507, 'cgi': 1508, 'hunter': 1509, 'piti': 1510, 'sentiment': 1511, 'invent': 1512, 'johnni': 1513, 'x': 1514, 'onto': 1515, 'process': 1516, 'attitud': 1517, 'explan': 1518, 'awar': 1519, 'owner': 1520, 'aim': 1521, 'target': 1522, 'necessari': 1523, 'energi': 1524, 'floor': 1525, 'favor': 1526, 'religi': 1527, 'opposit': 1528, 'blind': 1529, 'window': 1530, 'insight': 1531, 'chick': 1532, 'movement': 1533, 'comparison': 1534, 'research': 1535, 'deepli': 1536, 'possess': 1537, 'mountain': 1538, 'whatsoev': 1539, 'grand': 1540, 'rain': 1541, 'comed': 1542, 'bank': 1543, 'shadow': 1544, 'began': 1545, 'mid': 1546, 'parodi': 1547, 'princ': 1548, 'credibl': 1549, 'pre': 1550, 'weapon': 1551, 'friendship': 1552, 'taylor': 1553, 'dougla': 1554, 'flesh': 1555, 'teach': 1556, 'protect': 1557, 'bloodi': 1558, 'hint': 1559, 'terror': 1560, 'marvel': 1561, 'load': 1562, 'drunk': 1563, 'anybodi': 1564, 'leader': 1565, 'accord': 1566, 'superman': 1567, 'watchabl': 1568, 'brown': 1569, 'freddi': 1570, 'tim': 1571, 'seat': 1572, 'jeff': 1573, 'appropri': 1574, 'hitler': 1575, 'charg': 1576, 'villag': 1577, 'knock': 1578, 'unknown': 1579, 'keaton': 1580, 'unnecessari': 1581, 'media': 1582, 'enemi': 1583, 'empti': 1584, 'england': 1585, 'strength': 1586, 'buck': 1587, 'utter': 1588, 'dare': 1589, 'wave': 1590, 'perspect': 1591, 'craft': 1592, 'contrast': 1593, 'nativ': 1594, 'correct': 1595, 'ford': 1596, 'kiss': 1597, 'nazi': 1598, 'anywher': 1599, 'knowledg': 1600, 'distract': 1601, 'chill': 1602, 'speed': 1603, 'soap': 1604, 'magnific': 1605, 'breath': 1606, 'mission': 1607, '1980': 1608, 'fred': 1609, 'ice': 1610, 'jr': 1611, 'crowd': 1612, 'moon': 1613, 'joan': 1614, 'frighten': 1615, '000': 1616, 'soft': 1617, 'kate': 1618, 'dick': 1619, 'hundr': 1620, 'dan': 1621, 'nick': 1622, 'dozen': 1623, 'somebodi': 1624, 'radio': 1625, 'simon': 1626, 'shakespear': 1627, 'andrew': 1628, 'academi': 1629, 'loss': 1630, 'thousand': 1631, 'quot': 1632, 'account': 1633, 'sum': 1634, 'vehicl': 1635, 'root': 1636, '1970': 1637, 'convent': 1638, 'behavior': 1639, 'leg': 1640, 'gold': 1641, 'regular': 1642, 'demand': 1643, 'worker': 1644, 'pretenti': 1645, 'compet': 1646, 'interpret': 1647, 'lynch': 1648, 'stretch': 1649, 'candi': 1650, 'notabl': 1651, 'privat': 1652, 'japan': 1653, 'explos': 1654, 'debut': 1655, 'constant': 1656, 'tarzan': 1657, 'translat': 1658, 'spi': 1659, 'prais': 1660, 'sea': 1661, 'revolv': 1662, 'franc': 1663, 'quiet': 1664, 'failur': 1665, 'threaten': 1666, 'sat': 1667, 'technolog': 1668, 'jesu': 1669, 'ass': 1670, 'higher': 1671, 'kevin': 1672, 'punch': 1673, 'toy': 1674, 'aid': 1675, 'met': 1676, 'mike': 1677, 'interact': 1678, 'abandon': 1679, 'vh': 1680, 'command': 1681, 'confront': 1682, 'bet': 1683, 'separ': 1684, 'belong': 1685, 'servic': 1686, 'site': 1687, 'stunt': 1688, 'gotten': 1689, 'techniqu': 1690, 'recal': 1691, 'bug': 1692, 'cabl': 1693, 'foot': 1694, 'freak': 1695, 'bright': 1696, 'capabl': 1697, 'fu': 1698, 'jimmi': 1699, 'african': 1700, 'succeed': 1701, 'boat': 1702, 'presid': 1703, 'fat': 1704, 'stock': 1705, 'clark': 1706, 'gene': 1707, 'structur': 1708, 'spanish': 1709, 'paper': 1710, 'kidnap': 1711, 'whilst': 1712, 'belief': 1713, 'factor': 1714, 'tree': 1715, 'realism': 1716, 'complic': 1717, 'educ': 1718, 'attend': 1719, 'witti': 1720, 'realis': 1721, 'bob': 1722, 'broken': 1723, 'assist': 1724, 'finest': 1725, 'santa': 1726, 'smoke': 1727, 'up': 1728, 'determin': 1729, 'observ': 1730, 'v': 1731, 'depart': 1732, 'oper': 1733, 'hat': 1734, 'rubbish': 1735, 'domin': 1736, 'routin': 1737, 'lewi': 1738, 'fame': 1739, 'lone': 1740, 'kinda': 1741, 'morgan': 1742, 'foreign': 1743, 'safe': 1744, 'hook': 1745, 'advanc': 1746, 'numer': 1747, 'rank': 1748, 'rose': 1749, 'civil': 1750, 'washington': 1751, 'shape': 1752, 'shallow': 1753, 'werewolf': 1754, 'vs': 1755, 'morn': 1756, 'gari': 1757, 'winner': 1758, 'ordinari': 1759, 'kong': 1760, 'accomplish': 1761, 'peac': 1762, 'grab': 1763, 'whenev': 1764, 'virtual': 1765, 'luck': 1766, 'h': 1767, 'offens': 1768, 'welcom': 1769, 'complain': 1770, 'activ': 1771, 'unfunni': 1772, 'patient': 1773, 'bigger': 1774, 'contriv': 1775, 'dimension': 1776, 'con': 1777, 'pretend': 1778, 'trek': 1779, 'dri': 1780, 'eric': 1781, 'cain': 1782, 'flash': 1783, 'code': 1784, 'wake': 1785, 'lesbian': 1786, 'manipul': 1787, 'albert': 1788, 'corrupt': 1789, 'dancer': 1790, 'statu': 1791, 'guard': 1792, 'speech': 1793, 'gain': 1794, 'signific': 1795, 'sourc': 1796, 'context': 1797, 'awkward': 1798, '13': 1799, 'clip': 1800, 'corni': 1801, 'anthoni': 1802, 'psycho': 1803, 'sean': 1804, 'reli': 1805, 'advic': 1806, 'curiou': 1807, 'theatric': 1808, 'priest': 1809, 'religion': 1810, 'w': 1811, 'addict': 1812, 'flow': 1813, 'specif': 1814, 'jennif': 1815, 'skin': 1816, 'secur': 1817, 'asian': 1818, 'howard': 1819, 'luke': 1820, 'organ': 1821, 'comfort': 1822, 'golden': 1823, 'promot': 1824, 'core': 1825, 'cash': 1826, 'cheat': 1827, 'lucki': 1828, 'lower': 1829, 'dislik': 1830, 'associ': 1831, 'regret': 1832, 'frankli': 1833, 'spell': 1834, 'degre': 1835, 'devic': 1836, 'wing': 1837, 'contribut': 1838, 'balanc': 1839, 'frequent': 1840, 'print': 1841, 'lake': 1842, 'sake': 1843, 'forgiv': 1844, 'thoma': 1845, 'mass': 1846, 'betti': 1847, 'crack': 1848, 'unexpect': 1849, 'gordon': 1850, 'depend': 1851, 'unfold': 1852, 'invit': 1853, 'amateur': 1854, 'grown': 1855, 'construct': 1856, 'categori': 1857, 'matur': 1858, 'anna': 1859, 'walter': 1860, 'condit': 1861, 'grew': 1862, 'honor': 1863, 'intellectu': 1864, 'sole': 1865, 'veteran': 1866, 'sudden': 1867, 'spectacular': 1868, 'mirror': 1869, 'experienc': 1870, 'demonstr': 1871, 'meanwhil': 1872, 'gift': 1873, 'robin': 1874, 'freedom': 1875, 'grip': 1876, 'overli': 1877, 'liner': 1878, 'card': 1879, 'oliv': 1880, 'section': 1881, 'circumst': 1882, 'colour': 1883, 'unabl': 1884, 'brilliantli': 1885, 'sheriff': 1886, 'crappi': 1887, 'theori': 1888, 'drew': 1889, 'subtitl': 1890, 'laughter': 1891, 'cook': 1892, 'path': 1893, 'altern': 1894, 'sheer': 1895, 'matt': 1896, 'parker': 1897, 'pile': 1898, 'defin': 1899, 'relief': 1900, 'sinatra': 1901, 'hall': 1902, 'treatment': 1903, 'wander': 1904, 'accident': 1905, 'lawyer': 1906, 'captiv': 1907, 'dragon': 1908, 'hank': 1909, 'moor': 1910, 'halloween': 1911, 'gratuit': 1912, 'unintent': 1913, 'wound': 1914, 'barbara': 1915, 'cowboy': 1916, 'kung': 1917, 'wayn': 1918, 'broadway': 1919, 'k': 1920, 'jacki': 1921, 'statement': 1922, 'winter': 1923, 'surreal': 1924, 'canadian': 1925, 'spoof': 1926, 'treasur': 1927, 'cheer': 1928, 'gonna': 1929, 'compos': 1930, 'fare': 1931, 'fish': 1932, 'emerg': 1933, 'victor': 1934, 'sensit': 1935, 'woodi': 1936, 'unrealist': 1937, 'driven': 1938, 'sympathet': 1939, 'ran': 1940, 'neighbor': 1941, 'expos': 1942, 'glass': 1943, 'authent': 1944, 'topic': 1945, 'overlook': 1946, 'menac': 1947, 'gross': 1948, 'handsom': 1949, 'michel': 1950, 'chief': 1951, 'ancient': 1952, 'pleasant': 1953, 'built': 1954, 'network': 1955, 'nevertheless': 1956, 'feet': 1957, 'cinderella': 1958, 'stranger': 1959, 'contemporari': 1960, 'comedian': 1961, 'russel': 1962, 'letter': 1963, 'consider': 1964, 'underr': 1965, 'miser': 1966, 'earn': 1967, 'blockbust': 1968, 'gori': 1969, 'endless': 1970, 'solv': 1971, 'switch': 1972, 'brook': 1973, 'virgin': 1974, 'convict': 1975, 'bullet': 1976, 'joseph': 1977, 'victoria': 1978, 'edward': 1979, 'scenario': 1980, 'cynic': 1981, 'scale': 1982, 'chosen': 1983, 'alex': 1984, '0': 1985, 'curs': 1986, 'outrag': 1987, 'sword': 1988, 'com': 1989, 'gut': 1990, 'uk': 1991, 'juli': 1992, 'substanc': 1993, 'proper': 1994, 'monkey': 1995, 'screenwrit': 1996, 'wrap': 1997, 'driver': 1998, 'par': 1999, 'indic': 2000, 'bird': 2001, 'court': 2002, 'remov': 2003, 'naiv': 2004, 'loser': 2005, 'inevit': 2006, 'roy': 2007, 'consequ': 2008, 'advertis': 2009, 'rental': 2010, 'grave': 2011, 'nanci': 2012, 'brave': 2013, 'fatal': 2014, 'slap': 2015, 'le': 2016, 'germani': 2017, 'invis': 2018, 'bridg': 2019, 'anger': 2020, 'ador': 2021, 'loui': 2022, 'footbal': 2023, 'provok': 2024, 'anderson': 2025, 'chan': 2026, 'alcohol': 2027, 'ryan': 2028, 'stumbl': 2029, 'professor': 2030, 'willi': 2031, 'bat': 2032, 'patrick': 2033, 'assassin': 2034, 'australian': 2035, '1930': 2036, 'sharp': 2037, 'strongli': 2038, 'eight': 2039, 'deni': 2040, 'trilog': 2041, 'lousi': 2042, 'amateurish': 2043, 'refresh': 2044, 'saturday': 2045, 'heck': 2046, 'cell': 2047, 'liber': 2048, 'ape': 2049, 'sin': 2050, 'san': 2051, 'vagu': 2052, 'justifi': 2053, 'resid': 2054, 'sympathi': 2055, 'terrifi': 2056, 'defeat': 2057, 'creator': 2058, 'reput': 2059, 'mini': 2060, 'indi': 2061, 'tediou': 2062, 'prevent': 2063, 'endur': 2064, 'task': 2065, 'expert': 2066, 'tabl': 2067, 'basebal': 2068, 'imit': 2069, 'rival': 2070, 'employ': 2071, 'offend': 2072, 'trial': 2073, 'che': 2074, 'weekend': 2075, 'max': 2076, 'complaint': 2077, 'fairi': 2078, 'pitch': 2079, 'europ': 2080, 'dig': 2081, 'beach': 2082, 'murphi': 2083, 'format': 2084, 'risk': 2085, 'purchas': 2086, 'tini': 2087, 'titan': 2088, 'glimps': 2089, 'harsh': 2090, 'nois': 2091, 'bite': 2092, 'hype': 2093, 'reminisc': 2094, 'powel': 2095, 'fals': 2096, 'asleep': 2097, '14': 2098, 'strip': 2099, 'prime': 2100, 'till': 2101, 'north': 2102, 'revel': 2103, 'texa': 2104, 'descript': 2105, 'destruct': 2106, 'africa': 2107, 'semi': 2108, 'uninterest': 2109, 'arrest': 2110, 'excess': 2111, 'spin': 2112, 'surfac': 2113, 'sitcom': 2114, 'inner': 2115, 'makeup': 2116, 'argu': 2117, 'maintain': 2118, 'hitchcock': 2119, 'massiv': 2120, 'twin': 2121, 'controversi': 2122, 'dinosaur': 2123, 'ludicr': 2124, 'melodrama': 2125, 'kim': 2126, 'stare': 2127, 'insist': 2128, 'reject': 2129, 'expens': 2130, 'ideal': 2131, 'host': 2132, 'ala': 2133, 'forest': 2134, 'columbo': 2135, 'atroci': 2136, 'subplot': 2137, 'erot': 2138, 'supernatur': 2139, 'nail': 2140, 'press': 2141, 'ga': 2142, 'identifi': 2143, 'dude': 2144, 'cant': 2145, 'presum': 2146, 'notch': 2147, 'forgett': 2148, 'plagu': 2149, 'closer': 2150, 'guest': 2151, 'crude': 2152, 'method': 2153, 'character': 2154, 'princess': 2155, 'foster': 2156, 'landscap': 2157, 'border': 2158, 'ear': 2159, 'beast': 2160, 'lion': 2161, 'previous': 2162, 'bound': 2163, 'damag': 2164, 'storytel': 2165, 'accus': 2166, 'jungl': 2167, 'urban': 2168, 'aunt': 2169, 'birth': 2170, 'pacino': 2171, 'propaganda': 2172, 'nude': 2173, 'chose': 2174, 'jess': 2175, 'emma': 2176, 'guid': 2177, 'doll': 2178, 'thirti': 2179, '25': 2180, 'warrior': 2181, 'whoever': 2182, 'mainstream': 2183, 'pet': 2184, 'mate': 2185, 'size': 2186, 'deadli': 2187, 'latest': 2188, 'merit': 2189, 'friday': 2190, 'poster': 2191, 'exact': 2192, 'gritti': 2193, 'upset': 2194, 'cooper': 2195, 'ton': 2196, 'sun': 2197, 'popul': 2198, 'wilson': 2199, 'contact': 2200, '1990': 2201, 'rough': 2202, 'buff': 2203, 'blend': 2204, 'settl': 2205, 'citizen': 2206, 'contest': 2207, 'warner': 2208, 'corps': 2209, 'environ': 2210, 'bu': 2211, 'overcom': 2212, 'metal': 2213, 'widow': 2214, 'select': 2215, 'mgm': 2216, 'alic': 2217, 'pitt': 2218, 'rat': 2219, 'guilti': 2220, 'lift': 2221, 'revolut': 2222, 'particip': 2223, 'link': 2224, 'ted': 2225, 'matrix': 2226, 'corpor': 2227, '1960': 2228, 'afternoon': 2229, 'accompani': 2230, 'moron': 2231, 'corner': 2232, 'prostitut': 2233, 'exagger': 2234, 'johnson': 2235, 'leagu': 2236, 'sincer': 2237, 'clair': 2238, 'hood': 2239, 'doom': 2240, 'multipl': 2241, 'instal': 2242, 'friendli': 2243, 'holm': 2244, 'aka': 2245, 'advis': 2246, 'defend': 2247, 'irish': 2248, 'blah': 2249, 'junk': 2250, 'grim': 2251, 'examin': 2252, 'sunday': 2253, 'string': 2254, 'campi': 2255, 'hip': 2256, 'lugosi': 2257, 'pro': 2258, 'shake': 2259, 'confid': 2260, 'icon': 2261, 'shut': 2262, 'tight': 2263, 'varieti': 2264, 'rachel': 2265, 'denni': 2266, 'jaw': 2267, 'directli': 2268, 'medic': 2269, 'goal': 2270, 'sullivan': 2271, 'mexican': 2272, 'attach': 2273, 'prior': 2274, 'courag': 2275, 'terrorist': 2276, 'sarah': 2277, 'legendari': 2278, 'bourn': 2279, 'truck': 2280, 'duke': 2281, 'dean': 2282, 'sentenc': 2283, 'breast': 2284, 'vietnam': 2285, 'split': 2286, 'behav': 2287, 'donald': 2288, 'un': 2289, 'nose': 2290, 'hong': 2291, 'proceed': 2292, 'yell': 2293, 'entri': 2294, 'stolen': 2295, 'crush': 2296, 'everywher': 2297, 'unconvinc': 2298, 'buri': 2299, 'concentr': 2300, 'lifetim': 2301, 'borrow': 2302, 'confess': 2303, 'swim': 2304, 'gather': 2305, 'forth': 2306, 'jerk': 2307, 'pan': 2308, 'lip': 2309, 'spite': 2310, 'california': 2311, 'deliveri': 2312, 'turkey': 2313, 'julia': 2314, 'freeman': 2315, 'flight': 2316, 'proud': 2317, 'quest': 2318, 'offici': 2319, 'reward': 2320, 'downright': 2321, 'china': 2322, 'hoffman': 2323, 'lazi': 2324, 'fabul': 2325, 'sink': 2326, 'inept': 2327, 'fade': 2328, 'encourag': 2329, 'notori': 2330, 'betray': 2331, 'worthwhil': 2332, 'jail': 2333, 'jon': 2334, 'sir': 2335, 'survivor': 2336, 'relev': 2337, 'retard': 2338, 'susan': 2339, 'shower': 2340, 'cousin': 2341, 'imageri': 2342, 'storm': 2343, 'bell': 2344, 'teeth': 2345, 'bag': 2346, 'lisa': 2347, 'branagh': 2348, 'quirki': 2349, 'toler': 2350, 'summari': 2351, 'shark': 2352, 'tremend': 2353, 'finger': 2354, 'hugh': 2355, 'facial': 2356, 'bride': 2357, 'stab': 2358, 'trade': 2359, 'mexico': 2360, 'alright': 2361, 'blown': 2362, 'hyster': 2363, 'von': 2364, 'bitter': 2365, 'pose': 2366, 'ha': 2367, 'afterward': 2368, 'scheme': 2369, 'cruel': 2370, 'address': 2371, 'bone': 2372, 'ron': 2373, 'ned': 2374, 'christ': 2375, 'larri': 2376, 'swear': 2377, 'feed': 2378, 'screw': 2379, 'snake': 2380, 'pursu': 2381, 'distinct': 2382, 'beg': 2383, 'traci': 2384, 'thumb': 2385, 'tour': 2386, 'obscur': 2387, 'chair': 2388, 'raw': 2389, 'mechan': 2390, 'stomach': 2391, 'photo': 2392, 'occas': 2393, 'sidney': 2394, 'heavili': 2395, 'southern': 2396, 'necessarili': 2397, 'gruesom': 2398, 'cabin': 2399, 'argument': 2400, 'render': 2401, 'hardi': 2402, 'resist': 2403, 'chain': 2404, 'holiday': 2405, 'india': 2406, 'indulg': 2407, 'understood': 2408, 'racist': 2409, 'satan': 2410, 'philip': 2411, 'midnight': 2412, 'fourth': 2413, 'forgot': 2414, 'integr': 2415, 'pregnant': 2416, 'lay': 2417, 'outfit': 2418, 'stalk': 2419, 'tongu': 2420, 'obnoxi': 2421, 'belov': 2422, 'slapstick': 2423, 'restor': 2424, 'garden': 2425, 'ticket': 2426, '17': 2427, 'deeper': 2428, 'magazin': 2429, 'carol': 2430, 'inhabit': 2431, 'incid': 2432, 'shoe': 2433, 'devot': 2434, 'lincoln': 2435, 'brad': 2436, 'guarante': 2437, 'benefit': 2438, 'anticip': 2439, 'disbelief': 2440, 'divorc': 2441, 'underground': 2442, 'elizabeth': 2443, 'lili': 2444, 'maria': 2445, 'sandler': 2446, 'princip': 2447, 'creation': 2448, 'slave': 2449, 'capit': 2450, 'mildli': 2451, 'amazingli': 2452, 'cring': 2453, 'bbc': 2454, 'explod': 2455, 'greater': 2456, 'extraordinari': 2457, 'introduct': 2458, 'halfway': 2459, 'funnier': 2460, 'lesli': 2461, 'punish': 2462, 'tap': 2463, 'transfer': 2464, 'text': 2465, 'advantag': 2466, 'extent': 2467, 'enhanc': 2468, 'wreck': 2469, 'overwhelm': 2470, 'lo': 2471, 'lane': 2472, 'deliber': 2473, 'horrif': 2474, 'east': 2475, 'dynam': 2476, 'jessica': 2477, 'preview': 2478, 'plant': 2479, 'error': 2480, 'basi': 2481, 'homosexu': 2482, 'vacat': 2483, 'vincent': 2484, 'appli': 2485, 'miscast': 2486, 'ensu': 2487, 'sophist': 2488, 'miller': 2489, '2000': 2490, 'measur': 2491, 'extend': 2492, 'reed': 2493, 'mansion': 2494, 'spoken': 2495, 'bollywood': 2496, 'sleazi': 2497, 'elev': 2498, 'uncomfort': 2499, 'via': 2500, 'steel': 2501, 'cathol': 2502, 'daili': 2503, 'fix': 2504, 'overact': 2505, 'savag': 2506, 'hippi': 2507, 'breathtak': 2508, 'melt': 2509, 'goofi': 2510, 'mous': 2511, 'conceiv': 2512, 'assign': 2513, 'dentist': 2514, 'alter': 2515, 'blair': 2516, 'beer': 2517, 'stanley': 2518, 'inspector': 2519, 'succe': 2520, 'nowaday': 2521, 'subsequ': 2522, 'properli': 2523, 'carpent': 2524, 'oppos': 2525, 'sacrific': 2526, 'everyday': 2527, 'burt': 2528, 'block': 2529, 'neck': 2530, 'circl': 2531, 'massacr': 2532, 'laura': 2533, 'access': 2534, 'fallen': 2535, 'grey': 2536, 'portrait': 2537, 'concert': 2538, 'lesser': 2539, 'mob': 2540, 'pool': 2541, 'seagal': 2542, 'christi': 2543, 'fay': 2544, 'isol': 2545, 'relax': 2546, 'competit': 2547, 'react': 2548, 'chees': 2549, 'jewish': 2550, 'sinist': 2551, 'usa': 2552, 'jake': 2553, 'ironi': 2554, 'spiritu': 2555, 'nonetheless': 2556, 'creep': 2557, 'stink': 2558, 'suitabl': 2559, 'chop': 2560, 'lyric': 2561, 'nine': 2562, '2006': 2563, 'appal': 2564, 'immens': 2565, 'nut': 2566, 'navi': 2567, 'retir': 2568, 'user': 2569, 'reduc': 2570, 'franchis': 2571, 'needless': 2572, 'adopt': 2573, 'rage': 2574, 'spring': 2575, 'showcas': 2576, 'shirt': 2577, 'sold': 2578, 'luci': 2579, 'zone': 2580, 'uninspir': 2581, 'per': 2582, 'digit': 2583, 'bulli': 2584, 'nurs': 2585, 'asham': 2586, 'bath': 2587, 'jay': 2588, 'stanwyck': 2589, 'laid': 2590, 'amongst': 2591, 'upper': 2592, 'sutherland': 2593, '2001': 2594, 'illustr': 2595, 'oddli': 2596, '1940': 2597, 'broadcast': 2598, 'stylish': 2599, 'aspir': 2600, 'baker': 2601, 'fulfil': 2602, 'throat': 2603, 'disguis': 2604, 'brando': 2605, 'endear': 2606, '18': 2607, 'pound': 2608, 'neighborhood': 2609, 'nobl': 2610, 'impli': 2611, 'thief': 2612, 'em': 2613, 'wwii': 2614, 'wanna': 2615, 'pride': 2616, 'shoulder': 2617, 'shift': 2618, 'dinner': 2619, 'cinematograph': 2620, 'diseas': 2621, 'prop': 2622, 'coher': 2623, 'distribut': 2624, 'albeit': 2625, 'tens': 2626, 'rochest': 2627, '16': 2628, 'dawn': 2629, 'bo': 2630, 'bett': 2631, 'poignant': 2632, 'matthau': 2633, 'rebel': 2634, 'silenc': 2635, 'forti': 2636, 'snow': 2637, 'contract': 2638, 'function': 2639, 'knife': 2640, 'wash': 2641, 'surf': 2642, 'shout': 2643, 'eeri': 2644, 'cancel': 2645, 'widmark': 2646, 'duti': 2647, 'henc': 2648, 'horrend': 2649, 'mindless': 2650, 'reunion': 2651, 'height': 2652, 'internet': 2653, 'proof': 2654, 'chuck': 2655, 'instinct': 2656, 'derek': 2657, 'cannib': 2658, 'heat': 2659, 'silver': 2660, 'elvira': 2661, 'repetit': 2662, 'neat': 2663, 'absorb': 2664, 'etern': 2665, 'glori': 2666, 'incoher': 2667, 'greatli': 2668, 'spielberg': 2669, 'innov': 2670, 'musician': 2671, 'pie': 2672, 'alik': 2673, 'torn': 2674, 'premier': 2675, 'mill': 2676, 'elvi': 2677, 'fbi': 2678, 'nelson': 2679, 'wealthi': 2680, 'redempt': 2681, 'lovabl': 2682, 'announc': 2683, 'trite': 2684, 'britain': 2685, 'blank': 2686, 'itali': 2687, 'diamond': 2688, 'racism': 2689, 'homag': 2690, 'horrifi': 2691, 'crisi': 2692, 'bang': 2693, 'burton': 2694, 'infam': 2695, 'precis': 2696, 'ensembl': 2697, 'hammer': 2698, 'wilder': 2699, 'dedic': 2700, 'flop': 2701, 'helen': 2702, 'happili': 2703, 'chaplin': 2704, 'resolut': 2705, 'pat': 2706, 'streisand': 2707, 'parallel': 2708, 'oil': 2709, 'st': 2710, 'triumph': 2711, 'carter': 2712, 'mar': 2713, 'conclud': 2714, 'plastic': 2715, 'factori': 2716, 'disagre': 2717, 'cube': 2718, 'broke': 2719, 'weight': 2720, 'fighter': 2721, 'row': 2722, 'march': 2723, 'own': 2724, 'bush': 2725, 'rocket': 2726, 'chuckl': 2727, 'vega': 2728, 'climb': 2729, 'dump': 2730, 'luca': 2731, 'mst3k': 2732, 'meaning': 2733, 'dane': 2734, 'lust': 2735, 'enorm': 2736, 'boot': 2737, 'unforgett': 2738, 'thug': 2739, 'wherea': 2740, 'kurt': 2741, 'spare': 2742, 'sensibl': 2743, 'bobbi': 2744, 'adequ': 2745, 'rap': 2746, 'caricatur': 2747, 'engin': 2748, 'stress': 2749, 'butt': 2750, 'dear': 2751, 'arnold': 2752, 'fifti': 2753, 'difficulti': 2754, 'threat': 2755, 'brand': 2756, 'karloff': 2757, 'polish': 2758, 'hamlet': 2759, 'arrog': 2760, 'elabor': 2761, 'flynn': 2762, 'ego': 2763, 'journalist': 2764, 'fest': 2765, 'ralph': 2766, 'homeless': 2767, 'swing': 2768, 'barri': 2769, 'secretari': 2770, 'conspiraci': 2771, 'grate': 2772, 'float': 2773, 'unbear': 2774, 'resort': 2775, 'arrang': 2776, 'simpson': 2777, 'fanci': 2778, 'spike': 2779, 'tool': 2780, 'induc': 2781, 'puppet': 2782, 'basement': 2783, 'exercis': 2784, 'boll': 2785, 'guilt': 2786, 'cruis': 2787, 'tribut': 2788, 'choreograph': 2789, 'pig': 2790, 'phillip': 2791, 'muppet': 2792, 'item': 2793, 'layer': 2794, 'babe': 2795, 'slip': 2796, 'document': 2797, 'korean': 2798, 'medium': 2799, 'puzzl': 2800, 'toilet': 2801, 'ham': 2802, 'tower': 2803, '24': 2804, 'ward': 2805, 'stan': 2806, 'fianc': 2807, 'file': 2808, 'editor': 2809, 'scarecrow': 2810, 'assur': 2811, 'portion': 2812, 'inexplic': 2813, 'minim': 2814, 'persona': 2815, 'spark': 2816, 'orient': 2817, 'doc': 2818, 'larger': 2819, 'transit': 2820, 'territori': 2821, 'catherin': 2822, 'librari': 2823, 'slaughter': 2824, 'glover': 2825, 'denzel': 2826, 'superfici': 2827, 'philosoph': 2828, 'pg': 2829, 'curti': 2830, 'owe': 2831, 'jeremi': 2832, 'jet': 2833, 'shi': 2834, 'sneak': 2835, 'wolf': 2836, 'financi': 2837, 'boredom': 2838, 'walken': 2839, 'dorothi': 2840, 'ban': 2841, 'ambigu': 2842, 'hudson': 2843, 'multi': 2844, 'eleph': 2845, 'metaphor': 2846, 'profound': 2847, 'cusack': 2848, 'backdrop': 2849, 'whale': 2850, 'union': 2851, 'hack': 2852, 'notion': 2853, 'elsewher': 2854, 'gadget': 2855, '2005': 2856, 'birthday': 2857, 'rave': 2858, 'ultra': 2859, 'stiff': 2860, 'implaus': 2861, 'viru': 2862, 'afford': 2863, 'reader': 2864, 'eastwood': 2865, 'disc': 2866, 'deriv': 2867, 'hawk': 2868, 'poison': 2869, 'pad': 2870, 'urg': 2871, '1st': 2872, 'squar': 2873, 'distanc': 2874, 'slight': 2875, 'newspap': 2876, 'bibl': 2877, 'eva': 2878, 'lloyd': 2879, 'canada': 2880, 'superhero': 2881, 'cure': 2882, 'restaur': 2883, 'button': 2884, 'health': 2885, 'heston': 2886, 'drown': 2887, 'charisma': 2888, 'spread': 2889, 'huh': 2890, 'sadist': 2891, 'skit': 2892, 'essenc': 2893, 'montag': 2894, 'companion': 2895, 'maniac': 2896, 'godfath': 2897, 'lab': 2898, 'scoobi': 2899, 'dealt': 2900, 'fetch': 2901, 'peak': 2902, 'gradual': 2903, 'invest': 2904, 'muslim': 2905, 'estat': 2906, 'servant': 2907, 'countless': 2908, 'gothic': 2909, 'cup': 2910, 'tea': 2911, 'kane': 2912, 'subtleti': 2913, 'ritter': 2914, 'alli': 2915, 'miik': 2916, 'iii': 2917, 'briefli': 2918, 'charismat': 2919, 'electr': 2920, 'salli': 2921, 'elect': 2922, 'heroic': 2923, 'ingredi': 2924, 'reel': 2925, 'resourc': 2926, 'toss': 2927, 'wannab': 2928, 'admittedli': 2929, 'cole': 2930, 'bud': 2931, 'tender': 2932, 'grandmoth': 2933, 'neil': 2934, 'nuanc': 2935, 'reev': 2936, 'shall': 2937, 'stood': 2938, 'poverti': 2939, 'mild': 2940, 'punk': 2941, 'pit': 2942, 'label': 2943, 'mafia': 2944, 'stronger': 2945, 'dawson': 2946, 'gate': 2947, 'pauli': 2948, 'kubrick': 2949, 'carrey': 2950, 'cox': 2951, 'burst': 2952, 'smooth': 2953, 'ian': 2954, 'useless': 2955, 'outcom': 2956, 'updat': 2957, 'cardboard': 2958, 'smash': 2959, 'easier': 2960, 'fond': 2961, 'bakshi': 2962, 'terri': 2963, 'astair': 2964, 'assault': 2965, 'tag': 2966, 'qualifi': 2967, 'sketch': 2968, 'coincid': 2969, 'melodramat': 2970, 'rex': 2971, 'fist': 2972, 'exchang': 2973, 'increasingli': 2974, 'samurai': 2975, 'vari': 2976, 'resolv': 2977, 'divers': 2978, 'vulner': 2979, '2002': 2980, 'insert': 2981, 'conveni': 2982, 'luckili': 2983, 'be': 2984, 'tame': 2985, 'blast': 2986, 'reynold': 2987, 'brillianc': 2988, 'templ': 2989, 'suspend': 2990, 'scratch': 2991, 'walker': 2992, 'jami': 2993, 'gotta': 2994, 'ambiti': 2995, 'strictli': 2996, 'meat': 2997, 'coach': 2998, 'hamilton': 2999, 'seventi': 3000, 'farm': 3001, 'nuclear': 3002, 'pin': 3003, 'matthew': 3004, 'fisher': 3005, 'soprano': 3006, 'clock': 3007, 'timeless': 3008, 'kudo': 3009, 'monk': 3010, 'instantli': 3011, 'empir': 3012, 'discoveri': 3013, 'spooki': 3014, 'grasp': 3015, 'revers': 3016, 'struck': 3017, 'recreat': 3018, 'butcher': 3019, 'convolut': 3020, 'worthless': 3021, 'cave': 3022, 'ninja': 3023, 'joey': 3024, 'brosnan': 3025, 'eccentr': 3026, 'closet': 3027, 'inconsist': 3028, 'fifteen': 3029, 'norman': 3030, 'mitchel': 3031, 'communist': 3032, 'declar': 3033, 'sidekick': 3034, 'partli': 3035, 'bleak': 3036, 'clown': 3037, 'miracl': 3038, 'pal': 3039, 'seller': 3040, 'importantli': 3041, 'evok': 3042, 'cliff': 3043, 'gray': 3044, 'sloppi': 3045, 'eighti': 3046, 'selfish': 3047, 'wipe': 3048, 'destin': 3049, '45': 3050, 'superbl': 3051, 'aforement': 3052, 'seed': 3053, 'debat': 3054, 'chew': 3055, 'psychiatrist': 3056, 'enthusiast': 3057, 'flawless': 3058, 'piano': 3059, 'ho': 3060, 'websit': 3061, 'lifestyl': 3062, 'stoog': 3063, 'farc': 3064, 'australia': 3065, 'cheek': 3066, 'emili': 3067, 'directori': 3068, 'regardless': 3069, 'splatter': 3070, 'soviet': 3071, 'drivel': 3072, 'incompet': 3073, 'slice': 3074, 'akshay': 3075, 'wrestl': 3076, 'dash': 3077, 'dire': 3078, 'bash': 3079, 'abc': 3080, 'kitchen': 3081, 'anni': 3082, 'wick': 3083, 'pressur': 3084, 'recov': 3085, 'flower': 3086, 'helicopt': 3087, 'glow': 3088, 'dave': 3089, 'artifici': 3090, 'chapter': 3091, 'pleasantli': 3092, 'boil': 3093, 'jar': 3094, 'cameron': 3095, 'doo': 3096, 'mann': 3097, 'curios': 3098, 'blob': 3099, 'cagney': 3100, 'distant': 3101, 'beaten': 3102, 'seduc': 3103, 'cia': 3104, 'increas': 3105, 'suppli': 3106, 'prize': 3107, 'lou': 3108, 'duo': 3109, 'judi': 3110, 'ken': 3111, 'glenn': 3112, 'ellen': 3113, 'favour': 3114, 'craig': 3115, 'craven': 3116, 'francisco': 3117, 'panic': 3118, 'eleg': 3119, 'drunken': 3120, 'web': 3121, 'laurel': 3122, 'goldberg': 3123, 'ranger': 3124, 'splendid': 3125, 'psychot': 3126, 'turner': 3127, 'perri': 3128, 'combat': 3129, 'hop': 3130, 'alexand': 3131, 'gandhi': 3132, 'greek': 3133, 'plausibl': 3134, 'gentl': 3135, 'min': 3136, 'modesti': 3137, '20th': 3138, 'rid': 3139, 'graduat': 3140, 'slightest': 3141, 'philosophi': 3142, 'flip': 3143, 'fx': 3144, 'falk': 3145, 'wizard': 3146, 'ruth': 3147, 'shortli': 3148, 'hatr': 3149, 'unpleas': 3150, 'lend': 3151, 'knight': 3152, 'holi': 3153, 'futurist': 3154, 'preciou': 3155, 'dracula': 3156, 'legal': 3157, 'ocean': 3158, 'jealou': 3159, 'tall': 3160, 'fund': 3161, 'we': 3162, 'manhattan': 3163, 'harm': 3164, 'felix': 3165, 'ami': 3166, 'bless': 3167, 'thread': 3168, 'tank': 3169, 'digniti': 3170, 'scientif': 3171, 'explicit': 3172, 'childish': 3173, 'forbidden': 3174, 'overdon': 3175, 'nod': 3176, 'giallo': 3177, 'reviv': 3178, 'mock': 3179, 'nerv': 3180, 'broad': 3181, 'yesterday': 3182, 'verhoeven': 3183, 'repeatedli': 3184, 'torment': 3185, 'eve': 3186, 'fever': 3187, '2004': 3188, 'pirat': 3189, 'elderli': 3190, '99': 3191, 'awe': 3192, 'thick': 3193, 'awaken': 3194, 'mel': 3195, 'margaret': 3196, 'unwatch': 3197, 'royal': 3198, 'custom': 3199, 'bin': 3200, 'launch': 3201, 'rivet': 3202, 'politician': 3203, 'lean': 3204, 'ah': 3205, 'romero': 3206, 'automat': 3207, 'kay': 3208, 'ambit': 3209, 'absenc': 3210, 'acclaim': 3211, 'roman': 3212, 'griffith': 3213, 'eas': 3214, 'timothi': 3215, 'uniform': 3216, 'stiller': 3217, 'publish': 3218, 'foul': 3219, 'wallac': 3220, 'pulp': 3221, 'darker': 3222, 'termin': 3223, 'phrase': 3224, 'transport': 3225, 'stinker': 3226, 'tomato': 3227, 'bathroom': 3228, 'purpl': 3229, 'pierc': 3230, 'warren': 3231, 'homicid': 3232, 'gabriel': 3233, 'crook': 3234, 'sunshin': 3235, 'antic': 3236, 'packag': 3237, 'saint': 3238, 'karen': 3239, 'brazil': 3240, 'evolv': 3241, 'coloni': 3242, 'revolutionari': 3243, 'sixti': 3244, 'donna': 3245, 'horrid': 3246, 'viciou': 3247, 'li': 3248, 'eyr': 3249, 'juvenil': 3250, '2003': 3251, 'hollow': 3252, 'ought': 3253, 'choreographi': 3254, 'album': 3255, 'contrari': 3256, 'awak': 3257, 'prom': 3258, 'kenneth': 3259, 'pray': 3260, 'marin': 3261, 'rambo': 3262, 'q': 3263, 'dose': 3264, 'overr': 3265, 'ramon': 3266, 'boast': 3267, 'ireland': 3268, 'kapoor': 3269, 'mummi': 3270, 'blade': 3271, 'defi': 3272, 'nerd': 3273, 'conserv': 3274, 'beatti': 3275, 'twelv': 3276, 'option': 3277, 'candid': 3278, 'stole': 3279, 'mildr': 3280, 'kirk': 3281, 'natali': 3282, 'astonish': 3283, 'collabor': 3284, 'trio': 3285, 'fulci': 3286, 'funer': 3287, 'confirm': 3288, 'jazz': 3289, 'detract': 3290, 'altman': 3291, 'protest': 3292, 'flame': 3293, 'global': 3294, 'delici': 3295, 'audio': 3296, 'mystic': 3297, 'spit': 3298, 'blake': 3299, 'shade': 3300, 'yellow': 3301, 'leap': 3302, 'nicholson': 3303, 'tommi': 3304, 'destini': 3305, 'enterpris': 3306, 'whip': 3307, 'bull': 3308, 'racial': 3309, 'bottl': 3310, 'inherit': 3311, 'reunit': 3312, 'visibl': 3313, 'popcorn': 3314, 'threw': 3315, 'pseudo': 3316, 'bedroom': 3317, 'enchant': 3318, 'adolesc': 3319, 'swedish': 3320, 'vivid': 3321, 'altogeth': 3322, 'neo': 3323, 'merci': 3324, 'staff': 3325, 'todd': 3326, 'fonda': 3327, 'harder': 3328, 'meaningless': 3329, 'reserv': 3330, 'kennedi': 3331, 'jew': 3332, 'exhibit': 3333, 'befriend': 3334, 'suspici': 3335, 'await': 3336, 'ruthless': 3337, 'respond': 3338, 'fanat': 3339, 'wire': 3340, 'moodi': 3341, 'leonard': 3342, 'atlanti': 3343, 'tip': 3344, 'roommat': 3345, 'madonna': 3346, 'synopsi': 3347, 'voight': 3348, 'bust': 3349, 'lemmon': 3350, 'decor': 3351, 'lawrenc': 3352, 'uneven': 3353, 'crocodil': 3354, 'edi': 3355, 'clint': 3356, 'bargain': 3357, 'centr': 3358, 'rural': 3359, 'incident': 3360, 'bradi': 3361, 'abysm': 3362, 'dimens': 3363, 'ventur': 3364, 'voyag': 3365, 'chao': 3366, 'bold': 3367, 'unsettl': 3368, '2007': 3369, 'garner': 3370, 'audit': 3371, 'carl': 3372, 'palma': 3373, 'clumsi': 3374, 'holli': 3375, 'elimin': 3376, 'characterist': 3377, 'troop': 3378, 'echo': 3379, 'tiger': 3380, 'lit': 3381, 'neglect': 3382, 'mall': 3383, 'cd': 3384, 'daddi': 3385, 'cari': 3386, 'imperson': 3387, 'poetic': 3388, 'humili': 3389, 'ant': 3390, 'trail': 3391, 'versu': 3392, '2nd': 3393, 'wealth': 3394, 'immigr': 3395, 'nearbi': 3396, 'cuba': 3397, 'hart': 3398, 'acknowledg': 3399, 'timon': 3400, 'saga': 3401, 'solo': 3402, 'marshal': 3403, 'jeffrey': 3404, 'celluloid': 3405, 'mistaken': 3406, 'mickey': 3407, 'repuls': 3408, 'paus': 3409, 'infect': 3410, 'pun': 3411, 'homer': 3412, 'collaps': 3413, 'prejudic': 3414, 'domest': 3415, 'milk': 3416, 'olivi': 3417, 'undoubtedli': 3418, 'inappropri': 3419, 'coat': 3420, 'hbo': 3421, 'apolog': 3422, 'chest': 3423, 'assembl': 3424, 'coffe': 3425, 'promin': 3426, 'sore': 3427, 'cake': 3428, 'pant': 3429, 'harvey': 3430, '1996': 3431, 'gear': 3432, 'inan': 3433, 'ginger': 3434, 'leon': 3435, 'equip': 3436, 'interrupt': 3437, 'tribe': 3438, 'pen': 3439, 'aveng': 3440, 'furthermor': 3441, 'brooklyn': 3442, 'colonel': 3443, 'humbl': 3444, 'consum': 3445, 'trace': 3446, 'solut': 3447, 'embrac': 3448, 'institut': 3449, 'highest': 3450, 'vulgar': 3451, 'colleagu': 3452, 'exot': 3453, 'jenni': 3454, 'devast': 3455, 'pot': 3456, 'instant': 3457, 'polanski': 3458, 'maggi': 3459, 'airplan': 3460, 'florida': 3461, 'primari': 3462, 'retain': 3463, '1999': 3464, '3rd': 3465, 'outer': 3466, 'linda': 3467, 'gender': 3468, 'dutch': 3469, 'strain': 3470, 'descend': 3471, 'illog': 3472, 'bowl': 3473, 'sale': 3474, 'cope': 3475, 'smaller': 3476, 'dian': 3477, 'ya': 3478, 'principl': 3479, 'wive': 3480, 'rick': 3481, 'disabl': 3482, 'poke': 3483, 'seduct': 3484, 'godzilla': 3485, 'primarili': 3486, 'inferior': 3487, 'bubbl': 3488, 'vast': 3489, 'gloriou': 3490, 'cue': 3491, 'devoid': 3492, 'secondli': 3493, 'dud': 3494, 'blatant': 3495, 'mixtur': 3496, 'rabbit': 3497, 'predecessor': 3498, 'hal': 3499, 'gundam': 3500, 'dive': 3501, 'lol': 3502, 'beneath': 3503, 'yard': 3504, 'scope': 3505, 'glamor': 3506, 'museum': 3507, 'invas': 3508, 'myer': 3509, 'breed': 3510, 'streep': 3511, 'disjoint': 3512, 'arab': 3513, 'alert': 3514, 'z': 3515, 'countrysid': 3516, 'pearl': 3517, 'shirley': 3518, 'casual': 3519, 'hideou': 3520, 'domino': 3521, 'alfr': 3522, 'senseless': 3523, 'shelf': 3524, 'april': 3525, 'talki': 3526, 'et': 3527, 'trademark': 3528, 'garbo': 3529, 'aggress': 3530, 'simplist': 3531, 'grinch': 3532, 'khan': 3533, 'hopeless': 3534, 'stack': 3535, 'disgrac': 3536, 'stir': 3537, 'unhappi': 3538, 'maci': 3539, 'experiment': 3540, 'boom': 3541, 'defens': 3542, 'robberi': 3543, 'sh': 3544, 'loyal': 3545, 'slide': 3546, 'acid': 3547, 'stellar': 3548, 'mail': 3549, 'illeg': 3550, 'uwe': 3551, 'oz': 3552, 'obtain': 3553, 'robinson': 3554, 'vanish': 3555, 'hardcor': 3556, 'mayor': 3557, 'rendit': 3558, 'applaud': 3559, 'fri': 3560, 'emphasi': 3561, 'berlin': 3562, 'incomprehens': 3563, 'recruit': 3564, 'diana': 3565, 'declin': 3566, 'wont': 3567, 'topless': 3568, 'rifl': 3569, 'dicken': 3570, 'psychic': 3571, 'blew': 3572, 'spider': 3573, 'craze': 3574, 'tempt': 3575, 'counter': 3576, 'grandfath': 3577, 'tenant': 3578, 'span': 3579, 'dismiss': 3580, 'soccer': 3581, 'hartley': 3582, 'amanda': 3583, 'scroog': 3584, 'revolt': 3585, 'sibl': 3586, 'sympath': 3587, 'justin': 3588, 'ration': 3589, 'shed': 3590, 'bitch': 3591, 'resurrect': 3592, 'goer': 3593, 'faster': 3594, 'trashi': 3595, 'shaw': 3596, 'intim': 3597, 'riot': 3598, 'lumet': 3599, 'woo': 3600, 'parad': 3601, 'niro': 3602, 'ethnic': 3603, 'wet': 3604, 'porno': 3605, 'steam': 3606, 'biographi': 3607, 'partial': 3608, 'eager': 3609, 'hesit': 3610, 'choru': 3611, 'mario': 3612, 'slick': 3613, 'honesti': 3614, 'patriot': 3615, 'jonathan': 3616, 'rider': 3617, 'unreal': 3618, 'dealer': 3619, 'hopper': 3620, 'farmer': 3621, '00': 3622, 'weakest': 3623, 'region': 3624, 'lena': 3625, 'nephew': 3626, 'enlighten': 3627, 'wheel': 3628, 'commend': 3629, 'ensur': 3630, 'gap': 3631, 'feminist': 3632, 'wendi': 3633, 'worm': 3634, 'immort': 3635, 'ballet': 3636, 'andr': 3637, 'nostalg': 3638, 'charlott': 3639, 'morri': 3640, 'vice': 3641, 'repress': 3642, 'victori': 3643, 'prequel': 3644, 'mutant': 3645, 'skull': 3646, 'hung': 3647, 'psychopath': 3648, 'leo': 3649, 'snap': 3650, 'sappi': 3651, 'safeti': 3652, 'wore': 3653, 'franco': 3654, 'blunt': 3655, 'util': 3656, 'owen': 3657, 'sandra': 3658, 'confin': 3659, 'similarli': 3660, 'kingdom': 3661, 'composit': 3662, 'properti': 3663, 'macarthur': 3664, 'tad': 3665, 'drain': 3666, 'emperor': 3667, 'despair': 3668, 'compens': 3669, 'rambl': 3670, 'repli': 3671, 'compass': 3672, '1972': 3673, 'thru': 3674, 'rocki': 3675, 'dust': 3676, 'speci': 3677, 'bergman': 3678, 'campbel': 3679, 'del': 3680, 'exit': 3681, 'farrel': 3682, 'montana': 3683, 'bonu': 3684, 'miseri': 3685, 'deed': 3686, 'kyle': 3687, 'drum': 3688, 'strand': 3689, 'cg': 3690, 'latin': 3691, 'whoopi': 3692, 'bow': 3693, 'bumbl': 3694, 'acquir': 3695, 'pattern': 3696, 'hyde': 3697, 'valuabl': 3698, 'tail': 3699, 'recycl': 3700, 'dalton': 3701, 'nervou': 3702, 'rope': 3703, 'snl': 3704, 'heartbreak': 3705, 'oppress': 3706, '35': 3707, 'rotten': 3708, 'downhil': 3709, 'rapist': 3710, 'roth': 3711, 'bleed': 3712, 'mistress': 3713, 'carradin': 3714, 'da': 3715, 'percept': 3716, 'orson': 3717, 'gal': 3718, 'olli': 3719, 'pour': 3720, 'airport': 3721, 'gimmick': 3722, 'martian': 3723, 'radic': 3724, 'tonight': 3725, 'romp': 3726, 'wacki': 3727, 'contempl': 3728, 'chess': 3729, 'slug': 3730, 'champion': 3731, 'pervers': 3732, 'preach': 3733, 'belt': 3734, 'pursuit': 3735, 'slash': 3736, 'dazzl': 3737, 'shelley': 3738, 'paltrow': 3739, 'mislead': 3740, 'stilt': 3741, 'tackl': 3742, '1983': 3743, 'tooth': 3744, 'arguabl': 3745, 'arc': 3746, 'taught': 3747, 'banal': 3748, 'programm': 3749, 'unpredict': 3750, 'edgar': 3751, 'pervert': 3752, 'heal': 3753, 'melodi': 3754, 'attorney': 3755, 'passeng': 3756, 'raymond': 3757, 'gambl': 3758, 'duval': 3759, 'poem': 3760, 'cleverli': 3761, 'virginia': 3762, 'franki': 3763, 'graham': 3764, 'closest': 3765, 'tiresom': 3766, 'vengeanc': 3767, 'vocal': 3768, 'uplift': 3769, 'orang': 3770, 'maid': 3771, 'chicken': 3772, 'mesmer': 3773, 'sensat': 3774, 'conneri': 3775, 'plight': 3776, 'dixon': 3777, 'bela': 3778, 'rubi': 3779, 'employe': 3780, 'marti': 3781, 'climact': 3782, 'gerard': 3783, 'inject': 3784, 'profan': 3785, 'sirk': 3786, 'quarter': 3787, 'extens': 3788, 'paranoia': 3789, 'tube': 3790, 'convincingli': 3791, 'scottish': 3792, 'giggl': 3793, 'numb': 3794, 'amitabh': 3795, 'volum': 3796, 'lundgren': 3797, 'yawn': 3798, '1968': 3799, 'crystal': 3800, 'clone': 3801, 'habit': 3802, 'mute': 3803, 'abraham': 3804, 'engross': 3805, 'calm': 3806, 'bay': 3807, 'iran': 3808, 'monologu': 3809, 'whine': 3810, 'swallow': 3811, 'suffic': 3812, 'secretli': 3813, 'outing': 3814, 'pokemon': 3815, 'richardson': 3816, 'junior': 3817, 'earl': 3818, 'im': 3819, 'frankenstein': 3820, 'profess': 3821, 'grotesqu': 3822, 'abort': 3823, 'meander': 3824, 'chicago': 3825, 'backward': 3826, 'austen': 3827, 'franci': 3828, 'spock': 3829, 'lowest': 3830, 'taxi': 3831, 'bend': 3832, 'underst': 3833, 'poetri': 3834, 'fed': 3835, 'septemb': 3836, 'nichola': 3837, 'dispos': 3838, 'linger': 3839, 'expand': 3840, 'ethan': 3841, 'surpass': 3842, 'trend': 3843, 'plod': 3844, 'catchi': 3845, 'sue': 3846, 'eugen': 3847, 'compliment': 3848, 'descent': 3849, 'econom': 3850, 'muddl': 3851, 'simplic': 3852, 'mundan': 3853, 'rubber': 3854, 'instrument': 3855, 'waitress': 3856, 'der': 3857, 'myth': 3858, 'nostalgia': 3859, 'cannon': 3860, 'dysfunct': 3861, 'stallon': 3862, 'household': 3863, 'spoke': 3864, 'lure': 3865, 'greedi': 3866, 'literatur': 3867, 'hum': 3868, 'rant': 3869, 'tourist': 3870, 'occupi': 3871, 'molli': 3872, 'mortal': 3873, 'phoni': 3874, 'crucial': 3875, 'cent': 3876, 'coast': 3877, 'recognis': 3878, 'june': 3879, 'flee': 3880, 'recognit': 3881, 'insur': 3882, 'dictat': 3883, 'duck': 3884, 'stale': 3885, 'firstli': 3886, 'eaten': 3887, 'map': 3888, 'sissi': 3889, 'deaf': 3890, 'irrelev': 3891, 'equival': 3892, 'alongsid': 3893, 'bacal': 3894, 'phantom': 3895, 'lang': 3896, 'omen': 3897, 'furi': 3898, 'randi': 3899, 'louis': 3900, 'hello': 3901, 'dement': 3902, 'damon': 3903, 'mankind': 3904, 'carel': 3905, 'twilight': 3906, 'onlin': 3907, 'reign': 3908, 'loyalti': 3909, 'wisdom': 3910, 'grayson': 3911, 'ashley': 3912, 'blackmail': 3913, 'lengthi': 3914, 'distinguish': 3915, 'daisi': 3916, 'heel': 3917, 'dreari': 3918, 'newli': 3919, 'rooney': 3920, 'bike': 3921, 'labor': 3922, 'buffalo': 3923, 'damm': 3924, 'rude': 3925, 'drake': 3926, 'freez': 3927, 'biko': 3928, 'antwon': 3929, '1973': 3930, 'bump': 3931, 'likewis': 3932, 'cyborg': 3933, 'chronicl': 3934, 'incorpor': 3935, 'boxer': 3936, 'inher': 3937, 'barrymor': 3938, 'emphas': 3939, 'attribut': 3940, 'interior': 3941, 'prey': 3942, 'exposur': 3943, 'tunnel': 3944, 'butler': 3945, 'worn': 3946, 'nineti': 3947, 'proce': 3948, 'sailor': 3949, 'ridden': 3950, 'vein': 3951, 'startl': 3952, 'approv': 3953, 'pink': 3954, 'unorigin': 3955, 'basketbal': 3956, 'analysi': 3957, 'provoc': 3958, 'baddi': 3959, 'keith': 3960, 'othello': 3961, 'mighti': 3962, 'fleet': 3963, 'degrad': 3964, 'underli': 3965, 'improvis': 3966, 'unrel': 3967, 'condemn': 3968, 'walsh': 3969, 'barrel': 3970, 'elm': 3971, 'millionair': 3972, 'predat': 3973, 'undeni': 3974, 'nicol': 3975, 'meg': 3976, 'bunni': 3977, 'belushi': 3978, 'substitut': 3979, 'mormon': 3980, 'hypnot': 3981, 'er': 3982, 'stalker': 3983, 'drift': 3984, 'indiffer': 3985, 'carla': 3986, 'julian': 3987, 'meyer': 3988, 'robbin': 3989, 'simmon': 3990, 'lampoon': 3991, 'warmth': 3992, 'palac': 3993, 'disord': 3994, 'mtv': 3995, 'dolph': 3996, 'priceless': 3997, 'roof': 3998, 'shove': 3999, 'exquisit': 4000, 'vital': 4001, 'marion': 4002, 'alarm': 4003, '3d': 4004, 'hay': 4005, 'errol': 4006, 'reid': 4007, 'agenda': 4008, 'greed': 4009, 'novak': 4010, 'enthusiasm': 4011, 'nyc': 4012, 'watson': 4013, 'rukh': 4014, 'firm': 4015, 'unawar': 4016, 'edgi': 4017, 'alison': 4018, 'spain': 4019, 'nun': 4020, 'sergeant': 4021, 'angela': 4022, 'eastern': 4023, 'testament': 4024, '13th': 4025, 'valentin': 4026, 'crown': 4027, 'cassidi': 4028, 'profit': 4029, 'drip': 4030, 'gestur': 4031, 'glanc': 4032, 'peril': 4033, 'israel': 4034, 'preserv': 4035, 'distort': 4036, 'unleash': 4037, 'randomli': 4038, 'iraq': 4039, 'coup': 4040, 'championship': 4041, '1933': 4042, 'petti': 4043, 'minimum': 4044, 'orlean': 4045, 'pamela': 4046, 'session': 4047, 'showdown': 4048, 'thompson': 4049, 'simultan': 4050, 'what': 4051, 'peck': 4052, 'campaign': 4053, 'zizek': 4054, 'ponder': 4055, 'beatl': 4056, 'shootout': 4057, 'han': 4058, 'travesti': 4059, 'wig': 4060, '1984': 4061, 'fido': 4062, 'cooki': 4063, 'crawl': 4064, 'quinn': 4065, 'mon': 4066, 'calib': 4067, 'jan': 4068, 'realm': 4069, 'rout': 4070, 'climat': 4071, 'scotland': 4072, 'valley': 4073, 'exposit': 4074, 'contradict': 4075, 'bro': 4076, 'gentleman': 4077, 'reson': 4078, 'stroke': 4079, 'unimagin': 4080, 'empathi': 4081, 'regist': 4082, 'din': 4083, 'represent': 4084, 'stake': 4085, 'restrain': 4086, 'crow': 4087, 'brenda': 4088, 'perpetu': 4089, 'sabrina': 4090, 'cream': 4091, 'kurosawa': 4092, 'miyazaki': 4093, 'buster': 4094, 'baldwin': 4095, 'unseen': 4096, '1997': 4097, 'mclaglen': 4098, 'traumat': 4099, 'shoddi': 4100, 'absent': 4101, 'unsatisfi': 4102, 'spacey': 4103, 'perceiv': 4104, 'femm': 4105, 'derang': 4106, 'stargat': 4107, 'distress': 4108, 'greg': 4109, 'ross': 4110, 'tacki': 4111, 'pretens': 4112, 'monoton': 4113, 'shaki': 4114, 'warrant': 4115, 'sucker': 4116, 'demis': 4117, 'abomin': 4118, 'josh': 4119, '1987': 4120, 'delic': 4121, 'painter': 4122, 'cloud': 4123, 'wax': 4124, 'compromis': 4125, 'soderbergh': 4126, 'darren': 4127, 'ustinov': 4128, 'meryl': 4129, 'sammi': 4130, 'geek': 4131, 'censor': 4132, 'dana': 4133, 'crawford': 4134, 'pole': 4135, 'passabl': 4136, 'businessman': 4137, 'fuller': 4138, '1993': 4139, 'wholli': 4140, 'austin': 4141, 'reluct': 4142, 'judgment': 4143, 'jewel': 4144, 'accuraci': 4145, 'kumar': 4146, 'uncov': 4147, 'furiou': 4148, 'primit': 4149, 'sid': 4150, 'fenc': 4151, 'unravel': 4152, 'verbal': 4153, 'deceas': 4154, 'anchor': 4155, 'tech': 4156, 'deniro': 4157, 'exclus': 4158, 'clash': 4159, 'correctli': 4160, 'nathan': 4161, 'tarantino': 4162, 'polici': 4163, 'click': 4164, 'norm': 4165, 'dee': 4166, 'seal': 4167, 'antonioni': 4168, 'expedit': 4169, 'fog': 4170, 'valid': 4171, 'pocket': 4172, 'seldom': 4173, 'debt': 4174, 'ritual': 4175, 'wretch': 4176, '3000': 4177, '1995': 4178, '1971': 4179, 'dreck': 4180, 'temper': 4181, 'sheet': 4182, 'nicola': 4183, 'enforc': 4184, 'hallucin': 4185, 'sunni': 4186, 'trait': 4187, 'slam': 4188, 'shanghai': 4189, 'sand': 4190, 'conduct': 4191, 'behold': 4192, 'mode': 4193, 'logan': 4194, 'joel': 4195, 'fabric': 4196, '2008': 4197, 'fart': 4198, 'fought': 4199, 'vanc': 4200, 'darn': 4201, 'crippl': 4202, 'patienc': 4203, 'roller': 4204, 'bake': 4205, 'murray': 4206, 'sustain': 4207, 'tax': 4208, 'alec': 4209, 'unfair': 4210, 'malon': 4211, 'clerk': 4212, 'wang': 4213, 'helpless': 4214, 'rita': 4215, 'outlin': 4216, 'exhaust': 4217, 'conscious': 4218, 'squad': 4219, 'bias': 4220, 'clau': 4221, 'stuart': 4222, 'shell': 4223, 'canyon': 4224, 'robber': 4225, 'despis': 4226, 'fundament': 4227, 'stark': 4228, 'penni': 4229, 'soup': 4230, 'preston': 4231, 'sweep': 4232, 'pete': 4233, 'legaci': 4234, 'divid': 4235, 'isabel': 4236, 'runner': 4237, 'tactic': 4238, 'critiqu': 4239, 'grief': 4240, 'scriptwrit': 4241, 'technicolor': 4242, 'preposter': 4243, 'schedul': 4244, 'bridget': 4245, 'guitar': 4246, 'phil': 4247, 'alicia': 4248, 'cigarett': 4249, 'alley': 4250, 'gregori': 4251, 'culmin': 4252, 'drove': 4253, 'delv': 4254, 'liberti': 4255, 'palanc': 4256, 'boyl': 4257, 'passag': 4258, 'vomit': 4259, 'unexpectedli': 4260, 'restrict': 4261, 'agenc': 4262, 'flair': 4263, 'bloom': 4264, 'rehash': 4265, 'sentinel': 4266, 'downey': 4267, 'consciou': 4268, 'kansa': 4269, 'jacket': 4270, 'marc': 4271, 'inabl': 4272, 'rear': 4273, 'propos': 4274, 'lacklust': 4275, 'invad': 4276, 'implic': 4277, 'newman': 4278, 'sugar': 4279, 'sniper': 4280, 'connor': 4281, 'jodi': 4282, 'russia': 4283, 'improb': 4284, 'arrow': 4285, 'karl': 4286, 'ladder': 4287, 'aesthet': 4288, 'delet': 4289, 'cap': 4290, '1936': 4291, 'pale': 4292, 'mccoy': 4293, 'lush': 4294, 'awhil': 4295, 'horn': 4296, 'chainsaw': 4297, 'tendenc': 4298, 'rehears': 4299, 'bacon': 4300, 'feat': 4301, 'tripe': 4302, 'behaviour': 4303, 'foxx': 4304, '22': 4305, 'asylum': 4306, 'sharon': 4307, 'rod': 4308, 'vet': 4309, 'wrench': 4310, 'yeti': 4311, 'rampag': 4312, 'kolchak': 4313, 'el': 4314, 'weav': 4315, '1920': 4316, 'wildli': 4317, 'suspicion': 4318, 'conscienc': 4319, 'loneli': 4320, 'fright': 4321, 'sung': 4322, 'scoop': 4323, 'basing': 4324, 'coaster': 4325, 'hackney': 4326, '1988': 4327, 'financ': 4328, 'lurk': 4329, 'spice': 4330, 'filler': 4331, 'paradis': 4332, 'aristocrat': 4333, 'stream': 4334, 'tasteless': 4335, 'suffici': 4336, 'rhythm': 4337, 'newcom': 4338, 'globe': 4339, 'tomorrow': 4340, 'minu': 4341, 'paramount': 4342, 'rumor': 4343, 'visitor': 4344, 'hulk': 4345, 'hungri': 4346, 'amazon': 4347, 'shortcom': 4348, '19th': 4349, 'wagner': 4350, 'underneath': 4351, 'elit': 4352, '1978': 4353, 'prank': 4354, 'thunderbird': 4355, 'straightforward': 4356, 'abrupt': 4357, 'quietli': 4358, 'literari': 4359, 'smell': 4360, 'counterpart': 4361, 'ingeni': 4362, 'en': 4363, 'cancer': 4364, 'naughti': 4365, 'secondari': 4366, 'paxton': 4367, 'iv': 4368, 'rub': 4369, 'beverli': 4370, 'chavez': 4371, 'leigh': 4372, '1989': 4373, 'choppi': 4374, 'brit': 4375, 'recogniz': 4376, 'ram': 4377, 'heist': 4378, 'standout': 4379, 'posey': 4380, 'immers': 4381, 'entranc': 4382, 'minist': 4383, 'dirt': 4384, 'lectur': 4385, 'penn': 4386, 'worship': 4387, 'curli': 4388, 'hopkin': 4389, 'chamberlain': 4390, 'impos': 4391, 'tierney': 4392, 'couch': 4393, 'inmat': 4394, '75': 4395, 'wwe': 4396, '1939': 4397, 'springer': 4398, 'grudg': 4399, 'bread': 4400, 'atroc': 4401, 'teas': 4402, 'bernard': 4403, 'variat': 4404, '1986': 4405, 'moreov': 4406, 'quaid': 4407, 'policeman': 4408, 'lindsay': 4409, 'watcher': 4410, 'sublim': 4411, 'esther': 4412, 'transcend': 4413, 'morbid': 4414, 'enthral': 4415, 'nemesi': 4416, 'nolan': 4417, 'sassi': 4418, 'net': 4419, 'injuri': 4420, 'convert': 4421, 'entitl': 4422, 'misguid': 4423, 'duel': 4424, 'cattl': 4425, 'attenborough': 4426, 'clan': 4427, 'ace': 4428, 'skeptic': 4429, 'heartfelt': 4430, 'yearn': 4431, 'laurenc': 4432, 'ratso': 4433, 'missil': 4434, 'geni': 4435, 'out': 4436, 'graini': 4437, 'brood': 4438, 'obstacl': 4439, 'moder': 4440, 'hk': 4441, 'mytholog': 4442, 'characteris': 4443, 'carlito': 4444, 'artsi': 4445, 'egg': 4446, 'tyler': 4447, 'youngest': 4448, 'kidman': 4449, 'diari': 4450, 'facil': 4451, 'hopelessli': 4452, 'vader': 4453, 'bye': 4454, 'grin': 4455, 'unexplain': 4456, 'puppi': 4457, 'setup': 4458, 'enabl': 4459, 'rosemari': 4460, '1979': 4461, 'cruelti': 4462, 'reliabl': 4463, 'steadi': 4464, 'dont': 4465, 'buzz': 4466, 'poe': 4467, 'spiral': 4468, 'bean': 4469, 'kitti': 4470, 'uncut': 4471, 'bronson': 4472, 'sweat': 4473, 'narrow': 4474, 'bewar': 4475, 'baffl': 4476, 'patricia': 4477, 'oblig': 4478, 'fuel': 4479, 'decept': 4480, 'athlet': 4481, 'weather': 4482, 'spontan': 4483, 'underworld': 4484, '1969': 4485, 'hammi': 4486, 'brendan': 4487, 'kline': 4488, 'acquaint': 4489, 'gillian': 4490, 'exterior': 4491, 'clueless': 4492, 'disastr': 4493, 'heap': 4494, 'bounc': 4495, 'christin': 4496, 'martha': 4497, 'niec': 4498, 'preming': 4499, 'despic': 4500, 'effici': 4501, 'gina': 4502, 'hain': 4503, 'sooner': 4504, 'tick': 4505, 'sleepwalk': 4506, 'harmless': 4507, 'outlaw': 4508, 'loath': 4509, 'biker': 4510, 'virtu': 4511, 'housewif': 4512, '73': 4513, 'injur': 4514, 'angst': 4515, 'uh': 4516, 'candl': 4517, 'enlist': 4518, '19': 4519, 'dilemma': 4520, 'astound': 4521, 'scar': 4522, 'goof': 4523, 'suprem': 4524, 'hepburn': 4525, 'mayhem': 4526, 'mermaid': 4527, 'rome': 4528, 'trigger': 4529, 'shatter': 4530, 'lester': 4531, 'renaiss': 4532, 'taboo': 4533, 'headach': 4534, 'loi': 4535, 'viewpoint': 4536, 'analyz': 4537, 'dandi': 4538, 'insipid': 4539, 'fontain': 4540, 'preachi': 4541, 'circu': 4542, 'oldest': 4543, 'stair': 4544, 'bent': 4545, 'amor': 4546, 'foolish': 4547, 'spade': 4548, 'contempt': 4549, 'macho': 4550, 'glorifi': 4551, 'redund': 4552, 'claustrophob': 4553, 'hostag': 4554, 'boston': 4555, 'dish': 4556, 'cassavet': 4557, 'camcord': 4558, 'hokey': 4559, 'guin': 4560, 'zoom': 4561, 'ariel': 4562, 'salt': 4563, 'steer': 4564, 'fluff': 4565, 'scorses': 4566, 'surgeri': 4567, 'whore': 4568, 'hooker': 4569, 'slimi': 4570, 'immatur': 4571, 'dismal': 4572, 'ebert': 4573, 'intric': 4574, 'stimul': 4575, 'gere': 4576, 'tripl': 4577, 'overlong': 4578, 'idol': 4579, 'sox': 4580, 'phenomenon': 4581, 'filth': 4582, 'corbett': 4583, 'cow': 4584, 'spinal': 4585, 'widescreen': 4586, '1981': 4587, 'rhyme': 4588, 'radiat': 4589, 'shield': 4590, '1976': 4591, 'down': 4592, 'messi': 4593, 'joker': 4594, 'harold': 4595, 'assert': 4596, 'obligatori': 4597, 'proport': 4598, 'antagonist': 4599, 'muscl': 4600, 'remad': 4601, 'astronaut': 4602, 'dwarf': 4603, 'faint': 4604, 'alvin': 4605, 'perman': 4606, 'cush': 4607, 'spree': 4608, 'strongest': 4609, 'mutual': 4610, 'conquer': 4611, 'beard': 4612, 'flashi': 4613, 'margin': 4614, 'flag': 4615, 'trivia': 4616, 'keen': 4617, 'frantic': 4618, 'preced': 4619, 'flirt': 4620, 'transplant': 4621, 'fascist': 4622, 'cohen': 4623, 'shred': 4624, 'schlock': 4625, 'gasp': 4626, 'naschi': 4627, 'gabl': 4628, 'mount': 4629, 'zane': 4630, 'nolt': 4631, 'corman': 4632, 'info': 4633, 'triangl': 4634, 'discern': 4635, 'bitten': 4636, 'barn': 4637, 'instruct': 4638, 'inflict': 4639, '1945': 4640, 'divin': 4641, 'resum': 4642, 'vaniti': 4643, 'repris': 4644, 'wield': 4645, 'www': 4646, 'hara': 4647, 'sensual': 4648, 'strive': 4649, 'interestingli': 4650, 'ritchi': 4651, 'someday': 4652, '95': 4653, 'deer': 4654, 'persuad': 4655, 'mobil': 4656, 'boob': 4657, 'neurot': 4658, 'brush': 4659, 'raj': 4660, 'archiv': 4661, 'claud': 4662, 'departur': 4663, 'flock': 4664, 'bachelor': 4665, '28': 4666, 'scandal': 4667, 'off': 4668, 'danish': 4669, 'aborigin': 4670, 'fishburn': 4671, 'mol': 4672, 'carey': 4673, 'traffic': 4674, 'earnest': 4675, 'miracul': 4676, 'dylan': 4677, 'pickford': 4678, 'fragil': 4679, 'luka': 4680, 'bate': 4681, 'timberlak': 4682, 'proclaim': 4683, 'frontier': 4684, 'artwork': 4685, 'parson': 4686, 'senior': 4687, 'pixar': 4688, 'neill': 4689, 'ish': 4690, 'helm': 4691, 'dame': 4692, 'cliffhang': 4693, 'prophet': 4694, 'hapless': 4695, 'banter': 4696, 'clad': 4697, 'kathryn': 4698, 'heartwarm': 4699, 'biblic': 4700, 'carlo': 4701, 'casino': 4702, 'vibrant': 4703, 'submit': 4704, 'hug': 4705, 'jade': 4706, 'rot': 4707, 'dim': 4708, 'undermin': 4709, 'recit': 4710, 'hilar': 4711, 'cycl': 4712, 'cher': 4713, 'cb': 4714, 'mobster': 4715, 'melissa': 4716, 'anton': 4717, 'colin': 4718, 'harrison': 4719, 'wendigo': 4720, 'axe': 4721, 'pacif': 4722, 'loretta': 4723, 'europa': 4724, 'http': 4725, 'antholog': 4726, 'vile': 4727, 'rooki': 4728, 'sicken': 4729, 'blatantli': 4730, 'pc': 4731, 'feast': 4732, 'static': 4733, 'isra': 4734, 'cerebr': 4735, 'alexandr': 4736, 'breakfast': 4737, 'flavor': 4738, 'lui': 4739, 'winchest': 4740, 'razor': 4741, 'foil': 4742, 'jo': 4743, 'choke': 4744, 'vanessa': 4745, 'eli': 4746, 'mason': 4747, 'uma': 4748, 'toronto': 4749, 'northern': 4750, 'orphan': 4751, 'jordan': 4752, 'akin': 4753, 'wardrob': 4754, 'trier': 4755, 'nope': 4756, 'illus': 4757, 'venom': 4758, 'marlon': 4759, 'bikini': 4760, 'misfortun': 4761, 'estrang': 4762, 'seedi': 4763, 'redneck': 4764, 'shepherd': 4765, 'legitim': 4766, 'lucil': 4767, 'holocaust': 4768, 'electron': 4769, 'token': 4770, 'bondag': 4771, 'articl': 4772, 'aris': 4773, 'mathieu': 4774, 'milo': 4775, 'howl': 4776, 'shorter': 4777, 'clinic': 4778, 'charlton': 4779, 'frog': 4780, 'fifth': 4781, 'oppon': 4782, 'dudley': 4783, 'huston': 4784, 'tack': 4785, 'leather': 4786, 'turd': 4787, 'knightley': 4788, 'linear': 4789, 'peer': 4790, 'magician': 4791, 'disregard': 4792, 'outdat': 4793, 'glare': 4794, 'swept': 4795, 'audrey': 4796, 'wrestler': 4797, 'abund': 4798, 'psych': 4799, 'smack': 4800, 'ideolog': 4801, 'gunga': 4802, 'nightclub': 4803, 'cartoonish': 4804, 'feminin': 4805, 'ceremoni': 4806, 'deem': 4807, 'styliz': 4808, 'comprehend': 4809, 'retriev': 4810, 'boyer': 4811, 'highway': 4812, 'affleck': 4813, 'gilbert': 4814, 'whack': 4815, 'greet': 4816, 'einstein': 4817, 'phenomen': 4818, 'btw': 4819, 'braveheart': 4820, 'bastard': 4821, 'snatch': 4822, 'client': 4823, '1991': 4824, '4th': 4825, 'spawn': 4826, 'breakdown': 4827, 'deliver': 4828, 'lighter': 4829, 'collector': 4830, 'tara': 4831, 'summar': 4832, 'lavish': 4833, 'bogu': 4834, 'monument': 4835, 'spine': 4836, '1994': 4837, 'compris': 4838, 'goldsworthi': 4839, 'evolut': 4840, 'energet': 4841, 'corn': 4842, 'toe': 4843, 'cemeteri': 4844, 'potter': 4845, 'boo': 4846, 'sleaz': 4847, 'plate': 4848, 'uniformli': 4849, 'lifeless': 4850, 'cuban': 4851, 'senat': 4852, 'moe': 4853, 'chip': 4854, 'durat': 4855, 'newer': 4856, 'mitch': 4857, 'conrad': 4858, 'salman': 4859, 'healthi': 4860, 'constitut': 4861, 'bulk': 4862, 'jule': 4863, 'cecil': 4864, 'jedi': 4865, 'neatli': 4866, 'sorrow': 4867, 'alleg': 4868, 'fluid': 4869, 'undertak': 4870, 'appl': 4871, 'jam': 4872, 'eleven': 4873, 'mcqueen': 4874, 'wtf': 4875, 'trauma': 4876, 'occup': 4877, 'historian': 4878, 'belli': 4879, 'jare': 4880, 'luxuri': 4881, 'armstrong': 4882, 'spectacl': 4883, 'kent': 4884, 'firmli': 4885, 'gilliam': 4886, 'replay': 4887, 'capot': 4888, 'ie': 4889, 'nina': 4890, 'pronounc': 4891, 'evelyn': 4892, 'liu': 4893, 'outright': 4894, 'signal': 4895, 'clara': 4896, 'ol': 4897, 'judd': 4898, 'inaccuraci': 4899, 'creek': 4900, '1977': 4901, 'undead': 4902, '1974': 4903, 'lex': 4904, 'randolph': 4905, 'embark': 4906, 'kazan': 4907, 'bori': 4908, 'meal': 4909, 'vignett': 4910, 'mum': 4911, 'comb': 4912, 'fruit': 4913, 'relentless': 4914, 'inaccur': 4915, 'abound': 4916, 'miniseri': 4917, 'groan': 4918, 'id': 4919, 'blur': 4920, 'roar': 4921, 'inclus': 4922, 'comprehens': 4923, 'sacrif': 4924, 'unsuspect': 4925, 'aussi': 4926, 'decapit': 4927, 'spray': 4928, 'galaxi': 4929, 'congratul': 4930, 'forgiven': 4931, 'conan': 4932, 'palm': 4933, 'propheci': 4934, 'unattract': 4935, '1985': 4936, 'walt': 4937, 'rosario': 4938, 'knee': 4939, 'tokyo': 4940, 'pioneer': 4941, 'porter': 4942, 'lauren': 4943, 'cape': 4944, 'antonio': 4945, 'vain': 4946, 'sidewalk': 4947, 'poker': 4948, 'genet': 4949, 'miami': 4950, 'paula': 4951, 'kiddi': 4952, 'subtli': 4953, 'truman': 4954, 'goldblum': 4955, 'lanc': 4956, 'bsg': 4957, 'curtain': 4958, 'ash': 4959, 'pepper': 4960, 'carmen': 4961, 'basket': 4962, 'bait': 4963, 'asset': 4964, 'vastli': 4965, 'optimist': 4966, 'hostil': 4967, 'dubiou': 4968, 'masterson': 4969, 'mice': 4970, 'spill': 4971, 'profil': 4972, 'incorrect': 4973, 'scariest': 4974, 'detach': 4975, 'reincarn': 4976, 'turtl': 4977, 'weari': 4978, '21st': 4979, 'monti': 4980, 'scarfac': 4981, 'verg': 4982, 'playboy': 4983, 'modest': 4984, 'omin': 4985, 'bravo': 4986, 'frontal': 4987, 'ingrid': 4988, 'rapidli': 4989, 'assort': 4990, 'weaker': 4991, 'growth': 4992, 'sophi': 4993, 'substanti': 4994, 'drone': 4995, 'macabr': 4996, 'hackman': 4997, 'motorcycl': 4998, 'casper': 4999}\n"
     ]
    }
   ],
   "source": [
    "# TODO: Use this space to determine the five most frequently appearing words in the training set.\n",
    "print(word_dict)\n",
    "w = list(word_dict.keys())[:5]"
   ]
  },
  {
   "cell_type": "markdown",
   "metadata": {},
   "source": [
    "### Save `word_dict`\n",
    "\n",
    "Later on when we construct an endpoint which processes a submitted review we will need to make use of the `word_dict` which we have created. As such, we will save it to a file now for future use."
   ]
  },
  {
   "cell_type": "code",
   "execution_count": 82,
   "metadata": {},
   "outputs": [],
   "source": [
    "data_dir = '../data/pytorch' # The folder we will use for storing data\n",
    "if not os.path.exists(data_dir): # Make sure that the folder exists\n",
    "    os.makedirs(data_dir)"
   ]
  },
  {
   "cell_type": "code",
   "execution_count": 83,
   "metadata": {},
   "outputs": [],
   "source": [
    "with open(os.path.join(data_dir, 'word_dict.pkl'), \"wb\") as f:\n",
    "    pickle.dump(word_dict, f)"
   ]
  },
  {
   "cell_type": "markdown",
   "metadata": {},
   "source": [
    "### Transform the reviews\n",
    "\n",
    "Now that we have our word dictionary which allows us to transform the words appearing in the reviews into integers, it is time to make use of it and convert our reviews to their integer sequence representation, making sure to pad or truncate to a fixed length, which in our case is `500`."
   ]
  },
  {
   "cell_type": "code",
   "execution_count": 84,
   "metadata": {},
   "outputs": [],
   "source": [
    "def convert_and_pad(word_dict, sentence, pad=500):\n",
    "    NOWORD = 0 # We will use 0 to represent the 'no word' category\n",
    "    INFREQ = 1 # and we use 1 to represent the infrequent words, i.e., words not appearing in word_dict\n",
    "    \n",
    "    working_sentence = [NOWORD] * pad\n",
    "    \n",
    "    for word_index, word in enumerate(sentence[:pad]):\n",
    "        if word in word_dict:\n",
    "            working_sentence[word_index] = word_dict[word]\n",
    "        else:\n",
    "            working_sentence[word_index] = INFREQ\n",
    "            \n",
    "    return working_sentence, min(len(sentence), pad)\n",
    "\n",
    "def convert_and_pad_data(word_dict, data, pad=500):\n",
    "    result = []\n",
    "    lengths = []\n",
    "    \n",
    "    for sentence in data:\n",
    "        converted, leng = convert_and_pad(word_dict, sentence, pad)\n",
    "        result.append(converted)\n",
    "        lengths.append(leng)\n",
    "        \n",
    "    return np.array(result), np.array(lengths)"
   ]
  },
  {
   "cell_type": "code",
   "execution_count": 85,
   "metadata": {},
   "outputs": [],
   "source": [
    "train_X, train_X_len = convert_and_pad_data(word_dict, train_X)\n",
    "test_X, test_X_len = convert_and_pad_data(word_dict, test_X)"
   ]
  },
  {
   "cell_type": "markdown",
   "metadata": {},
   "source": [
    "As a quick check to make sure that things are working as intended, check to see what one of the reviews in the training set looks like after having been processeed. Does this look reasonable? What is the length of a review in the training set?"
   ]
  },
  {
   "cell_type": "code",
   "execution_count": 86,
   "metadata": {},
   "outputs": [
    {
     "name": "stdout",
     "output_type": "stream",
     "text": [
      "Train Samples  (25000, 500)\n",
      "Test Samples  (25000, 500)\n"
     ]
    },
    {
     "data": {
      "text/plain": [
       "array([1133,  379,    2,  928,   90,  248,   18,    2,  116, 3494, 2126,\n",
       "       4324,    1, 4512, 1263, 3824, 3674,  535, 3383,   28,  803, 3136,\n",
       "          2,  710,   82,    2,  504,  124, 1682,  407, 2941,  493,  160,\n",
       "       1086,  702,  698,    1, 3186,  159,  680,    1,  535, 1817, 1792,\n",
       "         54,  163,    2,   10,  387,   31,  387,   37,    2, 2994,   25,\n",
       "       1813,  111,  403, 3136,    1, 1242,   61,  201,  163,  235,  648,\n",
       "        252, 1954,    1, 1102, 2134,  623,  986,  207,  540,  214,  639,\n",
       "        918,   95,    4, 1065,    1,   10,   86, 1882,  552,  443,    2,\n",
       "        406,   21,    5,  399, 3472,  416,   93,   18, 1022, 4324, 3115,\n",
       "          1,  302,   73,   17, 3445,    0,    0,    0,    0,    0,    0,\n",
       "          0,    0,    0,    0,    0,    0,    0,    0,    0,    0,    0,\n",
       "          0,    0,    0,    0,    0,    0,    0,    0,    0,    0,    0,\n",
       "          0,    0,    0,    0,    0,    0,    0,    0,    0,    0,    0,\n",
       "          0,    0,    0,    0,    0,    0,    0,    0,    0,    0,    0,\n",
       "          0,    0,    0,    0,    0,    0,    0,    0,    0,    0,    0,\n",
       "          0,    0,    0,    0,    0,    0,    0,    0,    0,    0,    0,\n",
       "          0,    0,    0,    0,    0,    0,    0,    0,    0,    0,    0,\n",
       "          0,    0,    0,    0,    0,    0,    0,    0,    0,    0,    0,\n",
       "          0,    0,    0,    0,    0,    0,    0,    0,    0,    0,    0,\n",
       "          0,    0,    0,    0,    0,    0,    0,    0,    0,    0,    0,\n",
       "          0,    0,    0,    0,    0,    0,    0,    0,    0,    0,    0,\n",
       "          0,    0,    0,    0,    0,    0,    0,    0,    0,    0,    0,\n",
       "          0,    0,    0,    0,    0,    0,    0,    0,    0,    0,    0,\n",
       "          0,    0,    0,    0,    0,    0,    0,    0,    0,    0,    0,\n",
       "          0,    0,    0,    0,    0,    0,    0,    0,    0,    0,    0,\n",
       "          0,    0,    0,    0,    0,    0,    0,    0,    0,    0,    0,\n",
       "          0,    0,    0,    0,    0,    0,    0,    0,    0,    0,    0,\n",
       "          0,    0,    0,    0,    0,    0,    0,    0,    0,    0,    0,\n",
       "          0,    0,    0,    0,    0,    0,    0,    0,    0,    0,    0,\n",
       "          0,    0,    0,    0,    0,    0,    0,    0,    0,    0,    0,\n",
       "          0,    0,    0,    0,    0,    0,    0,    0,    0,    0,    0,\n",
       "          0,    0,    0,    0,    0,    0,    0,    0,    0,    0,    0,\n",
       "          0,    0,    0,    0,    0,    0,    0,    0,    0,    0,    0,\n",
       "          0,    0,    0,    0,    0,    0,    0,    0,    0,    0,    0,\n",
       "          0,    0,    0,    0,    0,    0,    0,    0,    0,    0,    0,\n",
       "          0,    0,    0,    0,    0,    0,    0,    0,    0,    0,    0,\n",
       "          0,    0,    0,    0,    0,    0,    0,    0,    0,    0,    0,\n",
       "          0,    0,    0,    0,    0,    0,    0,    0,    0,    0,    0,\n",
       "          0,    0,    0,    0,    0,    0,    0,    0,    0,    0,    0,\n",
       "          0,    0,    0,    0,    0,    0,    0,    0,    0,    0,    0,\n",
       "          0,    0,    0,    0,    0,    0,    0,    0,    0,    0,    0,\n",
       "          0,    0,    0,    0,    0,    0,    0,    0,    0,    0,    0,\n",
       "          0,    0,    0,    0,    0,    0,    0,    0,    0,    0,    0,\n",
       "          0,    0,    0,    0,    0,    0,    0,    0,    0,    0,    0,\n",
       "          0,    0,    0,    0,    0,    0,    0,    0,    0,    0,    0,\n",
       "          0,    0,    0,    0,    0])"
      ]
     },
     "execution_count": 86,
     "metadata": {},
     "output_type": "execute_result"
    }
   ],
   "source": [
    "# Use this cell to examine one of the processed reviews to make sure everything is working as intended.\n",
    "print(\"Train Samples \",train_X.shape)\n",
    "print(\"Test Samples \",test_X.shape)\n",
    "train_X[100]"
   ]
  },
  {
   "cell_type": "markdown",
   "metadata": {},
   "source": [
    "**Question:** In the cells above we use the `preprocess_data` and `convert_and_pad_data` methods to process both the training and testing set. Why or why not might this be a problem?"
   ]
  },
  {
   "cell_type": "markdown",
   "metadata": {},
   "source": [
    "**Answer:** The goal is to ensure that the training and test data would be of the same format before either training/prediction. This would mean integer encoding them and then preparing the data. The greater number of features meaning the model will train slowly. So it's a good thing to cap off the maximum numbers of words we have by either padding or truncating. However the issues arises when the test data has vocabulary we never accounted for. This might possibly affect the prediciton since all words have the same interger encoding and hence would be slightly a bad thing"
   ]
  },
  {
   "cell_type": "markdown",
   "metadata": {},
   "source": [
    "## Step 3: Upload the data to S3\n",
    "\n",
    "As in the XGBoost notebook, we will need to upload the training dataset to S3 in order for our training code to access it. For now we will save it locally and we will upload to S3 later on.\n",
    "\n",
    "### Save the processed training dataset locally\n",
    "\n",
    "It is important to note the format of the data that we are saving as we will need to know it when we write the training code. In our case, each row of the dataset has the form `label`, `length`, `review[500]` where `review[500]` is a sequence of `500` integers representing the words in the review."
   ]
  },
  {
   "cell_type": "code",
   "execution_count": 87,
   "metadata": {},
   "outputs": [],
   "source": [
    "import pandas as pd\n",
    "    \n",
    "pd.concat([pd.DataFrame(train_y), pd.DataFrame(train_X_len), pd.DataFrame(train_X)], axis=1) \\\n",
    "        .to_csv(os.path.join(data_dir, 'train.csv'), header=False, index=False)"
   ]
  },
  {
   "cell_type": "markdown",
   "metadata": {},
   "source": [
    "### Uploading the training data\n",
    "\n",
    "\n",
    "Next, we need to upload the training data to the SageMaker default S3 bucket so that we can provide access to it while training our model."
   ]
  },
  {
   "cell_type": "code",
   "execution_count": 88,
   "metadata": {},
   "outputs": [],
   "source": [
    "import sagemaker\n",
    "\n",
    "sagemaker_session = sagemaker.Session()\n",
    "\n",
    "bucket = sagemaker_session.default_bucket()\n",
    "prefix = 'sagemaker/sentiment_rnn'\n",
    "\n",
    "role = sagemaker.get_execution_role()"
   ]
  },
  {
   "cell_type": "code",
   "execution_count": 89,
   "metadata": {},
   "outputs": [],
   "source": [
    "input_data = sagemaker_session.upload_data(path=data_dir, bucket=bucket, key_prefix=prefix)"
   ]
  },
  {
   "cell_type": "markdown",
   "metadata": {},
   "source": [
    "**NOTE:** The cell above uploads the entire contents of our data directory. This includes the `word_dict.pkl` file. This is fortunate as we will need this later on when we create an endpoint that accepts an arbitrary review. For now, we will just take note of the fact that it resides in the data directory (and so also in the S3 training bucket) and that we will need to make sure it gets saved in the model directory."
   ]
  },
  {
   "cell_type": "markdown",
   "metadata": {},
   "source": [
    "## Step 4: Build and Train the PyTorch Model\n",
    "\n",
    "In the XGBoost notebook we discussed what a model is in the SageMaker framework. In particular, a model comprises three objects\n",
    "\n",
    " - Model Artifacts,\n",
    " - Training Code, and\n",
    " - Inference Code,\n",
    " \n",
    "each of which interact with one another. In the XGBoost example we used training and inference code that was provided by Amazon. Here we will still be using containers provided by Amazon with the added benefit of being able to include our own custom code.\n",
    "\n",
    "We will start by implementing our own neural network in PyTorch along with a training script. For the purposes of this project we have provided the necessary model object in the `model.py` file, inside of the `train` folder. You can see the provided implementation by running the cell below."
   ]
  },
  {
   "cell_type": "code",
   "execution_count": 90,
   "metadata": {},
   "outputs": [
    {
     "name": "stdout",
     "output_type": "stream",
     "text": [
      "\u001b[34mimport\u001b[39;49;00m \u001b[04m\u001b[36mtorch\u001b[39;49;00m\u001b[04m\u001b[36m.\u001b[39;49;00m\u001b[04m\u001b[36mnn\u001b[39;49;00m \u001b[34mas\u001b[39;49;00m \u001b[04m\u001b[36mnn\u001b[39;49;00m\r\n",
      "\r\n",
      "\u001b[34mclass\u001b[39;49;00m \u001b[04m\u001b[32mLSTMClassifier\u001b[39;49;00m(nn.Module):\r\n",
      "    \u001b[33m\"\"\"\u001b[39;49;00m\r\n",
      "\u001b[33m    This is the simple RNN model we will be using to perform Sentiment Analysis.\u001b[39;49;00m\r\n",
      "\u001b[33m    \"\"\"\u001b[39;49;00m\r\n",
      "\r\n",
      "    \u001b[34mdef\u001b[39;49;00m \u001b[32m__init__\u001b[39;49;00m(\u001b[36mself\u001b[39;49;00m, embedding_dim, hidden_dim, vocab_size):\r\n",
      "        \u001b[33m\"\"\"\u001b[39;49;00m\r\n",
      "\u001b[33m        Initialize the model by settingg up the various layers.\u001b[39;49;00m\r\n",
      "\u001b[33m        \"\"\"\u001b[39;49;00m\r\n",
      "        \u001b[36msuper\u001b[39;49;00m(LSTMClassifier, \u001b[36mself\u001b[39;49;00m).\u001b[32m__init__\u001b[39;49;00m()\r\n",
      "\r\n",
      "        \u001b[36mself\u001b[39;49;00m.embedding = nn.Embedding(vocab_size, embedding_dim, padding_idx=\u001b[34m0\u001b[39;49;00m)\r\n",
      "        \u001b[36mself\u001b[39;49;00m.lstm = nn.LSTM(embedding_dim, hidden_dim)\r\n",
      "        \u001b[36mself\u001b[39;49;00m.dense = nn.Linear(in_features=hidden_dim, out_features=\u001b[34m1\u001b[39;49;00m)\r\n",
      "        \u001b[36mself\u001b[39;49;00m.sig = nn.Sigmoid()\r\n",
      "        \r\n",
      "        \u001b[36mself\u001b[39;49;00m.word_dict = \u001b[34mNone\u001b[39;49;00m\r\n",
      "\r\n",
      "    \u001b[34mdef\u001b[39;49;00m \u001b[32mforward\u001b[39;49;00m(\u001b[36mself\u001b[39;49;00m, x):\r\n",
      "        \u001b[33m\"\"\"\u001b[39;49;00m\r\n",
      "\u001b[33m        Perform a forward pass of our model on some input.\u001b[39;49;00m\r\n",
      "\u001b[33m        \"\"\"\u001b[39;49;00m\r\n",
      "        x = x.t()\r\n",
      "        lengths = x[\u001b[34m0\u001b[39;49;00m,:]\r\n",
      "        reviews = x[\u001b[34m1\u001b[39;49;00m:,:]\r\n",
      "        embeds = \u001b[36mself\u001b[39;49;00m.embedding(reviews)\r\n",
      "        lstm_out, _ = \u001b[36mself\u001b[39;49;00m.lstm(embeds)\r\n",
      "        out = \u001b[36mself\u001b[39;49;00m.dense(lstm_out)\r\n",
      "        out = out[lengths - \u001b[34m1\u001b[39;49;00m, \u001b[36mrange\u001b[39;49;00m(\u001b[36mlen\u001b[39;49;00m(lengths))]\r\n",
      "        \u001b[34mreturn\u001b[39;49;00m \u001b[36mself\u001b[39;49;00m.sig(out.squeeze())\r\n"
     ]
    }
   ],
   "source": [
    "!pygmentize train/model.py"
   ]
  },
  {
   "cell_type": "markdown",
   "metadata": {},
   "source": [
    "The important takeaway from the implementation provided is that there are three parameters that we may wish to tweak to improve the performance of our model. These are the embedding dimension, the hidden dimension and the size of the vocabulary. We will likely want to make these parameters configurable in the training script so that if we wish to modify them we do not need to modify the script itself. We will see how to do this later on. To start we will write some of the training code in the notebook so that we can more easily diagnose any issues that arise.\n",
    "\n",
    "First we will load a small portion of the training data set to use as a sample. It would be very time consuming to try and train the model completely in the notebook as we do not have access to a gpu and the compute instance that we are using is not particularly powerful. However, we can work on a small bit of the data to get a feel for how our training script is behaving."
   ]
  },
  {
   "cell_type": "code",
   "execution_count": 91,
   "metadata": {},
   "outputs": [],
   "source": [
    "import torch\n",
    "import torch.utils.data\n",
    "\n",
    "# Read in only the first 250 rows\n",
    "train_sample = pd.read_csv(os.path.join(data_dir, 'train.csv'), header=None, names=None, nrows=250)\n",
    "\n",
    "# Turn the input pandas dataframe into tensors\n",
    "train_sample_y = torch.from_numpy(train_sample[[0]].values).float().squeeze()\n",
    "train_sample_X = torch.from_numpy(train_sample.drop([0], axis=1).values).long()\n",
    "\n",
    "# Build the dataset\n",
    "train_sample_ds = torch.utils.data.TensorDataset(train_sample_X, train_sample_y)\n",
    "# Build the dataloader\n",
    "train_sample_dl = torch.utils.data.DataLoader(train_sample_ds, batch_size=50)"
   ]
  },
  {
   "cell_type": "markdown",
   "metadata": {},
   "source": [
    "### (TODO) Writing the training method\n",
    "\n",
    "Next we need to write the training code itself. This should be very similar to training methods that you have written before to train PyTorch models. We will leave any difficult aspects such as model saving / loading and parameter loading until a little later."
   ]
  },
  {
   "cell_type": "code",
   "execution_count": 92,
   "metadata": {},
   "outputs": [],
   "source": [
    "def train(model, train_loader, epochs, optimizer, loss_fn, device):\n",
    "    for epoch in range(1, epochs + 1):\n",
    "        model.train()\n",
    "        total_loss = 0\n",
    "        for batch in train_loader:         \n",
    "            batch_X, batch_y = batch\n",
    "            \n",
    "            batch_X = batch_X.to(device)\n",
    "            batch_y = batch_y.to(device)\n",
    "            \n",
    "            # TODO: Complete this train method to train the model provided.\n",
    "            optimizer.zero_grad()\n",
    "            pred = model.forward(batch_X)\n",
    "            logloss = loss_fn(pred, batch_y)\n",
    "            logloss.backward()\n",
    "            optimizer.step()\n",
    "            total_loss += logloss.data.item()\n",
    "        print(\"Epoch: {}, BCELoss: {}\".format(epoch, total_loss / len(train_loader)))"
   ]
  },
  {
   "cell_type": "markdown",
   "metadata": {},
   "source": [
    "Supposing we have the training method above, we will test that it is working by writing a bit of code in the notebook that executes our training method on the small sample training set that we loaded earlier. The reason for doing this in the notebook is so that we have an opportunity to fix any errors that arise early when they are easier to diagnose."
   ]
  },
  {
   "cell_type": "code",
   "execution_count": 93,
   "metadata": {},
   "outputs": [
    {
     "name": "stdout",
     "output_type": "stream",
     "text": [
      "Epoch: 1, BCELoss: 0.6936736941337586\n",
      "Epoch: 2, BCELoss: 0.6834160804748535\n",
      "Epoch: 3, BCELoss: 0.6742631793022156\n",
      "Epoch: 4, BCELoss: 0.6638772845268249\n",
      "Epoch: 5, BCELoss: 0.6510543346405029\n"
     ]
    }
   ],
   "source": [
    "import torch.optim as optim\n",
    "from train.model import LSTMClassifier\n",
    "\n",
    "device = torch.device(\"cuda\" if torch.cuda.is_available() else \"cpu\")\n",
    "model = LSTMClassifier(32, 100, 5000).to(device)\n",
    "optimizer = optim.Adam(model.parameters())\n",
    "loss_fn = torch.nn.BCELoss()\n",
    "\n",
    "train(model, train_sample_dl, 5, optimizer, loss_fn, device)"
   ]
  },
  {
   "cell_type": "markdown",
   "metadata": {},
   "source": [
    "In order to construct a PyTorch model using SageMaker we must provide SageMaker with a training script. We may optionally include a directory which will be copied to the container and from which our training code will be run. When the training container is executed it will check the uploaded directory (if there is one) for a `requirements.txt` file and install any required Python libraries, after which the training script will be run."
   ]
  },
  {
   "cell_type": "markdown",
   "metadata": {},
   "source": [
    "### (TODO) Training the model\n",
    "\n",
    "When a PyTorch model is constructed in SageMaker, an entry point must be specified. This is the Python file which will be executed when the model is trained. Inside of the `train` directory is a file called `train.py` which has been provided and which contains most of the necessary code to train our model. The only thing that is missing is the implementation of the `train()` method which you wrote earlier in this notebook.\n",
    "\n",
    "**TODO**: Copy the `train()` method written above and paste it into the `train/train.py` file where required.\n",
    "\n",
    "The way that SageMaker passes hyperparameters to the training script is by way of arguments. These arguments can then be parsed and used in the training script. To see how this is done take a look at the provided `train/train.py` file."
   ]
  },
  {
   "cell_type": "code",
   "execution_count": 106,
   "metadata": {},
   "outputs": [],
   "source": [
    "from sagemaker.pytorch import PyTorch\n",
    "\n",
    "estimator = PyTorch(entry_point=\"train.py\",\n",
    "                    source_dir=\"train\",\n",
    "                    role=role,\n",
    "                    framework_version='0.4.0',\n",
    "                    train_instance_count=1,\n",
    "                    train_instance_type='ml.p2.xlarge',\n",
    "                    hyperparameters={\n",
    "                        'epochs': 10,\n",
    "                        'hidden_dim': 200,\n",
    "                    })"
   ]
  },
  {
   "cell_type": "code",
   "execution_count": 107,
   "metadata": {},
   "outputs": [
    {
     "name": "stderr",
     "output_type": "stream",
     "text": [
      "'create_image_uri' will be deprecated in favor of 'ImageURIProvider' class in SageMaker Python SDK v2.\n",
      "'s3_input' class will be renamed to 'TrainingInput' in SageMaker Python SDK v2.\n",
      "'create_image_uri' will be deprecated in favor of 'ImageURIProvider' class in SageMaker Python SDK v2.\n"
     ]
    },
    {
     "name": "stdout",
     "output_type": "stream",
     "text": [
      "2021-03-17 16:24:33 Starting - Starting the training job...\n",
      "2021-03-17 16:24:35 Starting - Launching requested ML instances......\n",
      "2021-03-17 16:26:00 Starting - Preparing the instances for training.........\n",
      "2021-03-17 16:27:13 Downloading - Downloading input data...\n",
      "2021-03-17 16:27:49 Training - Downloading the training image...\n",
      "2021-03-17 16:28:21 Training - Training image download completed. Training in progress.\u001b[34mbash: cannot set terminal process group (-1): Inappropriate ioctl for device\u001b[0m\n",
      "\u001b[34mbash: no job control in this shell\u001b[0m\n",
      "\u001b[34m2021-03-17 16:28:21,318 sagemaker-containers INFO     Imported framework sagemaker_pytorch_container.training\u001b[0m\n",
      "\u001b[34m2021-03-17 16:28:21,344 sagemaker_pytorch_container.training INFO     Block until all host DNS lookups succeed.\u001b[0m\n",
      "\u001b[34m2021-03-17 16:28:22,767 sagemaker_pytorch_container.training INFO     Invoking user training script.\u001b[0m\n",
      "\u001b[34m2021-03-17 16:28:23,088 sagemaker-containers INFO     Module train does not provide a setup.py. \u001b[0m\n",
      "\u001b[34mGenerating setup.py\u001b[0m\n",
      "\u001b[34m2021-03-17 16:28:23,088 sagemaker-containers INFO     Generating setup.cfg\u001b[0m\n",
      "\u001b[34m2021-03-17 16:28:23,088 sagemaker-containers INFO     Generating MANIFEST.in\u001b[0m\n",
      "\u001b[34m2021-03-17 16:28:23,088 sagemaker-containers INFO     Installing module with the following command:\u001b[0m\n",
      "\u001b[34m/usr/bin/python -m pip install -U . -r requirements.txt\u001b[0m\n",
      "\u001b[34mProcessing /opt/ml/code\u001b[0m\n",
      "\u001b[34mCollecting pandas (from -r requirements.txt (line 1))\u001b[0m\n",
      "\u001b[34m  Downloading https://files.pythonhosted.org/packages/74/24/0cdbf8907e1e3bc5a8da03345c23cbed7044330bb8f73bb12e711a640a00/pandas-0.24.2-cp35-cp35m-manylinux1_x86_64.whl (10.0MB)\u001b[0m\n",
      "\u001b[34mCollecting numpy (from -r requirements.txt (line 2))\n",
      "  Downloading https://files.pythonhosted.org/packages/b5/36/88723426b4ff576809fec7d73594fe17a35c27f8d01f93637637a29ae25b/numpy-1.18.5-cp35-cp35m-manylinux1_x86_64.whl (19.9MB)\u001b[0m\n",
      "\u001b[34mCollecting nltk (from -r requirements.txt (line 3))\n",
      "  Downloading https://files.pythonhosted.org/packages/92/75/ce35194d8e3022203cca0d2f896dbb88689f9b3fce8e9f9cff942913519d/nltk-3.5.zip (1.4MB)\u001b[0m\n",
      "\u001b[34mCollecting beautifulsoup4 (from -r requirements.txt (line 4))\n",
      "  Downloading https://files.pythonhosted.org/packages/d1/41/e6495bd7d3781cee623ce23ea6ac73282a373088fcd0ddc809a047b18eae/beautifulsoup4-4.9.3-py3-none-any.whl (115kB)\u001b[0m\n",
      "\u001b[34mCollecting html5lib (from -r requirements.txt (line 5))\n",
      "  Downloading https://files.pythonhosted.org/packages/6c/dd/a834df6482147d48e225a49515aabc28974ad5a4ca3215c18a882565b028/html5lib-1.1-py2.py3-none-any.whl (112kB)\u001b[0m\n",
      "\u001b[34mCollecting pytz>=2011k (from pandas->-r requirements.txt (line 1))\n",
      "  Downloading https://files.pythonhosted.org/packages/70/94/784178ca5dd892a98f113cdd923372024dc04b8d40abe77ca76b5fb90ca6/pytz-2021.1-py2.py3-none-any.whl (510kB)\u001b[0m\n",
      "\u001b[34mRequirement already satisfied, skipping upgrade: python-dateutil>=2.5.0 in /usr/local/lib/python3.5/dist-packages (from pandas->-r requirements.txt (line 1)) (2.7.5)\u001b[0m\n",
      "\u001b[34mRequirement already satisfied, skipping upgrade: click in /usr/local/lib/python3.5/dist-packages (from nltk->-r requirements.txt (line 3)) (7.0)\u001b[0m\n",
      "\u001b[34mCollecting joblib (from nltk->-r requirements.txt (line 3))\n",
      "  Downloading https://files.pythonhosted.org/packages/28/5c/cf6a2b65a321c4a209efcdf64c2689efae2cb62661f8f6f4bb28547cf1bf/joblib-0.14.1-py2.py3-none-any.whl (294kB)\u001b[0m\n",
      "\u001b[34mCollecting regex (from nltk->-r requirements.txt (line 3))\u001b[0m\n",
      "\u001b[34m  Downloading https://files.pythonhosted.org/packages/2e/e4/3447fed9ab29944333f48730ecff4dca92f0868c5b188d6ab2b2078e32c2/regex-2020.11.13.tar.gz (694kB)\u001b[0m\n",
      "\u001b[34mCollecting tqdm (from nltk->-r requirements.txt (line 3))\n",
      "  Downloading https://files.pythonhosted.org/packages/f8/3e/2730d0effc282960dbff3cf91599ad0d8f3faedc8e75720fdf224b31ab24/tqdm-4.59.0-py2.py3-none-any.whl (74kB)\u001b[0m\n",
      "\u001b[34mCollecting soupsieve>1.2; python_version >= \"3.0\" (from beautifulsoup4->-r requirements.txt (line 4))\n",
      "  Downloading https://files.pythonhosted.org/packages/02/fb/1c65691a9aeb7bd6ac2aa505b84cb8b49ac29c976411c6ab3659425e045f/soupsieve-2.1-py3-none-any.whl\u001b[0m\n",
      "\u001b[34mCollecting webencodings (from html5lib->-r requirements.txt (line 5))\n",
      "  Downloading https://files.pythonhosted.org/packages/f4/24/2a3e3df732393fed8b3ebf2ec078f05546de641fe1b667ee316ec1dcf3b7/webencodings-0.5.1-py2.py3-none-any.whl\u001b[0m\n",
      "\u001b[34mRequirement already satisfied, skipping upgrade: six>=1.9 in /usr/local/lib/python3.5/dist-packages (from html5lib->-r requirements.txt (line 5)) (1.11.0)\u001b[0m\n",
      "\u001b[34mBuilding wheels for collected packages: nltk, train, regex\n",
      "  Running setup.py bdist_wheel for nltk: started\u001b[0m\n",
      "\u001b[34m  Running setup.py bdist_wheel for nltk: finished with status 'done'\n",
      "  Stored in directory: /root/.cache/pip/wheels/ae/8c/3f/b1fe0ba04555b08b57ab52ab7f86023639a526d8bc8d384306\n",
      "  Running setup.py bdist_wheel for train: started\u001b[0m\n",
      "\u001b[34m  Running setup.py bdist_wheel for train: finished with status 'done'\n",
      "  Stored in directory: /tmp/pip-ephem-wheel-cache-stsbjokm/wheels/35/24/16/37574d11bf9bde50616c67372a334f94fa8356bc7164af8ca3\n",
      "  Running setup.py bdist_wheel for regex: started\u001b[0m\n",
      "\u001b[34m  Running setup.py bdist_wheel for regex: finished with status 'done'\n",
      "  Stored in directory: /root/.cache/pip/wheels/27/f6/66/a4243e485a0ebc73dc59033ae26c48e82526f77dbfe158ac59\u001b[0m\n",
      "\u001b[34mSuccessfully built nltk train regex\u001b[0m\n",
      "\u001b[34mInstalling collected packages: numpy, pytz, pandas, joblib, regex, tqdm, nltk, soupsieve, beautifulsoup4, webencodings, html5lib, train\n",
      "  Found existing installation: numpy 1.15.4\n",
      "    Uninstalling numpy-1.15.4:\u001b[0m\n",
      "\u001b[34m      Successfully uninstalled numpy-1.15.4\u001b[0m\n",
      "\u001b[34mSuccessfully installed beautifulsoup4-4.9.3 html5lib-1.1 joblib-0.14.1 nltk-3.5 numpy-1.18.5 pandas-0.24.2 pytz-2021.1 regex-2020.11.13 soupsieve-2.1 tqdm-4.59.0 train-1.0.0 webencodings-0.5.1\u001b[0m\n",
      "\u001b[34mYou are using pip version 18.1, however version 20.3.4 is available.\u001b[0m\n",
      "\u001b[34mYou should consider upgrading via the 'pip install --upgrade pip' command.\u001b[0m\n",
      "\u001b[34m2021-03-17 16:28:46,622 sagemaker-containers INFO     Invoking user script\n",
      "\u001b[0m\n",
      "\u001b[34mTraining Env:\n",
      "\u001b[0m\n",
      "\u001b[34m{\n",
      "    \"network_interface_name\": \"eth0\",\n",
      "    \"log_level\": 20,\n",
      "    \"additional_framework_parameters\": {},\n",
      "    \"module_name\": \"train\",\n",
      "    \"num_gpus\": 1,\n",
      "    \"job_name\": \"sagemaker-pytorch-2021-03-17-16-24-33-386\",\n",
      "    \"channel_input_dirs\": {\n",
      "        \"training\": \"/opt/ml/input/data/training\"\n",
      "    },\n",
      "    \"output_intermediate_dir\": \"/opt/ml/output/intermediate\",\n",
      "    \"input_dir\": \"/opt/ml/input\",\n",
      "    \"hyperparameters\": {\n",
      "        \"epochs\": 10,\n",
      "        \"hidden_dim\": 200\n",
      "    },\n",
      "    \"input_config_dir\": \"/opt/ml/input/config\",\n",
      "    \"num_cpus\": 4,\n",
      "    \"input_data_config\": {\n",
      "        \"training\": {\n",
      "            \"TrainingInputMode\": \"File\",\n",
      "            \"RecordWrapperType\": \"None\",\n",
      "            \"S3DistributionType\": \"FullyReplicated\"\n",
      "        }\n",
      "    },\n",
      "    \"module_dir\": \"s3://sagemaker-us-east-2-693304196311/sagemaker-pytorch-2021-03-17-16-24-33-386/source/sourcedir.tar.gz\",\n",
      "    \"user_entry_point\": \"train.py\",\n",
      "    \"hosts\": [\n",
      "        \"algo-1\"\n",
      "    ],\n",
      "    \"current_host\": \"algo-1\",\n",
      "    \"resource_config\": {\n",
      "        \"network_interface_name\": \"eth0\",\n",
      "        \"hosts\": [\n",
      "            \"algo-1\"\n",
      "        ],\n",
      "        \"current_host\": \"algo-1\"\n",
      "    },\n",
      "    \"output_dir\": \"/opt/ml/output\",\n",
      "    \"model_dir\": \"/opt/ml/model\",\n",
      "    \"output_data_dir\": \"/opt/ml/output/data\",\n",
      "    \"framework_module\": \"sagemaker_pytorch_container.training:main\"\u001b[0m\n",
      "\u001b[34m}\n",
      "\u001b[0m\n",
      "\u001b[34mEnvironment variables:\n",
      "\u001b[0m\n",
      "\u001b[34mSM_INPUT_DIR=/opt/ml/input\u001b[0m\n",
      "\u001b[34mSM_MODULE_DIR=s3://sagemaker-us-east-2-693304196311/sagemaker-pytorch-2021-03-17-16-24-33-386/source/sourcedir.tar.gz\u001b[0m\n",
      "\u001b[34mSM_OUTPUT_INTERMEDIATE_DIR=/opt/ml/output/intermediate\u001b[0m\n",
      "\u001b[34mSM_HPS={\"epochs\":10,\"hidden_dim\":200}\u001b[0m\n",
      "\u001b[34mSM_RESOURCE_CONFIG={\"current_host\":\"algo-1\",\"hosts\":[\"algo-1\"],\"network_interface_name\":\"eth0\"}\u001b[0m\n",
      "\u001b[34mSM_NUM_CPUS=4\u001b[0m\n",
      "\u001b[34mSM_MODEL_DIR=/opt/ml/model\u001b[0m\n",
      "\u001b[34mSM_USER_ARGS=[\"--epochs\",\"10\",\"--hidden_dim\",\"200\"]\u001b[0m\n",
      "\u001b[34mSM_CURRENT_HOST=algo-1\u001b[0m\n",
      "\u001b[34mSM_HP_EPOCHS=10\u001b[0m\n",
      "\u001b[34mSM_TRAINING_ENV={\"additional_framework_parameters\":{},\"channel_input_dirs\":{\"training\":\"/opt/ml/input/data/training\"},\"current_host\":\"algo-1\",\"framework_module\":\"sagemaker_pytorch_container.training:main\",\"hosts\":[\"algo-1\"],\"hyperparameters\":{\"epochs\":10,\"hidden_dim\":200},\"input_config_dir\":\"/opt/ml/input/config\",\"input_data_config\":{\"training\":{\"RecordWrapperType\":\"None\",\"S3DistributionType\":\"FullyReplicated\",\"TrainingInputMode\":\"File\"}},\"input_dir\":\"/opt/ml/input\",\"job_name\":\"sagemaker-pytorch-2021-03-17-16-24-33-386\",\"log_level\":20,\"model_dir\":\"/opt/ml/model\",\"module_dir\":\"s3://sagemaker-us-east-2-693304196311/sagemaker-pytorch-2021-03-17-16-24-33-386/source/sourcedir.tar.gz\",\"module_name\":\"train\",\"network_interface_name\":\"eth0\",\"num_cpus\":4,\"num_gpus\":1,\"output_data_dir\":\"/opt/ml/output/data\",\"output_dir\":\"/opt/ml/output\",\"output_intermediate_dir\":\"/opt/ml/output/intermediate\",\"resource_config\":{\"current_host\":\"algo-1\",\"hosts\":[\"algo-1\"],\"network_interface_name\":\"eth0\"},\"user_entry_point\":\"train.py\"}\u001b[0m\n",
      "\u001b[34mSM_NUM_GPUS=1\u001b[0m\n",
      "\u001b[34mSM_HP_HIDDEN_DIM=200\u001b[0m\n",
      "\u001b[34mSM_OUTPUT_DIR=/opt/ml/output\u001b[0m\n",
      "\u001b[34mSM_USER_ENTRY_POINT=train.py\u001b[0m\n",
      "\u001b[34mSM_CHANNEL_TRAINING=/opt/ml/input/data/training\u001b[0m\n",
      "\u001b[34mSM_OUTPUT_DATA_DIR=/opt/ml/output/data\u001b[0m\n",
      "\u001b[34mSM_HOSTS=[\"algo-1\"]\u001b[0m\n",
      "\u001b[34mSM_INPUT_DATA_CONFIG={\"training\":{\"RecordWrapperType\":\"None\",\"S3DistributionType\":\"FullyReplicated\",\"TrainingInputMode\":\"File\"}}\u001b[0m\n",
      "\u001b[34mSM_FRAMEWORK_PARAMS={}\u001b[0m\n",
      "\u001b[34mSM_CHANNELS=[\"training\"]\u001b[0m\n",
      "\u001b[34mSM_NETWORK_INTERFACE_NAME=eth0\u001b[0m\n",
      "\u001b[34mSM_FRAMEWORK_MODULE=sagemaker_pytorch_container.training:main\u001b[0m\n",
      "\u001b[34mSM_MODULE_NAME=train\u001b[0m\n",
      "\u001b[34mSM_LOG_LEVEL=20\u001b[0m\n",
      "\u001b[34mSM_INPUT_CONFIG_DIR=/opt/ml/input/config\u001b[0m\n",
      "\u001b[34mPYTHONPATH=/usr/local/bin:/usr/lib/python35.zip:/usr/lib/python3.5:/usr/lib/python3.5/plat-x86_64-linux-gnu:/usr/lib/python3.5/lib-dynload:/usr/local/lib/python3.5/dist-packages:/usr/lib/python3/dist-packages\n",
      "\u001b[0m\n",
      "\u001b[34mInvoking script with the following command:\n",
      "\u001b[0m\n",
      "\u001b[34m/usr/bin/python -m train --epochs 10 --hidden_dim 200\n",
      "\n",
      "\u001b[0m\n",
      "\u001b[34mUsing device cuda.\u001b[0m\n",
      "\u001b[34mGet train data loader.\u001b[0m\n",
      "\u001b[34mModel loaded with embedding_dim 32, hidden_dim 200, vocab_size 5000.\u001b[0m\n",
      "\u001b[34mEpoch: 1, BCELoss: 0.6745513458641208\u001b[0m\n",
      "\u001b[34mEpoch: 2, BCELoss: 0.6498306089518021\u001b[0m\n",
      "\u001b[34mEpoch: 3, BCELoss: 0.5459791415808152\u001b[0m\n",
      "\u001b[34mEpoch: 4, BCELoss: 0.45102820530229687\u001b[0m\n",
      "\u001b[34mEpoch: 5, BCELoss: 0.4063661956057257\u001b[0m\n",
      "\u001b[34mEpoch: 6, BCELoss: 0.35382664933496594\u001b[0m\n",
      "\u001b[34mEpoch: 7, BCELoss: 0.32998193770038836\u001b[0m\n",
      "\u001b[34mEpoch: 8, BCELoss: 0.3509213377018364\u001b[0m\n",
      "\u001b[34mEpoch: 9, BCELoss: 0.3058487252921474\u001b[0m\n",
      "\u001b[34mEpoch: 10, BCELoss: 0.29329267539540116\u001b[0m\n",
      "\u001b[34m2021-03-17 16:31:44,853 sagemaker-containers INFO     Reporting training SUCCESS\u001b[0m\n",
      "\n",
      "2021-03-17 16:31:53 Uploading - Uploading generated training model\n",
      "2021-03-17 16:31:53 Completed - Training job completed\n",
      "Training seconds: 280\n",
      "Billable seconds: 280\n"
     ]
    }
   ],
   "source": [
    "estimator.fit({'training': input_data})"
   ]
  },
  {
   "cell_type": "markdown",
   "metadata": {},
   "source": [
    "## Step 5: Testing the model\n",
    "\n",
    "As mentioned at the top of this notebook, we will be testing this model by first deploying it and then sending the testing data to the deployed endpoint. We will do this so that we can make sure that the deployed model is working correctly.\n",
    "\n",
    "## Step 6: Deploy the model for testing\n",
    "\n",
    "Now that we have trained our model, we would like to test it to see how it performs. Currently our model takes input of the form `review_length, review[500]` where `review[500]` is a sequence of `500` integers which describe the words present in the review, encoded using `word_dict`. Fortunately for us, SageMaker provides built-in inference code for models with simple inputs such as this.\n",
    "\n",
    "There is one thing that we need to provide, however, and that is a function which loads the saved model. This function must be called `model_fn()` and takes as its only parameter a path to the directory where the model artifacts are stored. This function must also be present in the python file which we specified as the entry point. In our case the model loading function has been provided and so no changes need to be made.\n",
    "\n",
    "**NOTE**: When the built-in inference code is run it must import the `model_fn()` method from the `train.py` file. This is why the training code is wrapped in a main guard ( ie, `if __name__ == '__main__':` )\n",
    "\n",
    "Since we don't need to change anything in the code that was uploaded during training, we can simply deploy the current model as-is.\n",
    "\n",
    "**NOTE:** When deploying a model you are asking SageMaker to launch an compute instance that will wait for data to be sent to it. As a result, this compute instance will continue to run until *you* shut it down. This is important to know since the cost of a deployed endpoint depends on how long it has been running for.\n",
    "\n",
    "In other words **If you are no longer using a deployed endpoint, shut it down!**\n",
    "\n",
    "**TODO:** Deploy the trained model."
   ]
  },
  {
   "cell_type": "code",
   "execution_count": 108,
   "metadata": {},
   "outputs": [
    {
     "name": "stderr",
     "output_type": "stream",
     "text": [
      "Parameter image will be renamed to image_uri in SageMaker Python SDK v2.\n",
      "'create_image_uri' will be deprecated in favor of 'ImageURIProvider' class in SageMaker Python SDK v2.\n"
     ]
    },
    {
     "name": "stdout",
     "output_type": "stream",
     "text": [
      "---------------!"
     ]
    }
   ],
   "source": [
    "# TODO: Deploy the trained model\n",
    "deployed = estimator.deploy(initial_instance_count = 1, instance_type = 'ml.m4.xlarge')"
   ]
  },
  {
   "cell_type": "markdown",
   "metadata": {},
   "source": [
    "## Step 7 - Use the model for testing\n",
    "\n",
    "Once deployed, we can read in the test data and send it off to our deployed model to get some results. Once we collect all of the results we can determine how accurate our model is."
   ]
  },
  {
   "cell_type": "code",
   "execution_count": 109,
   "metadata": {},
   "outputs": [],
   "source": [
    "test_X = pd.concat([pd.DataFrame(test_X_len), pd.DataFrame(test_X)], axis=1)"
   ]
  },
  {
   "cell_type": "code",
   "execution_count": 110,
   "metadata": {},
   "outputs": [],
   "source": [
    "# We split the data into chunks and send each chunk seperately, accumulating the results.\n",
    "\n",
    "def predict(data, rows=512):\n",
    "    split_array = np.array_split(data, int(data.shape[0] / float(rows) + 1))\n",
    "    predictions = np.array([])\n",
    "    for array in split_array:\n",
    "        predictions = np.append(predictions, deployed.predict(array))\n",
    "    \n",
    "    return predictions"
   ]
  },
  {
   "cell_type": "code",
   "execution_count": 111,
   "metadata": {},
   "outputs": [],
   "source": [
    "predictions = predict(test_X.values)\n",
    "predictions = [round(num) for num in predictions]"
   ]
  },
  {
   "cell_type": "code",
   "execution_count": 112,
   "metadata": {},
   "outputs": [
    {
     "data": {
      "text/plain": [
       "0.8438"
      ]
     },
     "execution_count": 112,
     "metadata": {},
     "output_type": "execute_result"
    }
   ],
   "source": [
    "from sklearn.metrics import accuracy_score\n",
    "accuracy_score(test_y, predictions)"
   ]
  },
  {
   "cell_type": "markdown",
   "metadata": {},
   "source": [
    "**Question:** How does this model compare to the XGBoost model you created earlier? Why might these two models perform differently on this dataset? Which do *you* think is better for sentiment analysis?"
   ]
  },
  {
   "cell_type": "markdown",
   "metadata": {},
   "source": [
    "**Answer:** XGBoost had 0.85728(web app tutorial) and the RNN we developed in this notebook has 0.8544 meaning the accuracy is more or less the same. While XGBoost is a great algorithm for Classification, it lacks the sophistication such as the gates in LSTM which remeber the past information and also let it influence your decision. For example, in a sentence having negative words followed by positive, it can make better decision by assimilating this information as a whole. So in case of complicated reviews, LSTM might have an edge although the reviews accuracy as almost similar"
   ]
  },
  {
   "cell_type": "markdown",
   "metadata": {},
   "source": [
    "### (TODO) More testing\n",
    "\n",
    "We now have a trained model which has been deployed and which we can send processed reviews to and which returns the predicted sentiment. However, ultimately we would like to be able to send our model an unprocessed review. That is, we would like to send the review itself as a string. For example, suppose we wish to send the following review to our model."
   ]
  },
  {
   "cell_type": "code",
   "execution_count": 114,
   "metadata": {},
   "outputs": [],
   "source": [
    "test_review = 'The simplest pleasures in life are the best, and this film is one of them. Combining a rather basic storyline of love and adventure this movie transcends the usual weekend fair with wit and unmitigated charm.'"
   ]
  },
  {
   "cell_type": "markdown",
   "metadata": {},
   "source": [
    "The question we now need to answer is, how do we send this review to our model?\n",
    "\n",
    "Recall in the first section of this notebook we did a bunch of data processing to the IMDb dataset. In particular, we did two specific things to the provided reviews.\n",
    " - Removed any html tags and stemmed the input\n",
    " - Encoded the review as a sequence of integers using `word_dict`\n",
    " \n",
    "In order process the review we will need to repeat these two steps.\n",
    "\n",
    "**TODO**: Using the `review_to_words` and `convert_and_pad` methods from section one, convert `test_review` into a numpy array `test_data` suitable to send to our model. Remember that our model expects input of the form `review_length, review[500]`."
   ]
  },
  {
   "cell_type": "code",
   "execution_count": 115,
   "metadata": {},
   "outputs": [
    {
     "name": "stdout",
     "output_type": "stream",
     "text": [
      "500\n"
     ]
    }
   ],
   "source": [
    "# TODO: Convert test_review into a form usable by the model and save the results in test_data\n",
    "test_data,test_len = convert_and_pad(word_dict, review_to_words(test_review))\n",
    "print(len(test_data))"
   ]
  },
  {
   "cell_type": "markdown",
   "metadata": {},
   "source": [
    "Now that we have processed the review, we can send the resulting array to our model to predict the sentiment of the review."
   ]
  },
  {
   "cell_type": "code",
   "execution_count": 116,
   "metadata": {},
   "outputs": [
    {
     "ename": "ModelError",
     "evalue": "An error occurred (ModelError) when calling the InvokeEndpoint operation: Received server error (500) from model with message \"<!DOCTYPE HTML PUBLIC \"-//W3C//DTD HTML 3.2 Final//EN\">\n<title>500 Internal Server Error</title>\n<h1>Internal Server Error</h1>\n<p>The server encountered an internal error and was unable to complete your request.  Either the server is overloaded or there is an error in the application.</p>\n\". See https://us-east-2.console.aws.amazon.com/cloudwatch/home?region=us-east-2#logEventViewer:group=/aws/sagemaker/Endpoints/sagemaker-pytorch-2021-03-17-16-24-33-386 in account 693304196311 for more information.",
     "output_type": "error",
     "traceback": [
      "\u001b[0;31m---------------------------------------------------------------------------\u001b[0m",
      "\u001b[0;31mModelError\u001b[0m                                Traceback (most recent call last)",
      "\u001b[0;32m<ipython-input-116-f9d6c5e0323b>\u001b[0m in \u001b[0;36m<module>\u001b[0;34m\u001b[0m\n\u001b[0;32m----> 1\u001b[0;31m \u001b[0mdeployed\u001b[0m\u001b[0;34m.\u001b[0m\u001b[0mpredict\u001b[0m\u001b[0;34m(\u001b[0m\u001b[0mtest_data\u001b[0m\u001b[0;34m)\u001b[0m\u001b[0;34m\u001b[0m\u001b[0;34m\u001b[0m\u001b[0m\n\u001b[0m",
      "\u001b[0;32m~/anaconda3/envs/pytorch_p36/lib/python3.6/site-packages/sagemaker/predictor.py\u001b[0m in \u001b[0;36mpredict\u001b[0;34m(self, data, initial_args, target_model, target_variant)\u001b[0m\n\u001b[1;32m    111\u001b[0m \u001b[0;34m\u001b[0m\u001b[0m\n\u001b[1;32m    112\u001b[0m         \u001b[0mrequest_args\u001b[0m \u001b[0;34m=\u001b[0m \u001b[0mself\u001b[0m\u001b[0;34m.\u001b[0m\u001b[0m_create_request_args\u001b[0m\u001b[0;34m(\u001b[0m\u001b[0mdata\u001b[0m\u001b[0;34m,\u001b[0m \u001b[0minitial_args\u001b[0m\u001b[0;34m,\u001b[0m \u001b[0mtarget_model\u001b[0m\u001b[0;34m,\u001b[0m \u001b[0mtarget_variant\u001b[0m\u001b[0;34m)\u001b[0m\u001b[0;34m\u001b[0m\u001b[0;34m\u001b[0m\u001b[0m\n\u001b[0;32m--> 113\u001b[0;31m         \u001b[0mresponse\u001b[0m \u001b[0;34m=\u001b[0m \u001b[0mself\u001b[0m\u001b[0;34m.\u001b[0m\u001b[0msagemaker_session\u001b[0m\u001b[0;34m.\u001b[0m\u001b[0msagemaker_runtime_client\u001b[0m\u001b[0;34m.\u001b[0m\u001b[0minvoke_endpoint\u001b[0m\u001b[0;34m(\u001b[0m\u001b[0;34m**\u001b[0m\u001b[0mrequest_args\u001b[0m\u001b[0;34m)\u001b[0m\u001b[0;34m\u001b[0m\u001b[0;34m\u001b[0m\u001b[0m\n\u001b[0m\u001b[1;32m    114\u001b[0m         \u001b[0;32mreturn\u001b[0m \u001b[0mself\u001b[0m\u001b[0;34m.\u001b[0m\u001b[0m_handle_response\u001b[0m\u001b[0;34m(\u001b[0m\u001b[0mresponse\u001b[0m\u001b[0;34m)\u001b[0m\u001b[0;34m\u001b[0m\u001b[0;34m\u001b[0m\u001b[0m\n\u001b[1;32m    115\u001b[0m \u001b[0;34m\u001b[0m\u001b[0m\n",
      "\u001b[0;32m~/anaconda3/envs/pytorch_p36/lib/python3.6/site-packages/botocore/client.py\u001b[0m in \u001b[0;36m_api_call\u001b[0;34m(self, *args, **kwargs)\u001b[0m\n\u001b[1;32m    355\u001b[0m                     \"%s() only accepts keyword arguments.\" % py_operation_name)\n\u001b[1;32m    356\u001b[0m             \u001b[0;31m# The \"self\" in this scope is referring to the BaseClient.\u001b[0m\u001b[0;34m\u001b[0m\u001b[0;34m\u001b[0m\u001b[0;34m\u001b[0m\u001b[0m\n\u001b[0;32m--> 357\u001b[0;31m             \u001b[0;32mreturn\u001b[0m \u001b[0mself\u001b[0m\u001b[0;34m.\u001b[0m\u001b[0m_make_api_call\u001b[0m\u001b[0;34m(\u001b[0m\u001b[0moperation_name\u001b[0m\u001b[0;34m,\u001b[0m \u001b[0mkwargs\u001b[0m\u001b[0;34m)\u001b[0m\u001b[0;34m\u001b[0m\u001b[0;34m\u001b[0m\u001b[0m\n\u001b[0m\u001b[1;32m    358\u001b[0m \u001b[0;34m\u001b[0m\u001b[0m\n\u001b[1;32m    359\u001b[0m         \u001b[0m_api_call\u001b[0m\u001b[0;34m.\u001b[0m\u001b[0m__name__\u001b[0m \u001b[0;34m=\u001b[0m \u001b[0mstr\u001b[0m\u001b[0;34m(\u001b[0m\u001b[0mpy_operation_name\u001b[0m\u001b[0;34m)\u001b[0m\u001b[0;34m\u001b[0m\u001b[0;34m\u001b[0m\u001b[0m\n",
      "\u001b[0;32m~/anaconda3/envs/pytorch_p36/lib/python3.6/site-packages/botocore/client.py\u001b[0m in \u001b[0;36m_make_api_call\u001b[0;34m(self, operation_name, api_params)\u001b[0m\n\u001b[1;32m    674\u001b[0m             \u001b[0merror_code\u001b[0m \u001b[0;34m=\u001b[0m \u001b[0mparsed_response\u001b[0m\u001b[0;34m.\u001b[0m\u001b[0mget\u001b[0m\u001b[0;34m(\u001b[0m\u001b[0;34m\"Error\"\u001b[0m\u001b[0;34m,\u001b[0m \u001b[0;34m{\u001b[0m\u001b[0;34m}\u001b[0m\u001b[0;34m)\u001b[0m\u001b[0;34m.\u001b[0m\u001b[0mget\u001b[0m\u001b[0;34m(\u001b[0m\u001b[0;34m\"Code\"\u001b[0m\u001b[0;34m)\u001b[0m\u001b[0;34m\u001b[0m\u001b[0;34m\u001b[0m\u001b[0m\n\u001b[1;32m    675\u001b[0m             \u001b[0merror_class\u001b[0m \u001b[0;34m=\u001b[0m \u001b[0mself\u001b[0m\u001b[0;34m.\u001b[0m\u001b[0mexceptions\u001b[0m\u001b[0;34m.\u001b[0m\u001b[0mfrom_code\u001b[0m\u001b[0;34m(\u001b[0m\u001b[0merror_code\u001b[0m\u001b[0;34m)\u001b[0m\u001b[0;34m\u001b[0m\u001b[0;34m\u001b[0m\u001b[0m\n\u001b[0;32m--> 676\u001b[0;31m             \u001b[0;32mraise\u001b[0m \u001b[0merror_class\u001b[0m\u001b[0;34m(\u001b[0m\u001b[0mparsed_response\u001b[0m\u001b[0;34m,\u001b[0m \u001b[0moperation_name\u001b[0m\u001b[0;34m)\u001b[0m\u001b[0;34m\u001b[0m\u001b[0;34m\u001b[0m\u001b[0m\n\u001b[0m\u001b[1;32m    677\u001b[0m         \u001b[0;32melse\u001b[0m\u001b[0;34m:\u001b[0m\u001b[0;34m\u001b[0m\u001b[0;34m\u001b[0m\u001b[0m\n\u001b[1;32m    678\u001b[0m             \u001b[0;32mreturn\u001b[0m \u001b[0mparsed_response\u001b[0m\u001b[0;34m\u001b[0m\u001b[0;34m\u001b[0m\u001b[0m\n",
      "\u001b[0;31mModelError\u001b[0m: An error occurred (ModelError) when calling the InvokeEndpoint operation: Received server error (500) from model with message \"<!DOCTYPE HTML PUBLIC \"-//W3C//DTD HTML 3.2 Final//EN\">\n<title>500 Internal Server Error</title>\n<h1>Internal Server Error</h1>\n<p>The server encountered an internal error and was unable to complete your request.  Either the server is overloaded or there is an error in the application.</p>\n\". See https://us-east-2.console.aws.amazon.com/cloudwatch/home?region=us-east-2#logEventViewer:group=/aws/sagemaker/Endpoints/sagemaker-pytorch-2021-03-17-16-24-33-386 in account 693304196311 for more information."
     ]
    }
   ],
   "source": [
    "deployed.predict(test_data)"
   ]
  },
  {
   "cell_type": "markdown",
   "metadata": {},
   "source": [
    "Since the return value of our model is close to `1`, we can be certain that the review we submitted is positive."
   ]
  },
  {
   "cell_type": "markdown",
   "metadata": {},
   "source": [
    "### Delete the endpoint\n",
    "\n",
    "Of course, just like in the XGBoost notebook, once we've deployed an endpoint it continues to run until we tell it to shut down. Since we are done using our endpoint for now, we can delete it."
   ]
  },
  {
   "cell_type": "code",
   "execution_count": 105,
   "metadata": {},
   "outputs": [
    {
     "name": "stderr",
     "output_type": "stream",
     "text": [
      "estimator.delete_endpoint() will be deprecated in SageMaker Python SDK v2. Please use the delete_endpoint() function on your predictor instead.\n"
     ]
    }
   ],
   "source": [
    "estimator.delete_endpoint()"
   ]
  },
  {
   "cell_type": "markdown",
   "metadata": {},
   "source": [
    "## Step 6 (again) - Deploy the model for the web app\n",
    "\n",
    "Now that we know that our model is working, it's time to create some custom inference code so that we can send the model a review which has not been processed and have it determine the sentiment of the review.\n",
    "\n",
    "As we saw above, by default the estimator which we created, when deployed, will use the entry script and directory which we provided when creating the model. However, since we now wish to accept a string as input and our model expects a processed review, we need to write some custom inference code.\n",
    "\n",
    "We will store the code that we write in the `serve` directory. Provided in this directory is the `model.py` file that we used to construct our model, a `utils.py` file which contains the `review_to_words` and `convert_and_pad` pre-processing functions which we used during the initial data processing, and `predict.py`, the file which will contain our custom inference code. Note also that `requirements.txt` is present which will tell SageMaker what Python libraries are required by our custom inference code.\n",
    "\n",
    "When deploying a PyTorch model in SageMaker, you are expected to provide four functions which the SageMaker inference container will use.\n",
    " - `model_fn`: This function is the same function that we used in the training script and it tells SageMaker how to load our model.\n",
    " - `input_fn`: This function receives the raw serialized input that has been sent to the model's endpoint and its job is to de-serialize and make the input available for the inference code.\n",
    " - `output_fn`: This function takes the output of the inference code and its job is to serialize this output and return it to the caller of the model's endpoint.\n",
    " - `predict_fn`: The heart of the inference script, this is where the actual prediction is done and is the function which you will need to complete.\n",
    "\n",
    "For the simple website that we are constructing during this project, the `input_fn` and `output_fn` methods are relatively straightforward. We only require being able to accept a string as input and we expect to return a single value as output. You might imagine though that in a more complex application the input or output may be image data or some other binary data which would require some effort to serialize.\n",
    "\n",
    "### (TODO) Writing inference code\n",
    "\n",
    "Before writing our custom inference code, we will begin by taking a look at the code which has been provided."
   ]
  },
  {
   "cell_type": "code",
   "execution_count": null,
   "metadata": {},
   "outputs": [],
   "source": [
    "!pygmentize serve/predict.py"
   ]
  },
  {
   "cell_type": "markdown",
   "metadata": {},
   "source": [
    "As mentioned earlier, the `model_fn` method is the same as the one provided in the training code and the `input_fn` and `output_fn` methods are very simple and your task will be to complete the `predict_fn` method. Make sure that you save the completed file as `predict.py` in the `serve` directory.\n",
    "\n",
    "**TODO**: Complete the `predict_fn()` method in the `serve/predict.py` file."
   ]
  },
  {
   "cell_type": "markdown",
   "metadata": {},
   "source": [
    "### Deploying the model\n",
    "\n",
    "Now that the custom inference code has been written, we will create and deploy our model. To begin with, we need to construct a new PyTorchModel object which points to the model artifacts created during training and also points to the inference code that we wish to use. Then we can call the deploy method to launch the deployment container.\n",
    "\n",
    "**NOTE**: The default behaviour for a deployed PyTorch model is to assume that any input passed to the predictor is a `numpy` array. In our case we want to send a string so we need to construct a simple wrapper around the `RealTimePredictor` class to accomodate simple strings. In a more complicated situation you may want to provide a serialization object, for example if you wanted to sent image data."
   ]
  },
  {
   "cell_type": "code",
   "execution_count": null,
   "metadata": {},
   "outputs": [],
   "source": [
    "from sagemaker.predictor import RealTimePredictor\n",
    "from sagemaker.pytorch import PyTorchModel\n",
    "\n",
    "class StringPredictor(RealTimePredictor):\n",
    "    def __init__(self, endpoint_name, sagemaker_session):\n",
    "        super(StringPredictor, self).__init__(endpoint_name, sagemaker_session, content_type='text/plain')\n",
    "\n",
    "model = PyTorchModel(model_data=estimator.model_data,\n",
    "                     role = role,\n",
    "                     framework_version='0.4.0',\n",
    "                     entry_point='predict.py',\n",
    "                     source_dir='serve',\n",
    "                     predictor_cls=StringPredictor)\n",
    "predictor = model.deploy(initial_instance_count=1, instance_type='ml.m4.xlarge')"
   ]
  },
  {
   "cell_type": "markdown",
   "metadata": {},
   "source": [
    "### Testing the model\n",
    "\n",
    "Now that we have deployed our model with the custom inference code, we should test to see if everything is working. Here we test our model by loading the first `250` positive and negative reviews and send them to the endpoint, then collect the results. The reason for only sending some of the data is that the amount of time it takes for our model to process the input and then perform inference is quite long and so testing the entire data set would be prohibitive."
   ]
  },
  {
   "cell_type": "code",
   "execution_count": null,
   "metadata": {},
   "outputs": [],
   "source": [
    "import glob\n",
    "\n",
    "def test_reviews(data_dir='../data/aclImdb', stop=250):\n",
    "    \n",
    "    results = []\n",
    "    ground = []\n",
    "    \n",
    "    # We make sure to test both positive and negative reviews    \n",
    "    for sentiment in ['pos', 'neg']:\n",
    "        \n",
    "        path = os.path.join(data_dir, 'test', sentiment, '*.txt')\n",
    "        files = glob.glob(path)\n",
    "        \n",
    "        files_read = 0\n",
    "        \n",
    "        print('Starting ', sentiment, ' files')\n",
    "        \n",
    "        # Iterate through the files and send them to the predictor\n",
    "        for f in files:\n",
    "            with open(f) as review:\n",
    "                # First, we store the ground truth (was the review positive or negative)\n",
    "                if sentiment == 'pos':\n",
    "                    ground.append(1)\n",
    "                else:\n",
    "                    ground.append(0)\n",
    "                # Read in the review and convert to 'utf-8' for transmission via HTTP\n",
    "                review_input = review.read().encode('utf-8')\n",
    "                # Send the review to the predictor and store the results\n",
    "                results.append(float(predictor.predict(review_input)))\n",
    "                \n",
    "            # Sending reviews to our endpoint one at a time takes a while so we\n",
    "            # only send a small number of reviews\n",
    "            files_read += 1\n",
    "            if files_read == stop:\n",
    "                break\n",
    "            \n",
    "    return ground, results"
   ]
  },
  {
   "cell_type": "code",
   "execution_count": null,
   "metadata": {},
   "outputs": [],
   "source": [
    "ground, results = test_reviews()"
   ]
  },
  {
   "cell_type": "code",
   "execution_count": null,
   "metadata": {},
   "outputs": [],
   "source": [
    "from sklearn.metrics import accuracy_score\n",
    "accuracy_score(ground, results)"
   ]
  },
  {
   "cell_type": "markdown",
   "metadata": {},
   "source": [
    "As an additional test, we can try sending the `test_review` that we looked at earlier."
   ]
  },
  {
   "cell_type": "code",
   "execution_count": null,
   "metadata": {},
   "outputs": [],
   "source": [
    "predictor.predict(test_review)"
   ]
  },
  {
   "cell_type": "markdown",
   "metadata": {},
   "source": [
    "Now that we know our endpoint is working as expected, we can set up the web page that will interact with it. If you don't have time to finish the project now, make sure to skip down to the end of this notebook and shut down your endpoint. You can deploy it again when you come back."
   ]
  },
  {
   "cell_type": "markdown",
   "metadata": {},
   "source": [
    "## Step 7 (again): Use the model for the web app\n",
    "\n",
    "> **TODO:** This entire section and the next contain tasks for you to complete, mostly using the AWS console.\n",
    "\n",
    "So far we have been accessing our model endpoint by constructing a predictor object which uses the endpoint and then just using the predictor object to perform inference. What if we wanted to create a web app which accessed our model? The way things are set up currently makes that not possible since in order to access a SageMaker endpoint the app would first have to authenticate with AWS using an IAM role which included access to SageMaker endpoints. However, there is an easier way! We just need to use some additional AWS services.\n",
    "\n",
    "<img src=\"Web App Diagram.svg\">\n",
    "\n",
    "The diagram above gives an overview of how the various services will work together. On the far right is the model which we trained above and which is deployed using SageMaker. On the far left is our web app that collects a user's movie review, sends it off and expects a positive or negative sentiment in return.\n",
    "\n",
    "In the middle is where some of the magic happens. We will construct a Lambda function, which you can think of as a straightforward Python function that can be executed whenever a specified event occurs. We will give this function permission to send and recieve data from a SageMaker endpoint.\n",
    "\n",
    "Lastly, the method we will use to execute the Lambda function is a new endpoint that we will create using API Gateway. This endpoint will be a url that listens for data to be sent to it. Once it gets some data it will pass that data on to the Lambda function and then return whatever the Lambda function returns. Essentially it will act as an interface that lets our web app communicate with the Lambda function.\n",
    "\n",
    "### Setting up a Lambda function\n",
    "\n",
    "The first thing we are going to do is set up a Lambda function. This Lambda function will be executed whenever our public API has data sent to it. When it is executed it will receive the data, perform any sort of processing that is required, send the data (the review) to the SageMaker endpoint we've created and then return the result.\n",
    "\n",
    "#### Part A: Create an IAM Role for the Lambda function\n",
    "\n",
    "Since we want the Lambda function to call a SageMaker endpoint, we need to make sure that it has permission to do so. To do this, we will construct a role that we can later give the Lambda function.\n",
    "\n",
    "Using the AWS Console, navigate to the **IAM** page and click on **Roles**. Then, click on **Create role**. Make sure that the **AWS service** is the type of trusted entity selected and choose **Lambda** as the service that will use this role, then click **Next: Permissions**.\n",
    "\n",
    "In the search box type `sagemaker` and select the check box next to the **AmazonSageMakerFullAccess** policy. Then, click on **Next: Review**.\n",
    "\n",
    "Lastly, give this role a name. Make sure you use a name that you will remember later on, for example `LambdaSageMakerRole`. Then, click on **Create role**.\n",
    "\n",
    "#### Part B: Create a Lambda function\n",
    "\n",
    "Now it is time to actually create the Lambda function.\n",
    "\n",
    "Using the AWS Console, navigate to the AWS Lambda page and click on **Create a function**. When you get to the next page, make sure that **Author from scratch** is selected. Now, name your Lambda function, using a name that you will remember later on, for example `sentiment_analysis_func`. Make sure that the **Python 3.6** runtime is selected and then choose the role that you created in the previous part. Then, click on **Create Function**.\n",
    "\n",
    "On the next page you will see some information about the Lambda function you've just created. If you scroll down you should see an editor in which you can write the code that will be executed when your Lambda function is triggered. In our example, we will use the code below. \n",
    "\n",
    "```python\n",
    "# We need to use the low-level library to interact with SageMaker since the SageMaker API\n",
    "# is not available natively through Lambda.\n",
    "import boto3\n",
    "\n",
    "def lambda_handler(event, context):\n",
    "\n",
    "    # The SageMaker runtime is what allows us to invoke the endpoint that we've created.\n",
    "    runtime = boto3.Session().client('sagemaker-runtime')\n",
    "\n",
    "    # Now we use the SageMaker runtime to invoke our endpoint, sending the review we were given\n",
    "    response = runtime.invoke_endpoint(EndpointName = '**ENDPOINT NAME HERE**',    # The name of the endpoint we created\n",
    "                                       ContentType = 'text/plain',                 # The data format that is expected\n",
    "                                       Body = event['body'])                       # The actual review\n",
    "\n",
    "    # The response is an HTTP response whose body contains the result of our inference\n",
    "    result = response['Body'].read().decode('utf-8')\n",
    "\n",
    "    return {\n",
    "        'statusCode' : 200,\n",
    "        'headers' : { 'Content-Type' : 'text/plain', 'Access-Control-Allow-Origin' : '*' },\n",
    "        'body' : result\n",
    "    }\n",
    "```\n",
    "\n",
    "Once you have copy and pasted the code above into the Lambda code editor, replace the `**ENDPOINT NAME HERE**` portion with the name of the endpoint that we deployed earlier. You can determine the name of the endpoint using the code cell below."
   ]
  },
  {
   "cell_type": "code",
   "execution_count": null,
   "metadata": {},
   "outputs": [],
   "source": [
    "predictor.endpoint"
   ]
  },
  {
   "cell_type": "markdown",
   "metadata": {},
   "source": [
    "Once you have added the endpoint name to the Lambda function, click on **Save**. Your Lambda function is now up and running. Next we need to create a way for our web app to execute the Lambda function.\n",
    "\n",
    "### Setting up API Gateway\n",
    "\n",
    "Now that our Lambda function is set up, it is time to create a new API using API Gateway that will trigger the Lambda function we have just created.\n",
    "\n",
    "Using AWS Console, navigate to **Amazon API Gateway** and then click on **Get started**.\n",
    "\n",
    "On the next page, make sure that **New API** is selected and give the new api a name, for example, `sentiment_analysis_api`. Then, click on **Create API**.\n",
    "\n",
    "Now we have created an API, however it doesn't currently do anything. What we want it to do is to trigger the Lambda function that we created earlier.\n",
    "\n",
    "Select the **Actions** dropdown menu and click **Create Method**. A new blank method will be created, select its dropdown menu and select **POST**, then click on the check mark beside it.\n",
    "\n",
    "For the integration point, make sure that **Lambda Function** is selected and click on the **Use Lambda Proxy integration**. This option makes sure that the data that is sent to the API is then sent directly to the Lambda function with no processing. It also means that the return value must be a proper response object as it will also not be processed by API Gateway.\n",
    "\n",
    "Type the name of the Lambda function you created earlier into the **Lambda Function** text entry box and then click on **Save**. Click on **OK** in the pop-up box that then appears, giving permission to API Gateway to invoke the Lambda function you created.\n",
    "\n",
    "The last step in creating the API Gateway is to select the **Actions** dropdown and click on **Deploy API**. You will need to create a new Deployment stage and name it anything you like, for example `prod`.\n",
    "\n",
    "You have now successfully set up a public API to access your SageMaker model. Make sure to copy or write down the URL provided to invoke your newly created public API as this will be needed in the next step. This URL can be found at the top of the page, highlighted in blue next to the text **Invoke URL**."
   ]
  },
  {
   "cell_type": "markdown",
   "metadata": {},
   "source": [
    "## Step 4: Deploying our web app\n",
    "\n",
    "Now that we have a publicly available API, we can start using it in a web app. For our purposes, we have provided a simple static html file which can make use of the public api you created earlier.\n",
    "\n",
    "In the `website` folder there should be a file called `index.html`. Download the file to your computer and open that file up in a text editor of your choice. There should be a line which contains **\\*\\*REPLACE WITH PUBLIC API URL\\*\\***. Replace this string with the url that you wrote down in the last step and then save the file.\n",
    "\n",
    "Now, if you open `index.html` on your local computer, your browser will behave as a local web server and you can use the provided site to interact with your SageMaker model.\n",
    "\n",
    "If you'd like to go further, you can host this html file anywhere you'd like, for example using github or hosting a static site on Amazon's S3. Once you have done this you can share the link with anyone you'd like and have them play with it too!\n",
    "\n",
    "> **Important Note** In order for the web app to communicate with the SageMaker endpoint, the endpoint has to actually be deployed and running. This means that you are paying for it. Make sure that the endpoint is running when you want to use the web app but that you shut it down when you don't need it, otherwise you will end up with a surprisingly large AWS bill.\n",
    "\n",
    "**TODO:** Make sure that you include the edited `index.html` file in your project submission."
   ]
  },
  {
   "cell_type": "markdown",
   "metadata": {},
   "source": [
    "Now that your web app is working, trying playing around with it and see how well it works.\n",
    "\n",
    "**Question**: Give an example of a review that you entered into your web app. What was the predicted sentiment of your example review?"
   ]
  },
  {
   "cell_type": "markdown",
   "metadata": {},
   "source": [
    "**Answer:**"
   ]
  },
  {
   "cell_type": "markdown",
   "metadata": {},
   "source": [
    "### Delete the endpoint\n",
    "\n",
    "Remember to always shut down your endpoint if you are no longer using it. You are charged for the length of time that the endpoint is running so if you forget and leave it on you could end up with an unexpectedly large bill."
   ]
  },
  {
   "cell_type": "code",
   "execution_count": null,
   "metadata": {},
   "outputs": [],
   "source": [
    "predictor.delete_endpoint()"
   ]
  },
  {
   "cell_type": "code",
   "execution_count": null,
   "metadata": {},
   "outputs": [],
   "source": []
  }
 ],
 "metadata": {
  "kernelspec": {
   "display_name": "conda_pytorch_p36",
   "language": "python",
   "name": "conda_pytorch_p36"
  },
  "language_info": {
   "codemirror_mode": {
    "name": "ipython",
    "version": 3
   },
   "file_extension": ".py",
   "mimetype": "text/x-python",
   "name": "python",
   "nbconvert_exporter": "python",
   "pygments_lexer": "ipython3",
   "version": "3.6.13"
  }
 },
 "nbformat": 4,
 "nbformat_minor": 2
}
